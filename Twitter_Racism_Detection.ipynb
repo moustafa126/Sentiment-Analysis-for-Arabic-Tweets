{
  "nbformat": 4,
  "nbformat_minor": 0,
  "metadata": {
    "accelerator": "GPU",
    "colab": {
      "provenance": [],
      "toc_visible": true
    },
    "kernelspec": {
      "display_name": "Python 3",
      "name": "python3"
    }
  },
  "cells": [
    {
      "cell_type": "code",
      "metadata": {
        "colab": {
          "base_uri": "https://localhost:8080/"
        },
        "id": "bYCZKyoWpg4-",
        "outputId": "88499241-3552-48de-b3ec-75983ad6faf5"
      },
      "source": [
        "!pip install pyarabic"
      ],
      "execution_count": null,
      "outputs": [
        {
          "output_type": "stream",
          "text": [
            "Requirement already satisfied: pyarabic in /usr/local/lib/python3.7/dist-packages (0.6.10)\n"
          ],
          "name": "stdout"
        }
      ]
    },
    {
      "cell_type": "code",
      "metadata": {
        "id": "UZ1CXL9Aon9u"
      },
      "source": [
        "import pandas as pd\n",
        "import tensorflow as tf\n",
        "import re\n",
        "import pyarabic.araby as araby\n",
        "import nltk\n",
        "from nltk.corpus import stopwords\n",
        "import numpy as np\n",
        "import re\n",
        "import matplotlib.pyplot as plt\n",
        "import seaborn as sns\n",
        "import pyarabic.araby as araby\n",
        "import nltk\n",
        "from sklearn.utils import resample\n",
        "from sklearn.feature_extraction.text import TfidfVectorizer\n",
        "from sklearn.model_selection import train_test_split\n",
        "\n",
        "from sklearn import model_selection, preprocessing, linear_model, naive_bayes, metrics, svm\n",
        "from sklearn.feature_extraction.text import TfidfVectorizer, CountVectorizer\n",
        "from sklearn import decomposition, ensemble\n",
        "\n",
        "from sklearn.svm import SVC\n",
        "from sklearn.naive_bayes import MultinomialNB\n",
        "from sklearn.tree import DecisionTreeClassifier\n",
        "from sklearn.neighbors import KNeighborsClassifier\n",
        "from sklearn.ensemble import RandomForestClassifier\n",
        "from sklearn.metrics import accuracy_score\n",
        "from sklearn.metrics import precision_score\n",
        "from sklearn.metrics import f1_score\n",
        "from sklearn.metrics import recall_score"
      ],
      "execution_count": null,
      "outputs": []
    },
    {
      "cell_type": "code",
      "metadata": {
        "colab": {
          "base_uri": "https://localhost:8080/"
        },
        "id": "w_3Sx9W1oeJx",
        "outputId": "65f657c8-9da8-4e91-d31d-3fae8ef96dba"
      },
      "source": [
        "# Mounting Google Drive to load data\n",
        "\n",
        "from google.colab import drive\n",
        "drive.mount('/content/drive')"
      ],
      "execution_count": null,
      "outputs": [
        {
          "output_type": "stream",
          "text": [
            "Drive already mounted at /content/drive; to attempt to forcibly remount, call drive.mount(\"/content/drive\", force_remount=True).\n"
          ],
          "name": "stdout"
        }
      ]
    },
    {
      "cell_type": "markdown",
      "metadata": {
        "id": "c4YUvKINSsWg"
      },
      "source": [
        "# Data Reading and Exploration"
      ]
    },
    {
      "cell_type": "code",
      "metadata": {
        "colab": {
          "base_uri": "https://localhost:8080/"
        },
        "id": "BCHhZlBMn3vI",
        "outputId": "396c4e4e-1e98-4f26-a6d3-e61dd1f81221"
      },
      "source": [
        "# Labeled tweets filtering\n",
        "\n",
        "df = pd.read_csv('/content/drive/My Drive/Upwork/Racism/Dataset.csv')\n",
        "print(f'Total number of tweeets: {df.shape[0]}')\n",
        "\n",
        "df.drop_duplicates(subset='Tweet', keep='first',inplace=True) # Remove duplicated tweets\n",
        "df.dropna(subset=['Tweet'],inplace=True) # Remove duplicated tweets\n",
        "print(f'Number of unique tweets: {df.shape[0]}')"
      ],
      "execution_count": null,
      "outputs": [
        {
          "output_type": "stream",
          "text": [
            "Total number of tweeets: 10971\n",
            "Number of unique tweets: 10950\n"
          ],
          "name": "stdout"
        }
      ]
    },
    {
      "cell_type": "code",
      "metadata": {
        "colab": {
          "base_uri": "https://localhost:8080/",
          "height": 204
        },
        "id": "oacjx4ElRB6X",
        "outputId": "ef33623a-1bc9-450a-ba3e-aa7a4a3d37cc"
      },
      "source": [
        "df.head()"
      ],
      "execution_count": null,
      "outputs": [
        {
          "output_type": "execute_result",
          "data": {
            "text/html": [
              "<div>\n",
              "<style scoped>\n",
              "    .dataframe tbody tr th:only-of-type {\n",
              "        vertical-align: middle;\n",
              "    }\n",
              "\n",
              "    .dataframe tbody tr th {\n",
              "        vertical-align: top;\n",
              "    }\n",
              "\n",
              "    .dataframe thead th {\n",
              "        text-align: right;\n",
              "    }\n",
              "</style>\n",
              "<table border=\"1\" class=\"dataframe\">\n",
              "  <thead>\n",
              "    <tr style=\"text-align: right;\">\n",
              "      <th></th>\n",
              "      <th>Tweet</th>\n",
              "      <th>Label</th>\n",
              "    </tr>\n",
              "  </thead>\n",
              "  <tbody>\n",
              "    <tr>\n",
              "      <th>0</th>\n",
              "      <td>'لستُ بِمن يدبر المكائد والمؤامرات، وأنا بِهذ...</td>\n",
              "      <td>0</td>\n",
              "    </tr>\n",
              "    <tr>\n",
              "      <th>1</th>\n",
              "      <td>'كل الغباء أن تقضي حياتك في تتبع إرضاء فلان و...</td>\n",
              "      <td>0</td>\n",
              "    </tr>\n",
              "    <tr>\n",
              "      <th>2</th>\n",
              "      <td>'@abodealii38 ان ام دي مرا حلو لونها ماجيك يت...</td>\n",
              "      <td>0</td>\n",
              "    </tr>\n",
              "    <tr>\n",
              "      <th>3</th>\n",
              "      <td>'@alosmlly بقايا لا ارث لهم ولا تاريخ جعلوا م...</td>\n",
              "      <td>0</td>\n",
              "    </tr>\n",
              "    <tr>\n",
              "      <th>4</th>\n",
              "      <td>'@e_a7md @MBS_ST @abeer70120600 @fdeet_alnssr...</td>\n",
              "      <td>1</td>\n",
              "    </tr>\n",
              "  </tbody>\n",
              "</table>\n",
              "</div>"
            ],
            "text/plain": [
              "                                               Tweet  Label\n",
              "0   'لستُ بِمن يدبر المكائد والمؤامرات، وأنا بِهذ...      0\n",
              "1   'كل الغباء أن تقضي حياتك في تتبع إرضاء فلان و...      0\n",
              "2   '@abodealii38 ان ام دي مرا حلو لونها ماجيك يت...      0\n",
              "3   '@alosmlly بقايا لا ارث لهم ولا تاريخ جعلوا م...      0\n",
              "4   '@e_a7md @MBS_ST @abeer70120600 @fdeet_alnssr...      1"
            ]
          },
          "metadata": {
            "tags": []
          },
          "execution_count": 94
        }
      ]
    },
    {
      "cell_type": "code",
      "metadata": {
        "colab": {
          "base_uri": "https://localhost:8080/"
        },
        "id": "bOai1sUVj-HO",
        "outputId": "acc25cad-81fc-4fe5-83c7-942ee65c79ed"
      },
      "source": [
        "df.Label.unique()"
      ],
      "execution_count": null,
      "outputs": [
        {
          "output_type": "execute_result",
          "data": {
            "text/plain": [
              "array([0, 1])"
            ]
          },
          "metadata": {
            "tags": []
          },
          "execution_count": 95
        }
      ]
    },
    {
      "cell_type": "code",
      "metadata": {
        "colab": {
          "base_uri": "https://localhost:8080/",
          "height": 264
        },
        "id": "6m0XhE9S9Oi3",
        "outputId": "38df8211-2621-4742-c036-14dafbafd07e"
      },
      "source": [
        "#Plotting the number of  Racist vs not-Racist tweets\n",
        "df.Label = pd.to_numeric(df.Label)\n",
        "\n",
        "racist = sum(df.Label==1)\n",
        "not_racist = sum(df.Label==0)\n",
        "\n",
        "# Pie chart, where the slices will be ordered and plotted counter-clockwise:\n",
        "labels = 'Racist '+'('+str(racist)+')', 'Not Racist '+'('+str(not_racist)+')'\n",
        "sizes = [racist, not_racist]\n",
        "\n",
        "fig1, ax1 = plt.subplots()\n",
        "ax1.pie(sizes, labels=labels, autopct='%1.1f%%',\n",
        "        shadow=True, startangle=90)\n",
        "plt.title('Racist and Non Racist Tweets Ratio')\n",
        "plt.show()"
      ],
      "execution_count": null,
      "outputs": [
        {
          "output_type": "display_data",
          "data": {
            "image/png": "[encoded data removed]",
            "text/plain": [
              "<Figure size 432x288 with 1 Axes>"
            ]
          },
          "metadata": {
            "tags": []
          }
        }
      ]
    },
    {
      "cell_type": "code",
      "metadata": {
        "colab": {
          "base_uri": "https://localhost:8080/",
          "height": 404
        },
        "id": "bAp94AoQ9rYQ",
        "outputId": "f4b45a3c-dffe-415a-f95f-6f65b3551cf6"
      },
      "source": [
        "df['Length'] = df['Tweet'].str.len()\n",
        "plt.figure(figsize=(12.8,6))\n",
        "plt.title('Tweets length distribution (chars)')\n",
        "sns.histplot(df['Length']);"
      ],
      "execution_count": null,
      "outputs": [
        {
          "output_type": "display_data",
          "data": {
            "image/png": "[encoded data removed]",
            "text/plain": [
              "<Figure size 921.6x432 with 1 Axes>"
            ]
          },
          "metadata": {
            "tags": [],
            "needs_background": "light"
          }
        }
      ]
    },
    {
      "cell_type": "markdown",
      "metadata": {
        "id": "iWONso6jSwUF"
      },
      "source": [
        "# Data Pre-Processing"
      ]
    },
    {
      "cell_type": "code",
      "metadata": {
        "colab": {
          "base_uri": "https://localhost:8080/",
          "height": 204
        },
        "id": "vE7Oc9Kxp2jF",
        "outputId": "76d0b13d-0c02-4736-b709-ea107a51bbdf"
      },
      "source": [
        "# Removing non-Arabice characters and symbols\n",
        "\n",
        "df['Cleaned_1'] = df['Tweet'].map(lambda s: re.findall(r'[\\u0600-\\u06FF]+', s))\n",
        "df['Cleaned_1']  = df['Cleaned_1'].map(lambda s: str(s).replace(\",\", \"\").replace(\"'\",'').replace(\"[\",'').replace(\"]\",''))\n",
        "df.head(5)"
      ],
      "execution_count": null,
      "outputs": [
        {
          "output_type": "execute_result",
          "data": {
            "text/html": [
              "<div>\n",
              "<style scoped>\n",
              "    .dataframe tbody tr th:only-of-type {\n",
              "        vertical-align: middle;\n",
              "    }\n",
              "\n",
              "    .dataframe tbody tr th {\n",
              "        vertical-align: top;\n",
              "    }\n",
              "\n",
              "    .dataframe thead th {\n",
              "        text-align: right;\n",
              "    }\n",
              "</style>\n",
              "<table border=\"1\" class=\"dataframe\">\n",
              "  <thead>\n",
              "    <tr style=\"text-align: right;\">\n",
              "      <th></th>\n",
              "      <th>Tweet</th>\n",
              "      <th>Label</th>\n",
              "      <th>Length</th>\n",
              "      <th>Cleaned_1</th>\n",
              "    </tr>\n",
              "  </thead>\n",
              "  <tbody>\n",
              "    <tr>\n",
              "      <th>0</th>\n",
              "      <td>'لستُ بِمن يدبر المكائد والمؤامرات، وأنا بِهذ...</td>\n",
              "      <td>0</td>\n",
              "      <td>56</td>\n",
              "      <td>لستُ بِمن يدبر المكائد والمؤامرات، وأنا بِهذا ...</td>\n",
              "    </tr>\n",
              "    <tr>\n",
              "      <th>1</th>\n",
              "      <td>'كل الغباء أن تقضي حياتك في تتبع إرضاء فلان و...</td>\n",
              "      <td>0</td>\n",
              "      <td>193</td>\n",
              "      <td>كل الغباء أن تقضي حياتك في تتبع إرضاء فلان وفل...</td>\n",
              "    </tr>\n",
              "    <tr>\n",
              "      <th>2</th>\n",
              "      <td>'@abodealii38 ان ام دي مرا حلو لونها ماجيك يت...</td>\n",
              "      <td>0</td>\n",
              "      <td>71</td>\n",
              "      <td>ان ام دي مرا حلو لونها ماجيك يتغير كدا بس مو م...</td>\n",
              "    </tr>\n",
              "    <tr>\n",
              "      <th>3</th>\n",
              "      <td>'@alosmlly بقايا لا ارث لهم ولا تاريخ جعلوا م...</td>\n",
              "      <td>0</td>\n",
              "      <td>228</td>\n",
              "      <td>بقايا لا ارث لهم ولا تاريخ جعلوا من اسمهم لهم ...</td>\n",
              "    </tr>\n",
              "    <tr>\n",
              "      <th>4</th>\n",
              "      <td>'@e_a7md @MBS_ST @abeer70120600 @fdeet_alnssr...</td>\n",
              "      <td>1</td>\n",
              "      <td>145</td>\n",
              "      <td>مااعرف التوراة ولا الانجيل ولا بوذا انا مسلم و...</td>\n",
              "    </tr>\n",
              "  </tbody>\n",
              "</table>\n",
              "</div>"
            ],
            "text/plain": [
              "                                               Tweet  ...                                          Cleaned_1\n",
              "0   'لستُ بِمن يدبر المكائد والمؤامرات، وأنا بِهذ...  ...  لستُ بِمن يدبر المكائد والمؤامرات، وأنا بِهذا ...\n",
              "1   'كل الغباء أن تقضي حياتك في تتبع إرضاء فلان و...  ...  كل الغباء أن تقضي حياتك في تتبع إرضاء فلان وفل...\n",
              "2   '@abodealii38 ان ام دي مرا حلو لونها ماجيك يت...  ...  ان ام دي مرا حلو لونها ماجيك يتغير كدا بس مو م...\n",
              "3   '@alosmlly بقايا لا ارث لهم ولا تاريخ جعلوا م...  ...  بقايا لا ارث لهم ولا تاريخ جعلوا من اسمهم لهم ...\n",
              "4   '@e_a7md @MBS_ST @abeer70120600 @fdeet_alnssr...  ...  مااعرف التوراة ولا الانجيل ولا بوذا انا مسلم و...\n",
              "\n",
              "[5 rows x 4 columns]"
            ]
          },
          "metadata": {
            "tags": []
          },
          "execution_count": 98
        }
      ]
    },
    {
      "cell_type": "code",
      "metadata": {
        "colab": {
          "base_uri": "https://localhost:8080/",
          "height": 461
        },
        "id": "I1aN8viRo0H8",
        "outputId": "07cb051d-abee-42a5-cc34-46c1143278a5"
      },
      "source": [
        "# Cleaning text from non-Arabic characters, links, symbols, or emojis\n",
        "\n",
        "df['Cleaned_2'] = df['Cleaned_1'].str.replace(\"\\r\", \" \")\n",
        "df['Cleaned_2'] = df['Cleaned_2'].str.replace(\"http[s]?://[a-zA-Z0-9_\\-./~\\?=%&]+\", \" \")\n",
        "df['Cleaned_2'] = df['Cleaned_2'].str.replace(\"www[a-zA-Z0-9_\\-?=%&/.~]+\", \" \")\n",
        "df['Cleaned_2'] = df['Cleaned_2'].str.replace(\"[a-zA-Z]+\\.org\", \" \")\n",
        "df['Cleaned_2'] = df['Cleaned_2'].str.replace(\"://\", \" \")\n",
        "df['Cleaned_2'] = df['Cleaned_2'].str.replace(\"[a-zA-Z]+\\.com\", \" \")\n",
        "df['Cleaned_2'] = df['Cleaned_2'].str.replace(\"&[^;]+;\", \" \")\n",
        "df['Cleaned_2'] = df['Cleaned_2'].str.replace(\"\\s+\", \" \")\n",
        "df['Cleaned_2'] = df['Cleaned_2'].str.replace(\"ـ\", \"\")             # remove  ـــ char like اســــــم\n",
        "\n",
        "df.head(10)"
      ],
      "execution_count": null,
      "outputs": [
        {
          "output_type": "execute_result",
          "data": {
            "text/html": [
              "<div>\n",
              "<style scoped>\n",
              "    .dataframe tbody tr th:only-of-type {\n",
              "        vertical-align: middle;\n",
              "    }\n",
              "\n",
              "    .dataframe tbody tr th {\n",
              "        vertical-align: top;\n",
              "    }\n",
              "\n",
              "    .dataframe thead th {\n",
              "        text-align: right;\n",
              "    }\n",
              "</style>\n",
              "<table border=\"1\" class=\"dataframe\">\n",
              "  <thead>\n",
              "    <tr style=\"text-align: right;\">\n",
              "      <th></th>\n",
              "      <th>Tweet</th>\n",
              "      <th>Label</th>\n",
              "      <th>Length</th>\n",
              "      <th>Cleaned_1</th>\n",
              "      <th>Cleaned_2</th>\n",
              "    </tr>\n",
              "  </thead>\n",
              "  <tbody>\n",
              "    <tr>\n",
              "      <th>0</th>\n",
              "      <td>'لستُ بِمن يدبر المكائد والمؤامرات، وأنا بِهذ...</td>\n",
              "      <td>0</td>\n",
              "      <td>56</td>\n",
              "      <td>لستُ بِمن يدبر المكائد والمؤامرات، وأنا بِهذا ...</td>\n",
              "      <td>لستُ بِمن يدبر المكائد والمؤامرات، وأنا بِهذا ...</td>\n",
              "    </tr>\n",
              "    <tr>\n",
              "      <th>1</th>\n",
              "      <td>'كل الغباء أن تقضي حياتك في تتبع إرضاء فلان و...</td>\n",
              "      <td>0</td>\n",
              "      <td>193</td>\n",
              "      <td>كل الغباء أن تقضي حياتك في تتبع إرضاء فلان وفل...</td>\n",
              "      <td>كل الغباء أن تقضي حياتك في تتبع إرضاء فلان وفل...</td>\n",
              "    </tr>\n",
              "    <tr>\n",
              "      <th>2</th>\n",
              "      <td>'@abodealii38 ان ام دي مرا حلو لونها ماجيك يت...</td>\n",
              "      <td>0</td>\n",
              "      <td>71</td>\n",
              "      <td>ان ام دي مرا حلو لونها ماجيك يتغير كدا بس مو م...</td>\n",
              "      <td>ان ام دي مرا حلو لونها ماجيك يتغير كدا بس مو م...</td>\n",
              "    </tr>\n",
              "    <tr>\n",
              "      <th>3</th>\n",
              "      <td>'@alosmlly بقايا لا ارث لهم ولا تاريخ جعلوا م...</td>\n",
              "      <td>0</td>\n",
              "      <td>228</td>\n",
              "      <td>بقايا لا ارث لهم ولا تاريخ جعلوا من اسمهم لهم ...</td>\n",
              "      <td>بقايا لا ارث لهم ولا تاريخ جعلوا من اسمهم لهم ...</td>\n",
              "    </tr>\n",
              "    <tr>\n",
              "      <th>4</th>\n",
              "      <td>'@e_a7md @MBS_ST @abeer70120600 @fdeet_alnssr...</td>\n",
              "      <td>1</td>\n",
              "      <td>145</td>\n",
              "      <td>مااعرف التوراة ولا الانجيل ولا بوذا انا مسلم و...</td>\n",
              "      <td>مااعرف التوراة ولا الانجيل ولا بوذا انا مسلم و...</td>\n",
              "    </tr>\n",
              "    <tr>\n",
              "      <th>5</th>\n",
              "      <td>'كل التضامن مع الشعب السوداني الشقيق لتجاوز م...</td>\n",
              "      <td>0</td>\n",
              "      <td>249</td>\n",
              "      <td>كل التضامن مع الشعب السوداني الشقيق لتجاوز محن...</td>\n",
              "      <td>كل التضامن مع الشعب السوداني الشقيق لتجاوز محن...</td>\n",
              "    </tr>\n",
              "    <tr>\n",
              "      <th>6</th>\n",
              "      <td>'تصبحون على م تتمنون ♥️')</td>\n",
              "      <td>0</td>\n",
              "      <td>26</td>\n",
              "      <td>تصبحون على م تتمنون</td>\n",
              "      <td>تصبحون على م تتمنون</td>\n",
              "    </tr>\n",
              "    <tr>\n",
              "      <th>7</th>\n",
              "      <td>'RT @ELHeksos_nakba: \"إحنا المصريين الأرمن\"!!...</td>\n",
              "      <td>0</td>\n",
              "      <td>147</td>\n",
              "      <td>إحنا المصريين الأرمن بكرة يتقال إحنا المصريين ...</td>\n",
              "      <td>إحنا المصريين الأرمن بكرة يتقال إحنا المصريين ...</td>\n",
              "    </tr>\n",
              "    <tr>\n",
              "      <th>8</th>\n",
              "      <td>'ما أبي باكر بدونك')</td>\n",
              "      <td>0</td>\n",
              "      <td>21</td>\n",
              "      <td>ما أبي باكر بدونك</td>\n",
              "      <td>ما أبي باكر بدونك</td>\n",
              "    </tr>\n",
              "    <tr>\n",
              "      <th>9</th>\n",
              "      <td>'@Camrela ازيدك من الشعر بيت بعضهم يجحدك 😂')</td>\n",
              "      <td>0</td>\n",
              "      <td>45</td>\n",
              "      <td>ازيدك من الشعر بيت بعضهم يجحدك</td>\n",
              "      <td>ازيدك من الشعر بيت بعضهم يجحدك</td>\n",
              "    </tr>\n",
              "  </tbody>\n",
              "</table>\n",
              "</div>"
            ],
            "text/plain": [
              "                                               Tweet  ...                                          Cleaned_2\n",
              "0   'لستُ بِمن يدبر المكائد والمؤامرات، وأنا بِهذ...  ...  لستُ بِمن يدبر المكائد والمؤامرات، وأنا بِهذا ...\n",
              "1   'كل الغباء أن تقضي حياتك في تتبع إرضاء فلان و...  ...  كل الغباء أن تقضي حياتك في تتبع إرضاء فلان وفل...\n",
              "2   '@abodealii38 ان ام دي مرا حلو لونها ماجيك يت...  ...  ان ام دي مرا حلو لونها ماجيك يتغير كدا بس مو م...\n",
              "3   '@alosmlly بقايا لا ارث لهم ولا تاريخ جعلوا م...  ...  بقايا لا ارث لهم ولا تاريخ جعلوا من اسمهم لهم ...\n",
              "4   '@e_a7md @MBS_ST @abeer70120600 @fdeet_alnssr...  ...  مااعرف التوراة ولا الانجيل ولا بوذا انا مسلم و...\n",
              "5   'كل التضامن مع الشعب السوداني الشقيق لتجاوز م...  ...  كل التضامن مع الشعب السوداني الشقيق لتجاوز محن...\n",
              "6                          'تصبحون على م تتمنون ♥️')  ...                                تصبحون على م تتمنون\n",
              "7   'RT @ELHeksos_nakba: \"إحنا المصريين الأرمن\"!!...  ...  إحنا المصريين الأرمن بكرة يتقال إحنا المصريين ...\n",
              "8                               'ما أبي باكر بدونك')  ...                                  ما أبي باكر بدونك\n",
              "9       '@Camrela ازيدك من الشعر بيت بعضهم يجحدك 😂')  ...                     ازيدك من الشعر بيت بعضهم يجحدك\n",
              "\n",
              "[10 rows x 5 columns]"
            ]
          },
          "metadata": {
            "tags": []
          },
          "execution_count": 99
        }
      ]
    },
    {
      "cell_type": "code",
      "metadata": {
        "id": "oA0IsiPcSRDZ"
      },
      "source": [
        "# df.to_excel('cleaned_2.xlsx', index=False, header=None)"
      ],
      "execution_count": null,
      "outputs": []
    },
    {
      "cell_type": "code",
      "metadata": {
        "colab": {
          "base_uri": "https://localhost:8080/",
          "height": 289
        },
        "id": "wxYr89-dpUI3",
        "outputId": "eac402cf-b365-4458-e763-db4fa00bc7c8"
      },
      "source": [
        "# Removing Punctuation and \"tashkeel\"\n",
        "\n",
        "punctuation_signs = list(\"?:!.,;؟،\")\n",
        "\n",
        "for punct_sign in punctuation_signs:\n",
        "    df['Cleaned_2'] = df['Cleaned_1'].str.replace(punct_sign, ' ')\n",
        "\n",
        "df['Cleaned_3'] = df['Cleaned_2'].str.replace(\"\\s+\", \" \")             # remove  spaces\n",
        "\n",
        "df['Cleaned_3'] = df['Cleaned_3'].apply(araby.strip_tashkeel) #remove any تشكيل\n",
        "df['Cleaned_3'] = df['Cleaned_3'].str.replace(\"[أإآ]\", \"ا\") #normalize همزة\n",
        "df['Cleaned_3'] = df['Cleaned_3'].str.replace(\"ى\", \"ي\") #normalize ي,ى\n",
        "df['Cleaned_3'] = df['Cleaned_3'].str.replace(\"ة\", \"ه\") #normalize ة,ه\n",
        "\n",
        "df.head(5)"
      ],
      "execution_count": null,
      "outputs": [
        {
          "output_type": "execute_result",
          "data": {
            "text/html": [
              "<div>\n",
              "<style scoped>\n",
              "    .dataframe tbody tr th:only-of-type {\n",
              "        vertical-align: middle;\n",
              "    }\n",
              "\n",
              "    .dataframe tbody tr th {\n",
              "        vertical-align: top;\n",
              "    }\n",
              "\n",
              "    .dataframe thead th {\n",
              "        text-align: right;\n",
              "    }\n",
              "</style>\n",
              "<table border=\"1\" class=\"dataframe\">\n",
              "  <thead>\n",
              "    <tr style=\"text-align: right;\">\n",
              "      <th></th>\n",
              "      <th>Tweet</th>\n",
              "      <th>Label</th>\n",
              "      <th>Length</th>\n",
              "      <th>Cleaned_1</th>\n",
              "      <th>Cleaned_2</th>\n",
              "      <th>Cleaned_3</th>\n",
              "    </tr>\n",
              "  </thead>\n",
              "  <tbody>\n",
              "    <tr>\n",
              "      <th>0</th>\n",
              "      <td>'لستُ بِمن يدبر المكائد والمؤامرات، وأنا بِهذ...</td>\n",
              "      <td>0</td>\n",
              "      <td>56</td>\n",
              "      <td>لستُ بِمن يدبر المكائد والمؤامرات، وأنا بِهذا ...</td>\n",
              "      <td>لستُ بِمن يدبر المكائد والمؤامرات  وأنا بِهذا ...</td>\n",
              "      <td>لست بمن يدبر المكائد والمؤامرات وانا بهذا فخور</td>\n",
              "    </tr>\n",
              "    <tr>\n",
              "      <th>1</th>\n",
              "      <td>'كل الغباء أن تقضي حياتك في تتبع إرضاء فلان و...</td>\n",
              "      <td>0</td>\n",
              "      <td>193</td>\n",
              "      <td>كل الغباء أن تقضي حياتك في تتبع إرضاء فلان وفل...</td>\n",
              "      <td>كل الغباء أن تقضي حياتك في تتبع إرضاء فلان وفل...</td>\n",
              "      <td>كل الغباء ان تقضي حياتك في تتبع ارضاء فلان وفل...</td>\n",
              "    </tr>\n",
              "    <tr>\n",
              "      <th>2</th>\n",
              "      <td>'@abodealii38 ان ام دي مرا حلو لونها ماجيك يت...</td>\n",
              "      <td>0</td>\n",
              "      <td>71</td>\n",
              "      <td>ان ام دي مرا حلو لونها ماجيك يتغير كدا بس مو م...</td>\n",
              "      <td>ان ام دي مرا حلو لونها ماجيك يتغير كدا بس مو م...</td>\n",
              "      <td>ان ام دي مرا حلو لونها ماجيك يتغير كدا بس مو م...</td>\n",
              "    </tr>\n",
              "    <tr>\n",
              "      <th>3</th>\n",
              "      <td>'@alosmlly بقايا لا ارث لهم ولا تاريخ جعلوا م...</td>\n",
              "      <td>0</td>\n",
              "      <td>228</td>\n",
              "      <td>بقايا لا ارث لهم ولا تاريخ جعلوا من اسمهم لهم ...</td>\n",
              "      <td>بقايا لا ارث لهم ولا تاريخ جعلوا من اسمهم لهم ...</td>\n",
              "      <td>بقايا لا ارث لهم ولا تاريخ جعلوا من اسمهم لهم ...</td>\n",
              "    </tr>\n",
              "    <tr>\n",
              "      <th>4</th>\n",
              "      <td>'@e_a7md @MBS_ST @abeer70120600 @fdeet_alnssr...</td>\n",
              "      <td>1</td>\n",
              "      <td>145</td>\n",
              "      <td>مااعرف التوراة ولا الانجيل ولا بوذا انا مسلم و...</td>\n",
              "      <td>مااعرف التوراة ولا الانجيل ولا بوذا انا مسلم و...</td>\n",
              "      <td>مااعرف التوراه ولا الانجيل ولا بوذا انا مسلم و...</td>\n",
              "    </tr>\n",
              "  </tbody>\n",
              "</table>\n",
              "</div>"
            ],
            "text/plain": [
              "                                               Tweet  ...                                          Cleaned_3\n",
              "0   'لستُ بِمن يدبر المكائد والمؤامرات، وأنا بِهذ...  ...     لست بمن يدبر المكائد والمؤامرات وانا بهذا فخور\n",
              "1   'كل الغباء أن تقضي حياتك في تتبع إرضاء فلان و...  ...  كل الغباء ان تقضي حياتك في تتبع ارضاء فلان وفل...\n",
              "2   '@abodealii38 ان ام دي مرا حلو لونها ماجيك يت...  ...  ان ام دي مرا حلو لونها ماجيك يتغير كدا بس مو م...\n",
              "3   '@alosmlly بقايا لا ارث لهم ولا تاريخ جعلوا م...  ...  بقايا لا ارث لهم ولا تاريخ جعلوا من اسمهم لهم ...\n",
              "4   '@e_a7md @MBS_ST @abeer70120600 @fdeet_alnssr...  ...  مااعرف التوراه ولا الانجيل ولا بوذا انا مسلم و...\n",
              "\n",
              "[5 rows x 6 columns]"
            ]
          },
          "metadata": {
            "tags": []
          },
          "execution_count": 101
        }
      ]
    },
    {
      "cell_type": "code",
      "metadata": {
        "colab": {
          "base_uri": "https://localhost:8080/",
          "height": 289
        },
        "id": "j3312OX9qns0",
        "outputId": "3d1fed31-e953-4ae2-e00c-9b4badaf8324"
      },
      "source": [
        "# Removing repeated consecutive chars (more than 2)\n",
        "\n",
        "def remove_repeating_char(text):\n",
        "    return re.sub(r'(.)\\1{2,}', r'\\1', text)     # if we have 3 or more repeated chars keep only 1 repeat but if 2 leave it.\n",
        "# so it replaces \"كتاااااااااب\" with \"كتاب\"\n",
        "# but leaves \"تتمحور\" as it is.\n",
        "df['Cleaned_3'] = df['Cleaned_3']\n",
        "df['Cleaned_3'] = df['Cleaned_3'].apply(remove_repeating_char) #remove any repeating chars\n",
        "\n",
        "df.head(5)"
      ],
      "execution_count": null,
      "outputs": [
        {
          "output_type": "execute_result",
          "data": {
            "text/html": [
              "<div>\n",
              "<style scoped>\n",
              "    .dataframe tbody tr th:only-of-type {\n",
              "        vertical-align: middle;\n",
              "    }\n",
              "\n",
              "    .dataframe tbody tr th {\n",
              "        vertical-align: top;\n",
              "    }\n",
              "\n",
              "    .dataframe thead th {\n",
              "        text-align: right;\n",
              "    }\n",
              "</style>\n",
              "<table border=\"1\" class=\"dataframe\">\n",
              "  <thead>\n",
              "    <tr style=\"text-align: right;\">\n",
              "      <th></th>\n",
              "      <th>Tweet</th>\n",
              "      <th>Label</th>\n",
              "      <th>Length</th>\n",
              "      <th>Cleaned_1</th>\n",
              "      <th>Cleaned_2</th>\n",
              "      <th>Cleaned_3</th>\n",
              "    </tr>\n",
              "  </thead>\n",
              "  <tbody>\n",
              "    <tr>\n",
              "      <th>0</th>\n",
              "      <td>'لستُ بِمن يدبر المكائد والمؤامرات، وأنا بِهذ...</td>\n",
              "      <td>0</td>\n",
              "      <td>56</td>\n",
              "      <td>لستُ بِمن يدبر المكائد والمؤامرات، وأنا بِهذا ...</td>\n",
              "      <td>لستُ بِمن يدبر المكائد والمؤامرات  وأنا بِهذا ...</td>\n",
              "      <td>لست بمن يدبر المكائد والمؤامرات وانا بهذا فخور</td>\n",
              "    </tr>\n",
              "    <tr>\n",
              "      <th>1</th>\n",
              "      <td>'كل الغباء أن تقضي حياتك في تتبع إرضاء فلان و...</td>\n",
              "      <td>0</td>\n",
              "      <td>193</td>\n",
              "      <td>كل الغباء أن تقضي حياتك في تتبع إرضاء فلان وفل...</td>\n",
              "      <td>كل الغباء أن تقضي حياتك في تتبع إرضاء فلان وفل...</td>\n",
              "      <td>كل الغباء ان تقضي حياتك في تتبع ارضاء فلان وفل...</td>\n",
              "    </tr>\n",
              "    <tr>\n",
              "      <th>2</th>\n",
              "      <td>'@abodealii38 ان ام دي مرا حلو لونها ماجيك يت...</td>\n",
              "      <td>0</td>\n",
              "      <td>71</td>\n",
              "      <td>ان ام دي مرا حلو لونها ماجيك يتغير كدا بس مو م...</td>\n",
              "      <td>ان ام دي مرا حلو لونها ماجيك يتغير كدا بس مو م...</td>\n",
              "      <td>ان ام دي مرا حلو لونها ماجيك يتغير كدا بس مو م...</td>\n",
              "    </tr>\n",
              "    <tr>\n",
              "      <th>3</th>\n",
              "      <td>'@alosmlly بقايا لا ارث لهم ولا تاريخ جعلوا م...</td>\n",
              "      <td>0</td>\n",
              "      <td>228</td>\n",
              "      <td>بقايا لا ارث لهم ولا تاريخ جعلوا من اسمهم لهم ...</td>\n",
              "      <td>بقايا لا ارث لهم ولا تاريخ جعلوا من اسمهم لهم ...</td>\n",
              "      <td>بقايا لا ارث لهم ولا تاريخ جعلوا من اسمهم لهم ...</td>\n",
              "    </tr>\n",
              "    <tr>\n",
              "      <th>4</th>\n",
              "      <td>'@e_a7md @MBS_ST @abeer70120600 @fdeet_alnssr...</td>\n",
              "      <td>1</td>\n",
              "      <td>145</td>\n",
              "      <td>مااعرف التوراة ولا الانجيل ولا بوذا انا مسلم و...</td>\n",
              "      <td>مااعرف التوراة ولا الانجيل ولا بوذا انا مسلم و...</td>\n",
              "      <td>مااعرف التوراه ولا الانجيل ولا بوذا انا مسلم و...</td>\n",
              "    </tr>\n",
              "  </tbody>\n",
              "</table>\n",
              "</div>"
            ],
            "text/plain": [
              "                                               Tweet  ...                                          Cleaned_3\n",
              "0   'لستُ بِمن يدبر المكائد والمؤامرات، وأنا بِهذ...  ...     لست بمن يدبر المكائد والمؤامرات وانا بهذا فخور\n",
              "1   'كل الغباء أن تقضي حياتك في تتبع إرضاء فلان و...  ...  كل الغباء ان تقضي حياتك في تتبع ارضاء فلان وفل...\n",
              "2   '@abodealii38 ان ام دي مرا حلو لونها ماجيك يت...  ...  ان ام دي مرا حلو لونها ماجيك يتغير كدا بس مو م...\n",
              "3   '@alosmlly بقايا لا ارث لهم ولا تاريخ جعلوا م...  ...  بقايا لا ارث لهم ولا تاريخ جعلوا من اسمهم لهم ...\n",
              "4   '@e_a7md @MBS_ST @abeer70120600 @fdeet_alnssr...  ...  مااعرف التوراه ولا الانجيل ولا بوذا انا مسلم و...\n",
              "\n",
              "[5 rows x 6 columns]"
            ]
          },
          "metadata": {
            "tags": []
          },
          "execution_count": 102
        }
      ]
    },
    {
      "cell_type": "code",
      "metadata": {
        "colab": {
          "base_uri": "https://localhost:8080/"
        },
        "id": "657UvImGpUsS",
        "outputId": "28802fa3-653c-4b98-9ca1-97a2b595b583"
      },
      "source": [
        "# Loading Arabic stop-words\n",
        "nltk.download('stopwords')\n",
        "stop_words = list(stopwords.words('arabic'))\n",
        "stop_words = [s.replace(\"أ\", \"ا\").replace(\"إ\", \"ا\").replace(\"آ\", \"ا\") for s in stop_words] #normalize همزة\n",
        "print(stop_words)"
      ],
      "execution_count": null,
      "outputs": [
        {
          "output_type": "stream",
          "text": [
            "[nltk_data] Downloading package stopwords to /root/nltk_data...\n",
            "[nltk_data]   Package stopwords is already up-to-date!\n",
            "['اذ', 'اذا', 'اذما', 'اذن', 'اف', 'اقل', 'اكثر', 'الا', 'الا', 'التي', 'الذي', 'الذين', 'اللاتي', 'اللائي', 'اللتان', 'اللتيا', 'اللتين', 'اللذان', 'اللذين', 'اللواتي', 'الى', 'اليك', 'اليكم', 'اليكما', 'اليكن', 'ام', 'اما', 'اما', 'اما', 'ان', 'ان', 'انا', 'انا', 'انت', 'انتم', 'انتما', 'انتن', 'انما', 'انه', 'انى', 'انى', 'اه', 'اها', 'او', 'اولاء', 'اولئك', 'اوه', 'اي', 'اي', 'ايها', 'اي', 'اين', 'اين', 'اينما', 'ايه', 'بخ', 'بس', 'بعد', 'بعض', 'بك', 'بكم', 'بكم', 'بكما', 'بكن', 'بل', 'بلى', 'بما', 'بماذا', 'بمن', 'بنا', 'به', 'بها', 'بهم', 'بهما', 'بهن', 'بي', 'بين', 'بيد', 'تلك', 'تلكم', 'تلكما', 'ته', 'تي', 'تين', 'تينك', 'ثم', 'ثمة', 'حاشا', 'حبذا', 'حتى', 'حيث', 'حيثما', 'حين', 'خلا', 'دون', 'ذا', 'ذات', 'ذاك', 'ذان', 'ذانك', 'ذلك', 'ذلكم', 'ذلكما', 'ذلكن', 'ذه', 'ذو', 'ذوا', 'ذواتا', 'ذواتي', 'ذي', 'ذين', 'ذينك', 'ريث', 'سوف', 'سوى', 'شتان', 'عدا', 'عسى', 'عل', 'على', 'عليك', 'عليه', 'عما', 'عن', 'عند', 'غير', 'فاذا', 'فان', 'فلا', 'فمن', 'في', 'فيم', 'فيما', 'فيه', 'فيها', 'قد', 'كان', 'كانما', 'كاي', 'كاين', 'كذا', 'كذلك', 'كل', 'كلا', 'كلاهما', 'كلتا', 'كلما', 'كليكما', 'كليهما', 'كم', 'كم', 'كما', 'كي', 'كيت', 'كيف', 'كيفما', 'لا', 'لاسيما', 'لدى', 'لست', 'لستم', 'لستما', 'لستن', 'لسن', 'لسنا', 'لعل', 'لك', 'لكم', 'لكما', 'لكن', 'لكنما', 'لكي', 'لكيلا', 'لم', 'لما', 'لن', 'لنا', 'له', 'لها', 'لهم', 'لهما', 'لهن', 'لو', 'لولا', 'لوما', 'لي', 'لئن', 'ليت', 'ليس', 'ليسا', 'ليست', 'ليستا', 'ليسوا', 'ما', 'ماذا', 'متى', 'مذ', 'مع', 'مما', 'ممن', 'من', 'منه', 'منها', 'منذ', 'مه', 'مهما', 'نحن', 'نحو', 'نعم', 'ها', 'هاتان', 'هاته', 'هاتي', 'هاتين', 'هاك', 'هاهنا', 'هذا', 'هذان', 'هذه', 'هذي', 'هذين', 'هكذا', 'هل', 'هلا', 'هم', 'هما', 'هن', 'هنا', 'هناك', 'هنالك', 'هو', 'هؤلاء', 'هي', 'هيا', 'هيت', 'هيهات', 'والذي', 'والذين', 'واذ', 'واذا', 'وان', 'ولا', 'ولكن', 'ولو', 'وما', 'ومن', 'وهو', 'يا']\n"
          ],
          "name": "stdout"
        }
      ]
    },
    {
      "cell_type": "code",
      "metadata": {
        "colab": {
          "base_uri": "https://localhost:8080/",
          "height": 340
        },
        "id": "M5dgeFx7qi46",
        "outputId": "575bb5a9-7615-4d48-bfa0-83f547c1eebc"
      },
      "source": [
        "# Removing stop-words\n",
        "\n",
        "df['Cleaned_4'] = df['Cleaned_3']\n",
        "for stop_word in stop_words:\n",
        "    regex_stopword = r\"\\b\" + stop_word + r\"\\b\"\n",
        "    df['Cleaned_4'] = df['Cleaned_4'].str.replace(regex_stopword, '')\n",
        "df.reset_index(inplace=True)\n",
        "df.head(5)"
      ],
      "execution_count": null,
      "outputs": [
        {
          "output_type": "execute_result",
          "data": {
            "text/html": [
              "<div>\n",
              "<style scoped>\n",
              "    .dataframe tbody tr th:only-of-type {\n",
              "        vertical-align: middle;\n",
              "    }\n",
              "\n",
              "    .dataframe tbody tr th {\n",
              "        vertical-align: top;\n",
              "    }\n",
              "\n",
              "    .dataframe thead th {\n",
              "        text-align: right;\n",
              "    }\n",
              "</style>\n",
              "<table border=\"1\" class=\"dataframe\">\n",
              "  <thead>\n",
              "    <tr style=\"text-align: right;\">\n",
              "      <th></th>\n",
              "      <th>index</th>\n",
              "      <th>Tweet</th>\n",
              "      <th>Label</th>\n",
              "      <th>Length</th>\n",
              "      <th>Cleaned_1</th>\n",
              "      <th>Cleaned_2</th>\n",
              "      <th>Cleaned_3</th>\n",
              "      <th>Cleaned_4</th>\n",
              "    </tr>\n",
              "  </thead>\n",
              "  <tbody>\n",
              "    <tr>\n",
              "      <th>0</th>\n",
              "      <td>0</td>\n",
              "      <td>'لستُ بِمن يدبر المكائد والمؤامرات، وأنا بِهذ...</td>\n",
              "      <td>0</td>\n",
              "      <td>56</td>\n",
              "      <td>لستُ بِمن يدبر المكائد والمؤامرات، وأنا بِهذا ...</td>\n",
              "      <td>لستُ بِمن يدبر المكائد والمؤامرات  وأنا بِهذا ...</td>\n",
              "      <td>لست بمن يدبر المكائد والمؤامرات وانا بهذا فخور</td>\n",
              "      <td>يدبر المكائد والمؤامرات وانا بهذا فخور</td>\n",
              "    </tr>\n",
              "    <tr>\n",
              "      <th>1</th>\n",
              "      <td>1</td>\n",
              "      <td>'كل الغباء أن تقضي حياتك في تتبع إرضاء فلان و...</td>\n",
              "      <td>0</td>\n",
              "      <td>193</td>\n",
              "      <td>كل الغباء أن تقضي حياتك في تتبع إرضاء فلان وفل...</td>\n",
              "      <td>كل الغباء أن تقضي حياتك في تتبع إرضاء فلان وفل...</td>\n",
              "      <td>كل الغباء ان تقضي حياتك في تتبع ارضاء فلان وفل...</td>\n",
              "      <td>الغباء  تقضي حياتك  تتبع ارضاء فلان وفلان افع...</td>\n",
              "    </tr>\n",
              "    <tr>\n",
              "      <th>2</th>\n",
              "      <td>2</td>\n",
              "      <td>'@abodealii38 ان ام دي مرا حلو لونها ماجيك يت...</td>\n",
              "      <td>0</td>\n",
              "      <td>71</td>\n",
              "      <td>ان ام دي مرا حلو لونها ماجيك يتغير كدا بس مو م...</td>\n",
              "      <td>ان ام دي مرا حلو لونها ماجيك يتغير كدا بس مو م...</td>\n",
              "      <td>ان ام دي مرا حلو لونها ماجيك يتغير كدا بس مو م...</td>\n",
              "      <td>دي مرا حلو لونها ماجيك يتغير كدا  مو مرا مريحه</td>\n",
              "    </tr>\n",
              "    <tr>\n",
              "      <th>3</th>\n",
              "      <td>3</td>\n",
              "      <td>'@alosmlly بقايا لا ارث لهم ولا تاريخ جعلوا م...</td>\n",
              "      <td>0</td>\n",
              "      <td>228</td>\n",
              "      <td>بقايا لا ارث لهم ولا تاريخ جعلوا من اسمهم لهم ...</td>\n",
              "      <td>بقايا لا ارث لهم ولا تاريخ جعلوا من اسمهم لهم ...</td>\n",
              "      <td>بقايا لا ارث لهم ولا تاريخ جعلوا من اسمهم لهم ...</td>\n",
              "      <td>بقايا  ارث   تاريخ جعلوا  اسمهم  مجيد وتاريخ و...</td>\n",
              "    </tr>\n",
              "    <tr>\n",
              "      <th>4</th>\n",
              "      <td>4</td>\n",
              "      <td>'@e_a7md @MBS_ST @abeer70120600 @fdeet_alnssr...</td>\n",
              "      <td>1</td>\n",
              "      <td>145</td>\n",
              "      <td>مااعرف التوراة ولا الانجيل ولا بوذا انا مسلم و...</td>\n",
              "      <td>مااعرف التوراة ولا الانجيل ولا بوذا انا مسلم و...</td>\n",
              "      <td>مااعرف التوراه ولا الانجيل ولا بوذا انا مسلم و...</td>\n",
              "      <td>مااعرف التوراه  الانجيل  بوذا  مسلم واعرف  قرا...</td>\n",
              "    </tr>\n",
              "  </tbody>\n",
              "</table>\n",
              "</div>"
            ],
            "text/plain": [
              "   index  ...                                          Cleaned_4\n",
              "0      0  ...             يدبر المكائد والمؤامرات وانا بهذا فخور\n",
              "1      1  ...   الغباء  تقضي حياتك  تتبع ارضاء فلان وفلان افع...\n",
              "2      2  ...     دي مرا حلو لونها ماجيك يتغير كدا  مو مرا مريحه\n",
              "3      3  ...  بقايا  ارث   تاريخ جعلوا  اسمهم  مجيد وتاريخ و...\n",
              "4      4  ...  مااعرف التوراه  الانجيل  بوذا  مسلم واعرف  قرا...\n",
              "\n",
              "[5 rows x 8 columns]"
            ]
          },
          "metadata": {
            "tags": []
          },
          "execution_count": 104
        }
      ]
    },
    {
      "cell_type": "code",
      "metadata": {
        "colab": {
          "base_uri": "https://localhost:8080/"
        },
        "id": "qZqI4gyxqktQ",
        "outputId": "b7b8c69d-d4ba-4650-8258-f52327453913"
      },
      "source": [
        "#Sample of the final cleaned tweets\n",
        "import random\n",
        "for i in range(30):\n",
        "    n = random.randint(0, len(df))\n",
        "    if df['Cleaned_4'][n]:\n",
        "        print(f\"{i}: {df['Cleaned_4'][n].strip()}\")"
      ],
      "execution_count": null,
      "outputs": [
        {
          "output_type": "stream",
          "text": [
            "1: تفكر كثيرا  استغفر كثيرا ؛ فالله يفتح بالاستغفار ابوابا  تفتح بالتفكير استغفرالله استغفرالله استغفرالله\n",
            "2: التضامن  الشعب السوداني الشقيق لتجاوز محنته اثر السيول والفيضانات  اجتاحته واسفرت  خسائر  الارواح وخالص تعازينا ومواساتنا الي اسر الضحايا وتمنياتنا بالشفاء العاجل للمصابين والسلامه لـ السودان نقف  السودان  قلبي سلام للخرطوم\n",
            "3: الان  كامل انطفائي\n",
            "4: وابوها يذبحها\n",
            "5: سمحت\n",
            "6: باذن الله فوز للاصفر الكبير الاتحاد النصر\n",
            "7: شي\n",
            "8: اللي فرط بالاقصي  الفلسطز انفسهم عندما باعوها لليهود  العشرينات و الثلاثينات ووالدك مصطفي ريان   كبا\n",
            "9: جوليانو بيتروس موسي استمرار  الثلاثي كارثه الاتحاد النصر\n",
            "10: الاول الجلاد\n",
            "11: جالس  اخوي وقت مانزلت الصور ويقولي اول صوره تصورها وتطلع حلوه\n",
            "12: دوم\n",
            "13: يمبسطون  انهوا مسلسل عشان يبدؤون بواحد ثاني وانا امبسط  انهيته عشان ارجع لافضل حوارات المسلسل واحفظها\n",
            "14: السلام عليكم ممكن تردين خاص\n",
            "15: هاي انجازات حكومه العتاكه الهمج الي مو كادرين يحمون العراق ويحجون علي صدام\n",
            "16: دائما وابدا انشالله\n",
            "17: بنات ويش فيكم\n",
            "18: باعو الكضيه والهويه حتي لحفادهم يبحثون  المتاجره فقط\n",
            "19: م  سبه ثانيا الفلبن ذول بشر زيكم  مرضي الله  يبلانا\n",
            "21: العفو والي يرفع الضغط  عمال ماك سعوديين والدلوخ يقولون فلبن فكك\n",
            "22: بيض الله وجهك ي بن عويد والله الفلسطز مايبيلهم  ب النعال اعزك الله تضربه وجيهم الكالحه هذولي خونه وقوادين باعو وتاجرو بارضهم واشغلونا\n",
            "23: ليه تكرهين السعاوده مااكرهم اكره افكارهم ومعتقداتهم والتربيه الي تربو عليها بالعكس عندي سعوديين اتابعهم محترمين وراقين جدا\n",
            "24: متوقعت يزعل\n",
            "25: تشوف شر بوحسين و تقوم بالسلامه  رب\n",
            "26: الاخوان يهددون بقلب نظام الحكم  السعوديه لانهم سنه بينما الحوثي زيدي  المستحيل   لان الشعب السعودي سني والانتقالي هدفه تقسيم اليمن  يفتح الباب علي تقسيم المملكه بينما الحوثي وحدوي اكرر الاخوان والانتقالي اخطر علي السعوديه  الحوثي\n",
            "27: ممكن تلاقيني مسحت الـ الي نزلتو  دقيقتين   سرت نفس الشخص الي   دقيقتين\n",
            "28: المليارات والله خساره راحت  والسعودي يقول رجال  يقول ريال فرق  الخليج بلهجه ونا اكتشف انكم بكل مكان تسبو السعوديه وبعدين ياخي مالك علاقه  علاقات الدول  اسراييل ياخي  حر اللي بيعملو خلك  الكضيه  تتنسي فضل السعوديه عليكم\n",
            "29: حبيبتي  تتنمر علي كيفها الدنيا سلماات  اهلها ماربوها الحكومه تربيها وماله شغل عبيد الفلبن ترا مريضه انتي غبييه وشوو تنمر علي كيفها  قال ايش عبيد الفلبن روحي\n"
          ],
          "name": "stdout"
        }
      ]
    },
    {
      "cell_type": "code",
      "metadata": {
        "colab": {
          "base_uri": "https://localhost:8080/"
        },
        "id": "05aYGXnVlFWd",
        "outputId": "7f1358fc-9b65-471b-f79b-45625977bc6e"
      },
      "source": [
        "short_cleaned_tweets = sum([1 for i in df.Cleaned_4.str.split() if len(i) < 3])\n",
        "short_cleaned_tweets"
      ],
      "execution_count": null,
      "outputs": [
        {
          "output_type": "execute_result",
          "data": {
            "text/plain": [
              "1740"
            ]
          },
          "metadata": {
            "tags": []
          },
          "execution_count": 106
        }
      ]
    },
    {
      "cell_type": "code",
      "metadata": {
        "colab": {
          "base_uri": "https://localhost:8080/"
        },
        "id": "qKyrVOeZoA6X",
        "outputId": "32f49b52-e63f-425c-c486-445933ece807"
      },
      "source": [
        "# numbers of Rows and Columns\n",
        "df.shape"
      ],
      "execution_count": null,
      "outputs": [
        {
          "output_type": "execute_result",
          "data": {
            "text/plain": [
              "(10950, 8)"
            ]
          },
          "metadata": {
            "tags": []
          },
          "execution_count": 107
        }
      ]
    },
    {
      "cell_type": "code",
      "metadata": {
        "colab": {
          "base_uri": "https://localhost:8080/"
        },
        "id": "mUHxRv4Gck54",
        "outputId": "d369d796-6adf-4151-c5ff-1dcdd4e97825"
      },
      "source": [
        "from sklearn.model_selection import train_test_split\n",
        "# Splitting data to train and test sets\n",
        "df.Labels = pd.to_numeric(df.Label)\n",
        "X_train, X_test, y_train, y_test = train_test_split(df['Cleaned_4'],\n",
        "                                                    df['Label'],\n",
        "                                                    test_size=0.2,\n",
        "                                                    random_state=0)\n",
        "X_train, X_val, y_train, y_val = train_test_split(X_train,\n",
        "                                                    y_train,\n",
        "                                                    test_size=0.125,\n",
        "                                                    random_state=0)\n",
        "print(X_train.shape)\n",
        "print(X_test.shape)\n",
        "print(X_val.shape)"
      ],
      "execution_count": null,
      "outputs": [
        {
          "output_type": "stream",
          "text": [
            "(7665,)\n",
            "(2190,)\n",
            "(1095,)\n"
          ],
          "name": "stdout"
        },
        {
          "output_type": "stream",
          "text": [
            "/usr/local/lib/python3.7/dist-packages/ipykernel_launcher.py:3: UserWarning: Pandas doesn't allow columns to be created via a new attribute name - see https://pandas.pydata.org/pandas-docs/stable/indexing.html#attribute-access\n",
            "  This is separate from the ipykernel package so we can avoid doing imports until\n"
          ],
          "name": "stderr"
        }
      ]
    },
    {
      "cell_type": "code",
      "metadata": {
        "colab": {
          "base_uri": "https://localhost:8080/"
        },
        "id": "SSuz4vOsIC1g",
        "outputId": "3bb16b5d-56e6-4af9-9b66-661c789e8c1a"
      },
      "source": [
        "# Separate majority and minority classes\n",
        "df_majority = X_train[y_train==0]\n",
        "df_minority = X_train[y_train==1]\n",
        "\n",
        "# Upsample minority class\n",
        "df_minority_upsampled = resample(df_minority,\n",
        "                                 replace=True,     # sample with replacement\n",
        "                                 n_samples=len(df_majority),    # to match majority class\n",
        "                                 random_state=0) # reproducible results\n",
        "\n",
        "# Combine majority class with upsampled minority class\n",
        "y_train_upsampled = np.concatenate((np.zeros_like(df_majority),np.ones_like(df_minority_upsampled)))\n",
        "y_train_upsampled = y_train_upsampled.astype('int')\n",
        "X_train_upsampled = pd.concat([df_majority, df_minority_upsampled]).values\n",
        "\n",
        "# Display new class counts\n",
        "print(len(df_minority_upsampled))\n",
        "print(len(X_train_upsampled))"
      ],
      "execution_count": null,
      "outputs": [
        {
          "output_type": "stream",
          "text": [
            "6187\n",
            "12374\n"
          ],
          "name": "stdout"
        }
      ]
    },
    {
      "cell_type": "code",
      "metadata": {
        "id": "4Vb3MmIRIQFg"
      },
      "source": [
        "y_test = y_test.astype('int')\n",
        "y_val = y_val.astype('int')"
      ],
      "execution_count": null,
      "outputs": []
    },
    {
      "cell_type": "markdown",
      "metadata": {
        "id": "IEYLd9evtVWo"
      },
      "source": [
        "# Machine Learning\n"
      ]
    },
    {
      "cell_type": "code",
      "metadata": {
        "colab": {
          "base_uri": "https://localhost:8080/"
        },
        "id": "qmVXmQEt3J9W",
        "outputId": "c265b9cb-9cbe-450d-996a-0da410352397"
      },
      "source": [
        "# Separate majority and minority classes\n",
        "df_majority = X_train[y_train==0]\n",
        "df_minority = X_train[y_train==1]\n",
        "\n",
        "# Upsample minority class\n",
        "df_minority_upsampled = resample(df_minority,\n",
        "                                 replace=True,     # sample with replacement\n",
        "                                 n_samples=len(df_majority),    # to match majority class\n",
        "                                 random_state=0) # reproducible results\n",
        "\n",
        "# Combine majority class with upsampled minority class\n",
        "y_train_upsampled = np.concatenate((np.zeros_like(df_majority),np.ones_like(df_minority_upsampled)))\n",
        "y_train_upsampled = y_train_upsampled.astype('int')\n",
        "X_train_upsampled = pd.concat([df_majority, df_minority_upsampled]).values\n",
        "y_test=y_test.astype('int')\n",
        "\n",
        "\n",
        "print(len(df_minority_upsampled))\n",
        "print(len(df_majority))"
      ],
      "execution_count": null,
      "outputs": [
        {
          "output_type": "stream",
          "text": [
            "6187\n",
            "6187\n"
          ],
          "name": "stdout"
        }
      ]
    },
    {
      "cell_type": "code",
      "metadata": {
        "id": "eL4xBNsL338e"
      },
      "source": [
        "# Feature Extraction\n",
        "\n",
        "# word level tf-idf\n",
        "tfidf_vect = TfidfVectorizer(analyzer='word', strip_accents='unicode', binary=True)\n",
        "tfidf_vect.fit(X_train_upsampled)\n",
        "xtrain_tfidf =  tfidf_vect.transform(X_train_upsampled)\n",
        "xvalid_tfidf =  tfidf_vect.transform(X_test.values)"
      ],
      "execution_count": null,
      "outputs": []
    },
    {
      "cell_type": "code",
      "metadata": {
        "colab": {
          "base_uri": "https://localhost:8080/"
        },
        "id": "Pga1EXo24bqK",
        "outputId": "d8970a5a-8c12-4045-ef18-baaa2f085233"
      },
      "source": [
        "xtrain_tfidf.shape"
      ],
      "execution_count": null,
      "outputs": [
        {
          "output_type": "execute_result",
          "data": {
            "text/plain": [
              "(12374, 29805)"
            ]
          },
          "metadata": {
            "tags": []
          },
          "execution_count": 54
        }
      ]
    },
    {
      "cell_type": "code",
      "metadata": {
        "colab": {
          "base_uri": "https://localhost:8080/"
        },
        "id": "xrVcq1LH4xOY",
        "outputId": "6c1cfb44-7f85-458f-d478-66cbecb48ac8"
      },
      "source": [
        "y_train_upsampled.shape"
      ],
      "execution_count": null,
      "outputs": [
        {
          "output_type": "execute_result",
          "data": {
            "text/plain": [
              "(12374,)"
            ]
          },
          "metadata": {
            "tags": []
          },
          "execution_count": 55
        }
      ]
    },
    {
      "cell_type": "code",
      "metadata": {
        "id": "ZsLCekAD6opN"
      },
      "source": [
        "# All paramaters are determined by trial and error except for SVC - used a Gird Search -\n",
        "\n",
        "svc = SVC(kernel='rbf', C=3, gamma='scale')\n",
        "knc = KNeighborsClassifier(n_neighbors=3)\n",
        "mnb = MultinomialNB(alpha=0.4)\n",
        "dtc = DecisionTreeClassifier(min_samples_split=17, random_state=0)\n",
        "rfc = RandomForestClassifier(n_estimators = 39, min_samples_split=39, bootstrap=True, criterion='entropy')\n",
        "\n",
        "\n",
        "clfs = {'SVC' : svc,'KN' : knc, 'MNB': mnb, 'DT': dtc, 'RF': rfc}\n",
        "\n",
        "\n",
        "def train_model(classifier, feature_vector_train, label, feature_vector_valid, valid_y, is_neural_net=False):\n",
        "    # fit the training dataset on the classifier\n",
        "    classifier.fit(feature_vector_train, label)\n",
        "\n",
        "    # predict the labels on validation dataset\n",
        "    predictions = classifier.predict(feature_vector_valid)\n",
        "\n",
        "    if is_neural_net:\n",
        "        predictions = predictions.argmax(axis=-1)\n",
        "\n",
        "    return metrics.accuracy_score(predictions, valid_y), classifier"
      ],
      "execution_count": null,
      "outputs": []
    },
    {
      "cell_type": "code",
      "metadata": {
        "colab": {
          "base_uri": "https://localhost:8080/",
          "height": 204
        },
        "id": "12sCnhZL6qVJ",
        "outputId": "cb5fc110-0262-4378-ee81-f8696959c64b"
      },
      "source": [
        "################################################################################################\n",
        "#### Here, We will optimize for 2 metrics (Accuracy and Precision) as we want to correctly  ####\n",
        "### classify as many tweets as possible (Accuracy) with the concern that we want as many as ####\n",
        "### correct classified positive (depressed) tweets as possible (Precision). ####################\n",
        "################################################################################################\n",
        "#\n",
        "\n",
        "def train_classifier(clf, X_train, y_train):\n",
        "    clf.fit(X_train, y_train)\n",
        "def predict_labels(clf, X_test):\n",
        "    return (clf.predict(X_test))\n",
        "\n",
        "\n",
        "pred_scores = []\n",
        "preds = []\n",
        "for k,v in clfs.items():\n",
        "    train_classifier(v, xtrain_tfidf, y_train_upsampled)\n",
        "    pred = predict_labels(v, xvalid_tfidf)\n",
        "    preds.append(pred)\n",
        "    pred_scores.append((k, accuracy_score(y_test,pred), precision_score(y_test,pred), recall_score(y_test,pred), f1_score(y_test,pred), metrics.roc_auc_score(y_test,pred)))\n",
        "scores_tfidf = pd.DataFrame(pred_scores, columns=['Model', 'Accuracy Score', 'Precision Score','Recall Score', 'F1 Score', 'AUC Score'])\n",
        "scores_tfidf"
      ],
      "execution_count": null,
      "outputs": [
        {
          "output_type": "execute_result",
          "data": {
            "text/html": [
              "<div>\n",
              "<style scoped>\n",
              "    .dataframe tbody tr th:only-of-type {\n",
              "        vertical-align: middle;\n",
              "    }\n",
              "\n",
              "    .dataframe tbody tr th {\n",
              "        vertical-align: top;\n",
              "    }\n",
              "\n",
              "    .dataframe thead th {\n",
              "        text-align: right;\n",
              "    }\n",
              "</style>\n",
              "<table border=\"1\" class=\"dataframe\">\n",
              "  <thead>\n",
              "    <tr style=\"text-align: right;\">\n",
              "      <th></th>\n",
              "      <th>Model</th>\n",
              "      <th>Accuracy Score</th>\n",
              "      <th>Precision Score</th>\n",
              "      <th>Recall Score</th>\n",
              "      <th>F1 Score</th>\n",
              "      <th>AUC Score</th>\n",
              "    </tr>\n",
              "  </thead>\n",
              "  <tbody>\n",
              "    <tr>\n",
              "      <th>0</th>\n",
              "      <td>SVC</td>\n",
              "      <td>0.934703</td>\n",
              "      <td>0.882857</td>\n",
              "      <td>0.751825</td>\n",
              "      <td>0.812089</td>\n",
              "      <td>0.864389</td>\n",
              "    </tr>\n",
              "    <tr>\n",
              "      <th>1</th>\n",
              "      <td>KN</td>\n",
              "      <td>0.832877</td>\n",
              "      <td>0.764706</td>\n",
              "      <td>0.158151</td>\n",
              "      <td>0.262097</td>\n",
              "      <td>0.573454</td>\n",
              "    </tr>\n",
              "    <tr>\n",
              "      <th>2</th>\n",
              "      <td>MNB</td>\n",
              "      <td>0.852055</td>\n",
              "      <td>0.566210</td>\n",
              "      <td>0.905109</td>\n",
              "      <td>0.696629</td>\n",
              "      <td>0.872454</td>\n",
              "    </tr>\n",
              "    <tr>\n",
              "      <th>3</th>\n",
              "      <td>DT</td>\n",
              "      <td>0.943836</td>\n",
              "      <td>0.809013</td>\n",
              "      <td>0.917275</td>\n",
              "      <td>0.859749</td>\n",
              "      <td>0.933623</td>\n",
              "    </tr>\n",
              "    <tr>\n",
              "      <th>4</th>\n",
              "      <td>RF</td>\n",
              "      <td>0.932420</td>\n",
              "      <td>0.773389</td>\n",
              "      <td>0.905109</td>\n",
              "      <td>0.834081</td>\n",
              "      <td>0.921920</td>\n",
              "    </tr>\n",
              "  </tbody>\n",
              "</table>\n",
              "</div>"
            ],
            "text/plain": [
              "  Model  Accuracy Score  Precision Score  Recall Score  F1 Score  AUC Score\n",
              "0   SVC        0.934703         0.882857      0.751825  0.812089   0.864389\n",
              "1    KN        0.832877         0.764706      0.158151  0.262097   0.573454\n",
              "2   MNB        0.852055         0.566210      0.905109  0.696629   0.872454\n",
              "3    DT        0.943836         0.809013      0.917275  0.859749   0.933623\n",
              "4    RF        0.932420         0.773389      0.905109  0.834081   0.921920"
            ]
          },
          "metadata": {
            "tags": []
          },
          "execution_count": 57
        }
      ]
    },
    {
      "cell_type": "code",
      "metadata": {
        "colab": {
          "base_uri": "https://localhost:8080/",
          "height": 373
        },
        "id": "XzO3Mzn7wMD1",
        "outputId": "a543b4f9-c2c6-4066-c07f-8ee0ef79c3b4"
      },
      "source": [
        "from sklearn.metrics import plot_confusion_matrix, confusion_matrix\n",
        "class_names = ['Racist', 'Non Racist']\n",
        "classifier_index = 0\n",
        "\n",
        "# Creates a confusion matrix\n",
        "cm = confusion_matrix(y_test, preds[classifier_index])\n",
        "# Transform to df for easier plotting\n",
        "cm_df = pd.DataFrame(cm,\n",
        "                     index = class_names,\n",
        "                     columns = class_names)\n",
        "plt.figure(figsize=(8,5))\n",
        "sns.heatmap(cm_df, annot=True, fmt='g', cmap=plt.cm.Blues, cbar=False)\n",
        "plt.title('SVM RBF Kernel \\nAccuracy: {0:.3f}%'.format(scores_tfidf['Accuracy Score'][classifier_index]*100))\n",
        "plt.ylabel('True label')\n",
        "plt.xlabel('Predicted label')\n",
        "plt.rcParams['font.size'] = 12\n",
        "plt.show()"
      ],
      "execution_count": null,
      "outputs": [
        {
          "output_type": "display_data",
          "data": {
            "image/png": "[encoded data removed]",
            "text/plain": [
              "<Figure size 576x360 with 1 Axes>"
            ]
          },
          "metadata": {
            "tags": [],
            "needs_background": "light"
          }
        }
      ]
    },
    {
      "cell_type": "code",
      "metadata": {
        "colab": {
          "base_uri": "https://localhost:8080/",
          "height": 373
        },
        "id": "NQFRlMXe3A-l",
        "outputId": "0c9da359-7365-4efd-87e5-ca1a6001367c"
      },
      "source": [
        "classifier_index = 3\n",
        "\n",
        "# Creates a confusion matrix\n",
        "cm = confusion_matrix(y_test, preds[classifier_index])\n",
        "# Transform to df for easier plotting\n",
        "cm_df = pd.DataFrame(cm,\n",
        "                     index = class_names,\n",
        "                     columns = class_names)\n",
        "plt.figure(figsize=(8,5))\n",
        "sns.heatmap(cm_df, annot=True, fmt='g', cmap=plt.cm.Blues, cbar=False)\n",
        "plt.title('Decision Trees \\nAccuracy: {0:.3f}%'.format(scores_tfidf['Accuracy Score'][classifier_index]*100))\n",
        "plt.ylabel('True label')\n",
        "plt.xlabel('Predicted label')\n",
        "plt.rcParams['font.size'] = 12\n",
        "plt.show()"
      ],
      "execution_count": null,
      "outputs": [
        {
          "output_type": "display_data",
          "data": {
            "image/png": "[encoded data removed]",
            "text/plain": [
              "<Figure size 576x360 with 1 Axes>"
            ]
          },
          "metadata": {
            "tags": [],
            "needs_background": "light"
          }
        }
      ]
    },
    {
      "cell_type": "code",
      "metadata": {
        "colab": {
          "base_uri": "https://localhost:8080/",
          "height": 373
        },
        "id": "r3Q7ToaM3YWk",
        "outputId": "dd6dfd73-7035-47c6-b0f8-4cdf011ab09e"
      },
      "source": [
        "classifier_index = 4\n",
        "\n",
        "# Creates a confusion matrix\n",
        "cm = confusion_matrix(y_test, preds[classifier_index])\n",
        "# Transform to df for easier plotting\n",
        "cm_df = pd.DataFrame(cm,\n",
        "                     index = class_names,\n",
        "                     columns = class_names)\n",
        "plt.figure(figsize=(8,5))\n",
        "sns.heatmap(cm_df, annot=True, fmt='g', cmap=plt.cm.Blues, cbar=False)\n",
        "plt.title('Random Forests \\nAccuracy: {0:.3f}%'.format(scores_tfidf['Accuracy Score'][classifier_index]*100))\n",
        "plt.ylabel('True label')\n",
        "plt.xlabel('Predicted label')\n",
        "plt.rcParams['font.size'] = 12\n",
        "plt.show()"
      ],
      "execution_count": null,
      "outputs": [
        {
          "output_type": "display_data",
          "data": {
            "image/png": "[encoded data removed]",
            "text/plain": [
              "<Figure size 576x360 with 1 Axes>"
            ]
          },
          "metadata": {
            "tags": [],
            "needs_background": "light"
          }
        }
      ]
    },
    {
      "cell_type": "code",
      "metadata": {
        "colab": {
          "base_uri": "https://localhost:8080/"
        },
        "id": "h3Y2pVK33fUq",
        "outputId": "4933f136-a312-4a18-a266-52ccb29be65b"
      },
      "source": [
        "# Predictions on a random sample tweets\n",
        "clf = dtc.fit(xtrain_tfidf, y_train_upsampled)\n",
        "predictions = clf.predict(xvalid_tfidf)\n",
        "mapping = ['Not Racist', 'Racist']\n",
        "for i in range(10):\n",
        "    n = random.randint(0, len(X_test))\n",
        "    print(f'Tweet: {df.Tweet.iloc[n]}')\n",
        "    print(f'Cleaned Tweet: {df.Cleaned_4.iloc[n]}')\n",
        "    print(f'Predicted Label: {mapping[predictions[n]]}')\n",
        "    print()"
      ],
      "execution_count": null,
      "outputs": [
        {
          "output_type": "stream",
          "text": [
            "Tweet:  '@jamalrayyan هههههه قال وش شهودك ياثعلب قال ذيلي ..\\nماطقع من سعد السفية الزبيري المشرد الا جمال خربان الفلسطيزي المرتزق ..')\n",
            "Cleaned Tweet: ه قال وش شهودك ياثعلب قال ذيلي ماطقع  سعد السفيه الزبيري المشرد  جمال خربان الفلسطيزي المرتزق\n",
            "Predicted Label: Not Racist\n",
            "\n",
            "Tweet:  '@Juhaieeem الفلسطز اخذوا اكبر من حجمهم بزياده')\n",
            "Cleaned Tweet: الفلسطز اخذوا اكبر  حجمهم بزياده\n",
            "Predicted Label: Not Racist\n",
            "\n",
            "Tweet:  'امبيه صح والله🙃')\n",
            "Cleaned Tweet: امبيه صح والله\n",
            "Predicted Label: Not Racist\n",
            "\n",
            "Tweet:  'كل صوره واحنا بنتخانق ♥️♥️♥️ https://t.co/0LNElfG2zt')\n",
            "Cleaned Tweet:  صوره واحنا بنتخانق\n",
            "Predicted Label: Not Racist\n",
            "\n",
            "Tweet:  'طلعه بعنوان تعالو نتفشل بسبب حمود واسكريمنا الذايب')\n",
            "Cleaned Tweet: طلعه بعنوان تعالو نتفشل بسبب حمود واسكريمنا الذايب\n",
            "Predicted Label: Not Racist\n",
            "\n",
            "Tweet:  'رفيق الرحلة\\nالأنيق عبدالله المتعب 🎗 https://t.co/6fmmmriyYq')\n",
            "Cleaned Tweet: رفيق الرحله الانيق عبدالله المتعب\n",
            "Predicted Label: Not Racist\n",
            "\n",
            "Tweet:  'نص ساعه وحدها بس تفصلنا😭♥️♥️\\n\\n#WONHO_OpenMind_MV')\n",
            "Cleaned Tweet: نص ساعه وحدها  تفصلنا\n",
            "Predicted Label: Not Racist\n",
            "\n",
            "Tweet:  'RT @Bella_Caio_: جسم الخلايجه 😍🔥🙈 .. \\n.\\nاللي مش مسجل ف برنامج التانجو لايف الشراميط  اللينك مرفق 👇 ..\\nhttps://t.co/XaVjE9xofD\\n.\\nجروب لشراء…')\n",
            "Cleaned Tweet: جسم الخلايجه اللي مش مسجل ف برنامج التانجو لايف الشراميط اللينك مرفق جروب لشراء\n",
            "Predicted Label: Racist\n",
            "\n",
            "Tweet:  'انا اللي صرت لك عادي؟\\nوقربي يشبه بعادي!')\n",
            "Cleaned Tweet:  اللي صرت  عادي؟ وقربي يشبه بعادي\n",
            "Predicted Label: Racist\n",
            "\n",
            "Tweet:  'ترى العدالة ماعنده شي يخسره وأكثر شي مخوفني المدرب وتبديلاته')\n",
            "Cleaned Tweet: تري العداله ماعنده شي يخسره واكثر شي مخوفني المدرب وتبديلاته\n",
            "Predicted Label: Racist\n",
            "\n"
          ],
          "name": "stdout"
        }
      ]
    },
    {
      "cell_type": "markdown",
      "metadata": {
        "id": "MptW_EJDtcH_"
      },
      "source": [
        "# Deep Learning"
      ]
    },
    {
      "cell_type": "code",
      "metadata": {
        "id": "aTabMTRethtr"
      },
      "source": [
        "import keras.backend\n",
        "from keras.models import Sequential, load_model\n",
        "from keras.layers import Dense, Conv1D, MaxPooling1D\n",
        "from keras.layers import Dropout, GlobalMaxPooling1D, BatchNormalization, LSTM\n",
        "from keras.layers import Bidirectional\n",
        "from keras.layers.embeddings import Embedding\n",
        "from keras.optimizers import Nadam\n",
        "from keras.utils.vis_utils import plot_model\n",
        "from keras.preprocessing.text import text_to_word_sequence\n",
        "from keras.preprocessing.text import Tokenizer\n",
        "from keras.preprocessing import sequence\n",
        "from keras.layers import Dropout, Activation, MaxPooling1D, Flatten\n",
        "from keras.layers import Embedding\n",
        "from keras.layers import GlobalMaxPooling1D\n",
        "from keras.callbacks import EarlyStopping\n",
        "from keras.regularizers import l2\n",
        "from sklearn import metrics"
      ],
      "execution_count": null,
      "outputs": []
    },
    {
      "cell_type": "code",
      "metadata": {
        "id": "gSZi1_dNB_Um"
      },
      "source": [
        "# Transfer sentences to Words\n",
        "tokenizer = Tokenizer(num_words=None,split=' ',char_level=False)\n",
        "X = df['Cleaned_4']\n",
        "tokenizer.fit_on_texts(X)"
      ],
      "execution_count": null,
      "outputs": []
    },
    {
      "cell_type": "code",
      "metadata": {
        "colab": {
          "base_uri": "https://localhost:8080/"
        },
        "id": "7CH0kOvu_0Jl",
        "outputId": "e14681af-8d6e-48ae-d436-29f180c9cda1"
      },
      "source": [
        "# To Determine the best lenght of the tweet\n",
        "word_index = tokenizer.word_index\n",
        "vocab_size = len(word_index)\n",
        "print('Vocab size: {}'.format(vocab_size))\n",
        "longest = max(len(seq) for seq in X)\n",
        "print(\"Longest tweet size: {}\".format(longest))\n",
        "average = np.mean([len(seq) for seq in X])\n",
        "print(\"Average tweet size: {}\".format(average))\n",
        "stdev = np.std([len(seq) for seq in X])\n",
        "print(\"Stdev of tweet size: {}\".format(stdev))\n",
        "max_len = int(average + stdev * 3)\n",
        "print('Max tweet size: {}'.format(max_len))"
      ],
      "execution_count": null,
      "outputs": [
        {
          "output_type": "stream",
          "text": [
            "Vocab size: 38156\n",
            "Longest tweet size: 275\n",
            "Average tweet size: 64.59716894977169\n",
            "Stdev of tweet size: 62.44750132078063\n",
            "Max tweet size: 251\n"
          ],
          "name": "stdout"
        }
      ]
    },
    {
      "cell_type": "code",
      "metadata": {
        "colab": {
          "base_uri": "https://localhost:8080/"
        },
        "id": "iICLpsdd_5eN",
        "outputId": "9322bf7e-f0d6-44f0-a44a-0902bd77410c"
      },
      "source": [
        "# reading the vectors file\n",
        "embeddings_index = {}\n",
        "f = open('/content/drive/My Drive/Upwork/Racism/vectors.txt')\n",
        "for line in f:\n",
        "    values = line.split()\n",
        "    word = values[0]\n",
        "    coefs = np.asarray(values[1:], dtype='float32')\n",
        "    embeddings_index[word] = coefs\n",
        "f.close()\n",
        "print('Found %s word vectors.' % len(embeddings_index))"
      ],
      "execution_count": null,
      "outputs": [
        {
          "output_type": "stream",
          "text": [
            "Found 1538616 word vectors.\n"
          ],
          "name": "stdout"
        }
      ]
    },
    {
      "cell_type": "code",
      "metadata": {
        "id": "hknTLDnl_7ad"
      },
      "source": [
        "# converting each word into embedding vector (Arabic embedding)\n",
        "embedding_dim = 256\n",
        "k = 0\n",
        "embedding_matrix = np.zeros((len(word_index) + 1, embedding_dim))\n",
        "for word, i in word_index.items():\n",
        "    embedding_vector = embeddings_index.get(word)\n",
        "    if embedding_vector is not None:\n",
        "        # Words not found in embedding index will be all-zeros.\n",
        "        k += 1\n",
        "        embedding_matrix[i] = embedding_vector"
      ],
      "execution_count": null,
      "outputs": []
    },
    {
      "cell_type": "markdown",
      "metadata": {
        "id": "1Dkm73yT_bwe"
      },
      "source": [
        "### Before upsampling"
      ]
    },
    {
      "cell_type": "code",
      "metadata": {
        "id": "j7NxBiqf_j6Z"
      },
      "source": [
        "x_train = tokenizer.texts_to_sequences(X_train)\n",
        "x_test = tokenizer.texts_to_sequences(X_test)\n",
        "x_val = tokenizer.texts_to_sequences(X_val)"
      ],
      "execution_count": null,
      "outputs": []
    },
    {
      "cell_type": "code",
      "metadata": {
        "id": "krha1WWM_14N"
      },
      "source": [
        "from keras.preprocessing.sequence import pad_sequences\n",
        "processed_x_train = pad_sequences(x_train, maxlen=max_len, padding='post', truncating='post')\n",
        "processed_x_test = pad_sequences(x_test, maxlen=max_len, padding='post', truncating='post')\n",
        "processed_x_val = pad_sequences(x_val, maxlen=max_len, padding='post', truncating='post')"
      ],
      "execution_count": null,
      "outputs": []
    },
    {
      "cell_type": "code",
      "metadata": {
        "colab": {
          "base_uri": "https://localhost:8080/"
        },
        "id": "hAu46_P1_32v",
        "outputId": "6f008079-4e00-4f41-d847-c55ca93b9306"
      },
      "source": [
        "print('x_train shape:', processed_x_train.shape)\n",
        "print('x_test shape:', processed_x_test.shape)\n",
        "print('x_val shape:', processed_x_val.shape)"
      ],
      "execution_count": null,
      "outputs": [
        {
          "output_type": "stream",
          "text": [
            "x_train shape: (7665, 251)\n",
            "x_test shape: (2190, 251)\n",
            "x_val shape: (1095, 251)\n"
          ],
          "name": "stdout"
        }
      ]
    },
    {
      "cell_type": "code",
      "metadata": {
        "colab": {
          "base_uri": "https://localhost:8080/"
        },
        "id": "D_iW8RyE__WS",
        "outputId": "ca3a9092-2f50-4dcd-ede9-0586a4dcd0bd"
      },
      "source": [
        "# Deep Learning model (LSTM, CNN)\n",
        "model = Sequential()\n",
        "\n",
        "\n",
        "model.add(Embedding(vocab_size + 1, embedding_dim, weights=[embedding_matrix], input_length=max_len, trainable=True))\n",
        "\n",
        "\n",
        "model.add(LSTM(60, return_sequences=True, name='lstm_layer1'))#,kernel_regularizer=l2(0.01),recurrent_regularizer=l2(0.01)))\n",
        "model.add(Conv1D(filters=32, kernel_size=7, padding='same', activation='relu'))#,kernel_regularizer=l2(0.01),bias_regularizer=l2(0.01)))\n",
        "model.add(MaxPooling1D(3)) # to reduce network size\n",
        "model.add(GlobalMaxPooling1D())\n",
        "model.add(BatchNormalization()) # to reduce weights\n",
        "\n",
        "model.add(Dense(64, activation='relu',kernel_regularizer=l2(0.17),bias_regularizer=l2(0.01)))\n",
        "model.add(Dropout(0.3))\n",
        "model.add(Dense(32, activation='relu',kernel_regularizer=l2(0.19),bias_regularizer=l2(0.01)))\n",
        "model.add(Dropout(0.3))\n",
        "# model.add(Dense(16, kernel_regularizer=l2(0.001), activation='relu'))\n",
        "# model.add(Dropout(0.3))\n",
        "model.add(Dense(1, activation='sigmoid'))\n",
        "model.summary()"
      ],
      "execution_count": null,
      "outputs": [
        {
          "output_type": "stream",
          "text": [
            "Model: \"sequential\"\n",
            "_________________________________________________________________\n",
            "Layer (type)                 Output Shape              Param #   \n",
            "=================================================================\n",
            "embedding (Embedding)        (None, 251, 256)          9768192   \n",
            "_________________________________________________________________\n",
            "lstm_layer1 (LSTM)           (None, 251, 60)           76080     \n",
            "_________________________________________________________________\n",
            "conv1d (Conv1D)              (None, 251, 32)           13472     \n",
            "_________________________________________________________________\n",
            "max_pooling1d (MaxPooling1D) (None, 83, 32)            0         \n",
            "_________________________________________________________________\n",
            "global_max_pooling1d (Global (None, 32)                0         \n",
            "_________________________________________________________________\n",
            "batch_normalization (BatchNo (None, 32)                128       \n",
            "_________________________________________________________________\n",
            "dense (Dense)                (None, 64)                2112      \n",
            "_________________________________________________________________\n",
            "dropout (Dropout)            (None, 64)                0         \n",
            "_________________________________________________________________\n",
            "dense_1 (Dense)              (None, 32)                2080      \n",
            "_________________________________________________________________\n",
            "dropout_1 (Dropout)          (None, 32)                0         \n",
            "_________________________________________________________________\n",
            "dense_2 (Dense)              (None, 1)                 33        \n",
            "=================================================================\n",
            "Total params: 9,862,097\n",
            "Trainable params: 9,862,033\n",
            "Non-trainable params: 64\n",
            "_________________________________________________________________\n"
          ],
          "name": "stdout"
        }
      ]
    },
    {
      "cell_type": "code",
      "metadata": {
        "id": "0RHZfxeDABnN"
      },
      "source": [
        "model.compile(loss='binary_crossentropy', optimizer='Adam', metrics=['AUC'])"
      ],
      "execution_count": null,
      "outputs": []
    },
    {
      "cell_type": "code",
      "metadata": {
        "colab": {
          "base_uri": "https://localhost:8080/"
        },
        "id": "uaTbQb1yAB7v",
        "outputId": "5d167fb7-2d41-413e-81b8-f6b6c3b3d8b5"
      },
      "source": [
        "# to Train the model\n",
        "history = model.fit(processed_x_train,y_train, validation_data=(processed_x_val,y_val),epochs=10,batch_size=64,verbose=1)"
      ],
      "execution_count": null,
      "outputs": [
        {
          "output_type": "stream",
          "text": [
            "Epoch 1/10\n",
            "120/120 [==============================] - 49s 121ms/step - loss: 11.8577 - auc: 0.6083 - val_loss: 3.6811 - val_auc: 0.8998\n",
            "Epoch 2/10\n",
            "120/120 [==============================] - 14s 113ms/step - loss: 2.6074 - auc: 0.9266 - val_loss: 0.8712 - val_auc: 0.9498\n",
            "Epoch 3/10\n",
            "120/120 [==============================] - 14s 113ms/step - loss: 0.6196 - auc: 0.9825 - val_loss: 0.4413 - val_auc: 0.9426\n",
            "Epoch 4/10\n",
            "120/120 [==============================] - 14s 114ms/step - loss: 0.2469 - auc: 0.9955 - val_loss: 0.3538 - val_auc: 0.9378\n",
            "Epoch 5/10\n",
            "120/120 [==============================] - 13s 112ms/step - loss: 0.1871 - auc: 0.9949 - val_loss: 0.3554 - val_auc: 0.9389\n",
            "Epoch 6/10\n",
            "120/120 [==============================] - 13s 111ms/step - loss: 0.1553 - auc: 0.9970 - val_loss: 0.3841 - val_auc: 0.9349\n",
            "Epoch 7/10\n",
            "120/120 [==============================] - 13s 112ms/step - loss: 0.1861 - auc: 0.9897 - val_loss: 0.3749 - val_auc: 0.9261\n",
            "Epoch 8/10\n",
            "120/120 [==============================] - 13s 112ms/step - loss: 0.1539 - auc: 0.9896 - val_loss: 0.3716 - val_auc: 0.8828\n",
            "Epoch 9/10\n",
            "120/120 [==============================] - 14s 113ms/step - loss: 0.1252 - auc: 0.9967 - val_loss: 0.3434 - val_auc: 0.8899\n",
            "Epoch 10/10\n",
            "120/120 [==============================] - 13s 112ms/step - loss: 0.1080 - auc: 0.9985 - val_loss: 0.3407 - val_auc: 0.8999\n"
          ],
          "name": "stdout"
        }
      ]
    },
    {
      "cell_type": "code",
      "metadata": {
        "colab": {
          "base_uri": "https://localhost:8080/",
          "height": 302
        },
        "id": "8grcFi7nBZoE",
        "outputId": "4214c245-caec-4854-8761-437d403c11d9"
      },
      "source": [
        "plt.plot(history.history['auc'])\n",
        "plt.plot(history.history['val_auc'])\n",
        "plt.title('Model AUC')\n",
        "plt.ylabel('AUC')\n",
        "plt.xlabel('Epoch')\n",
        "plt.legend(['train', 'val'], loc='lower right')\n",
        "plt.ylim([0.8, 1.01])\n",
        "plt.xticks([i for i in range(11)])\n",
        "plt.xlim([0, 10])\n",
        "plt.show()"
      ],
      "execution_count": null,
      "outputs": [
        {
          "output_type": "display_data",
          "data": {
            "image/png": "[encoded data removed]",
            "text/plain": [
              "<Figure size 432x288 with 1 Axes>"
            ]
          },
          "metadata": {
            "tags": [],
            "needs_background": "light"
          }
        }
      ]
    },
    {
      "cell_type": "code",
      "metadata": {
        "id": "wU0wmhWIBZoJ"
      },
      "source": [
        "y_pred = model.predict(processed_x_test)\n",
        "label = np.round(y_pred)"
      ],
      "execution_count": null,
      "outputs": []
    },
    {
      "cell_type": "code",
      "metadata": {
        "colab": {
          "base_uri": "https://localhost:8080/"
        },
        "id": "SXem_f4lBZoK",
        "outputId": "144cbee2-1e4d-4558-d2a5-9378ce9510ac"
      },
      "source": [
        "# Metrics\n",
        "from sklearn.metrics import f1_score, precision_score, recall_score, confusion_matrix\n",
        "from sklearn.metrics import classification_report\n",
        "target_names = ['Not Racist', 'Racist']\n",
        "print(classification_report(y_test, label, target_names=target_names))\n",
        "\n",
        "print(f\"Test Accuracy: {model.evaluate(processed_x_test,y_test, verbose=0)[1]*100:.2f}%\")\n",
        "print(f\"Test AUC: {metrics.roc_auc_score(y_test, label)*100:.2f}%\")"
      ],
      "execution_count": null,
      "outputs": [
        {
          "output_type": "stream",
          "text": [
            "              precision    recall  f1-score   support\n",
            "\n",
            "  Not Racist       0.95      0.94      0.95      1779\n",
            "      Racist       0.77      0.80      0.79       411\n",
            "\n",
            "    accuracy                           0.92      2190\n",
            "   macro avg       0.86      0.87      0.87      2190\n",
            "weighted avg       0.92      0.92      0.92      2190\n",
            "\n",
            "Test Accuracy: 90.72%\n",
            "Test AUC: 87.39%\n"
          ],
          "name": "stdout"
        }
      ]
    },
    {
      "cell_type": "code",
      "metadata": {
        "colab": {
          "base_uri": "https://localhost:8080/",
          "height": 356
        },
        "id": "wv8mMhQfBZoK",
        "outputId": "1e58a335-4dfe-43d2-fd4d-642800ed1eb7"
      },
      "source": [
        "from sklearn.metrics import plot_confusion_matrix, confusion_matrix\n",
        "\n",
        "# Creates a confusion matrix\n",
        "cm = confusion_matrix(y_test, label)\n",
        "# Transform to df for easier plotting\n",
        "cm_df = pd.DataFrame(cm)\n",
        "plt.figure(figsize=(8,5))\n",
        "sns.heatmap(cm_df, annot=True, fmt='g', cmap=plt.cm.Blues, cbar=False)\n",
        "plt.rcParams['font.size'] = 10\n",
        "plt.title('Predictions')\n",
        "plt.ylabel('True Labels')\n",
        "plt.xlabel('Predicted Labels')\n",
        "plt.show()"
      ],
      "execution_count": null,
      "outputs": [
        {
          "output_type": "display_data",
          "data": {
            "image/png": "[encoded data removed]",
            "text/plain": [
              "<Figure size 576x360 with 1 Axes>"
            ]
          },
          "metadata": {
            "tags": [],
            "needs_background": "light"
          }
        }
      ]
    },
    {
      "cell_type": "markdown",
      "metadata": {
        "id": "sYorwSsM_hIV"
      },
      "source": [
        "### After upsampling"
      ]
    },
    {
      "cell_type": "code",
      "metadata": {
        "id": "aRP71f9Q5lAp"
      },
      "source": [
        "x_train = tokenizer.texts_to_sequences(X_train_upsampled)\n",
        "x_test = tokenizer.texts_to_sequences(X_test)\n",
        "x_val = tokenizer.texts_to_sequences(X_val)"
      ],
      "execution_count": null,
      "outputs": []
    },
    {
      "cell_type": "code",
      "metadata": {
        "id": "cYfiabyd6Ed2"
      },
      "source": [
        "from keras.preprocessing.sequence import pad_sequences\n",
        "processed_x_train = pad_sequences(x_train, maxlen=max_len, padding='post', truncating='post')\n",
        "processed_x_test = pad_sequences(x_test, maxlen=max_len, padding='post', truncating='post')\n",
        "processed_x_val = pad_sequences(x_val, maxlen=max_len, padding='post', truncating='post')"
      ],
      "execution_count": null,
      "outputs": []
    },
    {
      "cell_type": "code",
      "metadata": {
        "colab": {
          "base_uri": "https://localhost:8080/"
        },
        "id": "u8V3L8se6YDP",
        "outputId": "d405ccdd-b506-4d27-a657-ce62496f4947"
      },
      "source": [
        "print('x_train shape:', processed_x_train.shape)\n",
        "print('x_test shape:', processed_x_test.shape)\n",
        "print('x_val shape:', processed_x_val.shape)"
      ],
      "execution_count": null,
      "outputs": [
        {
          "output_type": "stream",
          "text": [
            "x_train shape: (12374, 251)\n",
            "x_test shape: (2190, 251)\n",
            "x_val shape: (1095, 251)\n"
          ],
          "name": "stdout"
        }
      ]
    },
    {
      "cell_type": "markdown",
      "metadata": {
        "id": "ESpntHaVFd8V"
      },
      "source": [
        "# Trying the AUC metric instead of the Accuracy."
      ]
    },
    {
      "cell_type": "code",
      "metadata": {
        "colab": {
          "base_uri": "https://localhost:8080/"
        },
        "id": "QXwDDzBD94vr",
        "outputId": "765b02ce-fefb-476a-d672-87d4d1f11b7e"
      },
      "source": [
        "# Deep Learning model (LSTM, CNN)\n",
        "model = Sequential()\n",
        "\n",
        "\n",
        "model.add(Embedding(vocab_size + 1, embedding_dim, weights=[embedding_matrix], input_length=max_len, trainable=True))\n",
        "\n",
        "\n",
        "model.add(LSTM(60, return_sequences=True, name='lstm_layer1'))#,kernel_regularizer=l2(0.01),recurrent_regularizer=l2(0.01)))\n",
        "model.add(Conv1D(filters=32, kernel_size=7, padding='same', activation='relu'))#,kernel_regularizer=l2(0.01),bias_regularizer=l2(0.01)))\n",
        "model.add(MaxPooling1D(3)) # to reduce network size\n",
        "model.add(GlobalMaxPooling1D())\n",
        "model.add(BatchNormalization()) # to reduce weights\n",
        "\n",
        "model.add(Dense(64, activation='relu',kernel_regularizer=l2(0.17),bias_regularizer=l2(0.01)))\n",
        "model.add(Dropout(0.3))\n",
        "model.add(Dense(32, activation='relu',kernel_regularizer=l2(0.19),bias_regularizer=l2(0.01)))\n",
        "model.add(Dropout(0.3))\n",
        "# model.add(Dense(16, kernel_regularizer=l2(0.001), activation='relu'))\n",
        "# model.add(Dropout(0.3))\n",
        "model.add(Dense(1, activation='sigmoid'))\n",
        "model.summary()"
      ],
      "execution_count": null,
      "outputs": [
        {
          "output_type": "stream",
          "text": [
            "Model: \"sequential_1\"\n",
            "_________________________________________________________________\n",
            "Layer (type)                 Output Shape              Param #   \n",
            "=================================================================\n",
            "embedding_1 (Embedding)      (None, 251, 256)          9768192   \n",
            "_________________________________________________________________\n",
            "lstm_layer1 (LSTM)           (None, 251, 60)           76080     \n",
            "_________________________________________________________________\n",
            "conv1d_1 (Conv1D)            (None, 251, 32)           13472     \n",
            "_________________________________________________________________\n",
            "max_pooling1d_1 (MaxPooling1 (None, 83, 32)            0         \n",
            "_________________________________________________________________\n",
            "global_max_pooling1d_1 (Glob (None, 32)                0         \n",
            "_________________________________________________________________\n",
            "batch_normalization_1 (Batch (None, 32)                128       \n",
            "_________________________________________________________________\n",
            "dense_3 (Dense)              (None, 64)                2112      \n",
            "_________________________________________________________________\n",
            "dropout_2 (Dropout)          (None, 64)                0         \n",
            "_________________________________________________________________\n",
            "dense_4 (Dense)              (None, 32)                2080      \n",
            "_________________________________________________________________\n",
            "dropout_3 (Dropout)          (None, 32)                0         \n",
            "_________________________________________________________________\n",
            "dense_5 (Dense)              (None, 1)                 33        \n",
            "=================================================================\n",
            "Total params: 9,862,097\n",
            "Trainable params: 9,862,033\n",
            "Non-trainable params: 64\n",
            "_________________________________________________________________\n"
          ],
          "name": "stdout"
        }
      ]
    },
    {
      "cell_type": "code",
      "metadata": {
        "id": "b2zL9i485U4i"
      },
      "source": [
        "model.compile(loss='binary_crossentropy', optimizer='Adam', metrics=['AUC'])"
      ],
      "execution_count": null,
      "outputs": []
    },
    {
      "cell_type": "code",
      "metadata": {
        "colab": {
          "base_uri": "https://localhost:8080/"
        },
        "id": "Uo3Ky-il-LXI",
        "outputId": "c4f40b07-c6a6-4a7d-8731-97b4d9a7ca27"
      },
      "source": [
        "# to Train the model\n",
        "history = model.fit(processed_x_train,y_train_upsampled, validation_data=(processed_x_val,y_val),epochs=10,batch_size=64,verbose=1)"
      ],
      "execution_count": null,
      "outputs": [
        {
          "output_type": "stream",
          "text": [
            "Epoch 1/10\n",
            "194/194 [==============================] - 25s 117ms/step - loss: 10.1183 - auc: 0.7637 - val_loss: 1.5294 - val_auc: 0.9486\n",
            "Epoch 2/10\n",
            "194/194 [==============================] - 22s 114ms/step - loss: 0.8669 - auc: 0.9879 - val_loss: 0.3913 - val_auc: 0.9424\n",
            "Epoch 3/10\n",
            "194/194 [==============================] - 22s 114ms/step - loss: 0.2130 - auc: 0.9970 - val_loss: 0.3585 - val_auc: 0.9384\n",
            "Epoch 4/10\n",
            "194/194 [==============================] - 22s 114ms/step - loss: 0.1575 - auc: 0.9983 - val_loss: 0.3724 - val_auc: 0.9230\n",
            "Epoch 5/10\n",
            "194/194 [==============================] - 22s 114ms/step - loss: 0.1375 - auc: 0.9985 - val_loss: 0.3487 - val_auc: 0.9191\n",
            "Epoch 6/10\n",
            "194/194 [==============================] - 22s 115ms/step - loss: 0.1205 - auc: 0.9991 - val_loss: 0.3454 - val_auc: 0.9326\n",
            "Epoch 7/10\n",
            "194/194 [==============================] - 22s 113ms/step - loss: 0.1082 - auc: 0.9994 - val_loss: 0.3700 - val_auc: 0.9059\n",
            "Epoch 8/10\n",
            "194/194 [==============================] - 22s 113ms/step - loss: 0.1001 - auc: 0.9985 - val_loss: 0.3703 - val_auc: 0.8894\n",
            "Epoch 9/10\n",
            "194/194 [==============================] - 22s 114ms/step - loss: 0.0908 - auc: 0.9992 - val_loss: 0.3392 - val_auc: 0.9324\n",
            "Epoch 10/10\n",
            "194/194 [==============================] - 22s 113ms/step - loss: 0.0832 - auc: 0.9997 - val_loss: 0.3434 - val_auc: 0.9087\n"
          ],
          "name": "stdout"
        }
      ]
    },
    {
      "cell_type": "code",
      "metadata": {
        "colab": {
          "base_uri": "https://localhost:8080/",
          "height": 295
        },
        "id": "iYvvBIZErb_v",
        "outputId": "dded6dfa-6432-4175-dc07-07a1713f434a"
      },
      "source": [
        "plt.plot(history.history['auc'])\n",
        "plt.plot(history.history['val_auc'])\n",
        "plt.title('Model AUC')\n",
        "plt.ylabel('AUC')\n",
        "plt.xlabel('Epoch')\n",
        "plt.legend(['train', 'val'], loc='lower right')\n",
        "plt.ylim([0.8, 1.01])\n",
        "plt.xticks([i for i in range(11)])\n",
        "plt.xlim([0, 10])\n",
        "plt.show()"
      ],
      "execution_count": null,
      "outputs": [
        {
          "output_type": "display_data",
          "data": {
            "image/png": "[encoded data removed]",
            "text/plain": [
              "<Figure size 432x288 with 1 Axes>"
            ]
          },
          "metadata": {
            "tags": [],
            "needs_background": "light"
          }
        }
      ]
    },
    {
      "cell_type": "code",
      "metadata": {
        "id": "WW3LFB8jemi5"
      },
      "source": [
        "y_pred = model.predict(processed_x_test)\n",
        "label = np.round(y_pred)"
      ],
      "execution_count": null,
      "outputs": []
    },
    {
      "cell_type": "code",
      "metadata": {
        "colab": {
          "base_uri": "https://localhost:8080/"
        },
        "id": "I-KEzg0yDRw3",
        "outputId": "724f99cc-584d-49f0-a533-3f3ae7c7d753"
      },
      "source": [
        "# Metrics\n",
        "from sklearn.metrics import f1_score, precision_score, recall_score, confusion_matrix\n",
        "from sklearn.metrics import classification_report\n",
        "target_names = ['Not Racist', 'Racist']\n",
        "print(classification_report(y_test, label, target_names=target_names))\n",
        "\n",
        "print(f\"Test Accuracy: {model.evaluate(processed_x_test,y_test, verbose=0)[1]*100:.2f}%\")\n",
        "print(f\"Test AUC: {metrics.roc_auc_score(y_test, label)*100:.2f}%\")"
      ],
      "execution_count": null,
      "outputs": [
        {
          "output_type": "stream",
          "text": [
            "              precision    recall  f1-score   support\n",
            "\n",
            "  Not Racist       0.95      0.95      0.95      1779\n",
            "      Racist       0.80      0.80      0.80       411\n",
            "\n",
            "    accuracy                           0.92      2190\n",
            "   macro avg       0.87      0.88      0.88      2190\n",
            "weighted avg       0.92      0.92      0.92      2190\n",
            "\n",
            "Test Accuracy: 91.35%\n",
            "Test AUC: 87.54%\n"
          ],
          "name": "stdout"
        }
      ]
    },
    {
      "cell_type": "code",
      "metadata": {
        "colab": {
          "base_uri": "https://localhost:8080/",
          "height": 350
        },
        "id": "B9LQ9jVylfQ8",
        "outputId": "0af71d3a-1875-40b6-976b-82baab926586"
      },
      "source": [
        "from sklearn.metrics import plot_confusion_matrix, confusion_matrix\n",
        "\n",
        "# Creates a confusion matrix\n",
        "cm = confusion_matrix(y_test, label)\n",
        "# Transform to df for easier plotting\n",
        "cm_df = pd.DataFrame(cm)\n",
        "plt.figure(figsize=(8,5))\n",
        "sns.heatmap(cm_df, annot=True, fmt='g', cmap=plt.cm.Blues, cbar=False)\n",
        "plt.rcParams['font.size'] = 10\n",
        "plt.title('Predictions')\n",
        "plt.ylabel('True Labels')\n",
        "plt.xlabel('Predicted Labels')\n",
        "plt.show()"
      ],
      "execution_count": null,
      "outputs": [
        {
          "output_type": "display_data",
          "data": {
            "image/png": "[encoded data removed]",
            "text/plain": [
              "<Figure size 576x360 with 1 Axes>"
            ]
          },
          "metadata": {
            "tags": [],
            "needs_background": "light"
          }
        }
      ]
    },
    {
      "cell_type": "markdown",
      "metadata": {
        "id": "091KuG1TLMyN"
      },
      "source": [
        "# Experimenting with different LSTM neurons numbers."
      ]
    },
    {
      "cell_type": "markdown",
      "metadata": {
        "id": "8T3bUVZnROdA"
      },
      "source": [
        "### 1 LSTM neuron and 1 dense layer."
      ]
    },
    {
      "cell_type": "code",
      "metadata": {
        "colab": {
          "base_uri": "https://localhost:8080/"
        },
        "id": "S3eLJ42VRX25",
        "outputId": "064c2572-4274-42c8-dc29-7d9650246522"
      },
      "source": [
        "# Deep Learning model (LSTM, CNN)\n",
        "model = Sequential()\n",
        "\n",
        "\n",
        "model.add(Embedding(vocab_size + 1, embedding_dim, weights=[embedding_matrix], input_length=max_len, trainable=True))\n",
        "\n",
        "\n",
        "model.add(LSTM(1, return_sequences=True, name='lstm_layer1'))#,kernel_regularizer=l2(0.01),recurrent_regularizer=l2(0.01)))\n",
        "model.add(Conv1D(filters=1, kernel_size=1, padding='same', activation='relu'))#,kernel_regularizer=l2(0.01),bias_regularizer=l2(0.01)))\n",
        "model.add(MaxPooling1D(1)) # to reduce network size\n",
        "model.add(GlobalMaxPooling1D())\n",
        "model.add(BatchNormalization()) # to reduce weights\n",
        "model.add(Dense(1, activation='sigmoid'))\n",
        "model.summary()"
      ],
      "execution_count": null,
      "outputs": [
        {
          "output_type": "stream",
          "text": [
            "Model: \"sequential_3\"\n",
            "_________________________________________________________________\n",
            "Layer (type)                 Output Shape              Param #   \n",
            "=================================================================\n",
            "embedding_3 (Embedding)      (None, 251, 256)          9768192   \n",
            "_________________________________________________________________\n",
            "lstm_layer1 (LSTM)           (None, 251, 1)            1032      \n",
            "_________________________________________________________________\n",
            "conv1d_3 (Conv1D)            (None, 251, 1)            2         \n",
            "_________________________________________________________________\n",
            "max_pooling1d_3 (MaxPooling1 (None, 251, 1)            0         \n",
            "_________________________________________________________________\n",
            "global_max_pooling1d_3 (Glob (None, 1)                 0         \n",
            "_________________________________________________________________\n",
            "batch_normalization_3 (Batch (None, 1)                 4         \n",
            "_________________________________________________________________\n",
            "dense_7 (Dense)              (None, 1)                 2         \n",
            "=================================================================\n",
            "Total params: 9,769,232\n",
            "Trainable params: 9,769,230\n",
            "Non-trainable params: 2\n",
            "_________________________________________________________________\n"
          ],
          "name": "stdout"
        }
      ]
    },
    {
      "cell_type": "code",
      "metadata": {
        "id": "fwECCIZfRX3F"
      },
      "source": [
        "model.compile(loss='binary_crossentropy', optimizer='Adam', metrics=['AUC'])"
      ],
      "execution_count": null,
      "outputs": []
    },
    {
      "cell_type": "code",
      "metadata": {
        "colab": {
          "base_uri": "https://localhost:8080/"
        },
        "id": "5PmAKQC7RX3G",
        "outputId": "b389595e-69ec-4206-f4f0-591e1a43da5f"
      },
      "source": [
        "# to Train the model\n",
        "history = model.fit(processed_x_train,y_train_upsampled, validation_data=(processed_x_val,y_val),epochs=10,batch_size=64,verbose=1)"
      ],
      "execution_count": null,
      "outputs": [
        {
          "output_type": "stream",
          "text": [
            "Epoch 1/10\n",
            "194/194 [==============================] - 23s 107ms/step - loss: 0.6484 - auc: 0.7183 - val_loss: 0.5817 - val_auc: 0.9411\n",
            "Epoch 2/10\n",
            "194/194 [==============================] - 20s 104ms/step - loss: 0.4494 - auc: 0.9844 - val_loss: 0.3935 - val_auc: 0.9502\n",
            "Epoch 3/10\n",
            "194/194 [==============================] - 20s 104ms/step - loss: 0.3027 - auc: 0.9934 - val_loss: 0.3016 - val_auc: 0.9507\n",
            "Epoch 4/10\n",
            "194/194 [==============================] - 20s 104ms/step - loss: 0.2046 - auc: 0.9954 - val_loss: 0.2631 - val_auc: 0.9450\n",
            "Epoch 5/10\n",
            "194/194 [==============================] - 20s 105ms/step - loss: 0.1431 - auc: 0.9961 - val_loss: 0.2382 - val_auc: 0.9400\n",
            "Epoch 6/10\n",
            "194/194 [==============================] - 20s 105ms/step - loss: 0.1063 - auc: 0.9956 - val_loss: 0.2235 - val_auc: 0.9399\n",
            "Epoch 7/10\n",
            "194/194 [==============================] - 20s 103ms/step - loss: 0.0806 - auc: 0.9969 - val_loss: 0.2289 - val_auc: 0.9302\n",
            "Epoch 8/10\n",
            "194/194 [==============================] - 20s 104ms/step - loss: 0.0674 - auc: 0.9958 - val_loss: 0.2300 - val_auc: 0.9350\n",
            "Epoch 9/10\n",
            "194/194 [==============================] - 20s 105ms/step - loss: 0.0564 - auc: 0.9972 - val_loss: 0.2321 - val_auc: 0.9347\n",
            "Epoch 10/10\n",
            "194/194 [==============================] - 20s 104ms/step - loss: 0.0462 - auc: 0.9973 - val_loss: 0.2244 - val_auc: 0.9436\n"
          ],
          "name": "stdout"
        }
      ]
    },
    {
      "cell_type": "code",
      "metadata": {
        "colab": {
          "base_uri": "https://localhost:8080/"
        },
        "id": "Kemdm7QIsP2P",
        "outputId": "262a18ad-1648-43ac-91b1-593f15afe411"
      },
      "source": [
        "history.history"
      ],
      "execution_count": null,
      "outputs": [
        {
          "output_type": "execute_result",
          "data": {
            "text/plain": [
              "{'auc': [0.8665237426757812,\n",
              "  0.9867997169494629,\n",
              "  0.993165135383606,\n",
              "  0.9947104454040527,\n",
              "  0.9951143264770508,\n",
              "  0.9958229660987854,\n",
              "  0.9957189559936523,\n",
              "  0.9958524107933044,\n",
              "  0.996309757232666,\n",
              "  0.9964116811752319],\n",
              " 'loss': [0.5976983308792114,\n",
              "  0.4119691848754883,\n",
              "  0.2783879339694977,\n",
              "  0.18841257691383362,\n",
              "  0.1347980499267578,\n",
              "  0.10074508190155029,\n",
              "  0.07935696840286255,\n",
              "  0.06573496013879776,\n",
              "  0.055952418595552444,\n",
              "  0.04878544807434082],\n",
              " 'val_auc': [0.9411293864250183,\n",
              "  0.9502348899841309,\n",
              "  0.9506546854972839,\n",
              "  0.9450182914733887,\n",
              "  0.93998783826828,\n",
              "  0.9399434924125671,\n",
              "  0.9301548004150391,\n",
              "  0.9350314140319824,\n",
              "  0.9346618056297302,\n",
              "  0.9435543417930603],\n",
              " 'val_loss': [0.5816922783851624,\n",
              "  0.39348387718200684,\n",
              "  0.30164656043052673,\n",
              "  0.263113409280777,\n",
              "  0.23818959295749664,\n",
              "  0.2235468626022339,\n",
              "  0.22886528074741364,\n",
              "  0.23004212975502014,\n",
              "  0.2321179360151291,\n",
              "  0.2243983894586563]}"
            ]
          },
          "metadata": {
            "tags": []
          },
          "execution_count": 114
        }
      ]
    },
    {
      "cell_type": "code",
      "metadata": {
        "colab": {
          "base_uri": "https://localhost:8080/",
          "height": 295
        },
        "id": "8japE8d4RX3J",
        "outputId": "8e8c9acd-8461-4e42-ebe6-32de0eacb4cc"
      },
      "source": [
        "plt.plot(history.history['auc'])\n",
        "plt.plot(history.history['val_auc'])\n",
        "plt.title('Model AUC')\n",
        "plt.ylabel('AUC')\n",
        "plt.xlabel('Epoch')\n",
        "plt.legend(['train', 'val'], loc='lower right')\n",
        "plt.ylim([0.8, 1.01])\n",
        "plt.xticks([i for i in range(11)])\n",
        "plt.xlim([0, 10])\n",
        "plt.show()"
      ],
      "execution_count": null,
      "outputs": [
        {
          "output_type": "display_data",
          "data": {
            "image/png": "[encoded data removed]",
            "text/plain": [
              "<Figure size 432x288 with 1 Axes>"
            ]
          },
          "metadata": {
            "tags": [],
            "needs_background": "light"
          }
        }
      ]
    },
    {
      "cell_type": "code",
      "metadata": {
        "id": "I8nVSuHsRX3J"
      },
      "source": [
        "y_pred = model.predict(processed_x_test)\n",
        "label = np.round(y_pred)"
      ],
      "execution_count": null,
      "outputs": []
    },
    {
      "cell_type": "code",
      "metadata": {
        "colab": {
          "base_uri": "https://localhost:8080/"
        },
        "id": "4nVyOMo3RX3J",
        "outputId": "3f08526c-b6b5-4226-aefc-4f0fe639045c"
      },
      "source": [
        "# Metrics\n",
        "from sklearn.metrics import f1_score, precision_score, recall_score, confusion_matrix\n",
        "from sklearn.metrics import classification_report\n",
        "target_names = ['Not Racist', 'Racist']\n",
        "print(classification_report(y_test, label, target_names=target_names))\n",
        "\n",
        "print(f\"Test Accuracy: {model.evaluate(processed_x_test,y_test, verbose=0)[1]*100:.2f}%\")\n",
        "print(f\"Test AUC: {metrics.roc_auc_score(y_test, label)*100:.2f}%\")"
      ],
      "execution_count": null,
      "outputs": [
        {
          "output_type": "stream",
          "text": [
            "              precision    recall  f1-score   support\n",
            "\n",
            "  Not Racist       0.96      0.96      0.96      1779\n",
            "      Racist       0.81      0.82      0.82       411\n",
            "\n",
            "    accuracy                           0.93      2190\n",
            "   macro avg       0.88      0.89      0.89      2190\n",
            "weighted avg       0.93      0.93      0.93      2190\n",
            "\n",
            "Test Accuracy: 93.20%\n",
            "Test AUC: 88.99%\n"
          ],
          "name": "stdout"
        }
      ]
    },
    {
      "cell_type": "code",
      "metadata": {
        "colab": {
          "base_uri": "https://localhost:8080/",
          "height": 350
        },
        "id": "hVUa7euZRX3K",
        "outputId": "9fef3806-e5ef-449d-93ac-bbf620219066"
      },
      "source": [
        "from sklearn.metrics import plot_confusion_matrix, confusion_matrix\n",
        "\n",
        "# Creates a confusion matrix\n",
        "cm = confusion_matrix(y_test, label)\n",
        "# Transform to df for easier plotting\n",
        "cm_df = pd.DataFrame(cm)\n",
        "plt.figure(figsize=(8,5))\n",
        "sns.heatmap(cm_df, annot=True, fmt='g', cmap=plt.cm.Blues, cbar=False)\n",
        "plt.rcParams['font.size'] = 10\n",
        "plt.title('Predictions')\n",
        "plt.ylabel('True Labels')\n",
        "plt.xlabel('Predicted Labels')\n",
        "plt.show()"
      ],
      "execution_count": null,
      "outputs": [
        {
          "output_type": "display_data",
          "data": {
            "image/png": "[encoded data removed]",
            "text/plain": [
              "<Figure size 576x360 with 1 Axes>"
            ]
          },
          "metadata": {
            "tags": []
          }
        }
      ]
    },
    {
      "cell_type": "markdown",
      "metadata": {
        "id": "2OntAyZcPyYu"
      },
      "source": [
        "### 30-neurons LSTM."
      ]
    },
    {
      "cell_type": "code",
      "metadata": {
        "colab": {
          "base_uri": "https://localhost:8080/"
        },
        "id": "STorB4WALSbQ",
        "outputId": "b014af75-b4e8-487c-f9dd-87654cec686c"
      },
      "source": [
        "# Deep Learning model (LSTM, CNN)\n",
        "model = Sequential()\n",
        "\n",
        "\n",
        "model.add(Embedding(vocab_size + 1, embedding_dim, weights=[embedding_matrix], input_length=max_len, trainable=True))\n",
        "\n",
        "\n",
        "model.add(LSTM(30, return_sequences=True, name='lstm_layer1'))#,kernel_regularizer=l2(0.01),recurrent_regularizer=l2(0.01)))\n",
        "model.add(Conv1D(filters=32, kernel_size=7, padding='same', activation='relu'))#,kernel_regularizer=l2(0.01),bias_regularizer=l2(0.01)))\n",
        "model.add(MaxPooling1D(3)) # to reduce network size\n",
        "model.add(GlobalMaxPooling1D())\n",
        "model.add(BatchNormalization()) # to reduce weights\n",
        "\n",
        "model.add(Dense(64, activation='relu',kernel_regularizer=l2(0.17),bias_regularizer=l2(0.01)))\n",
        "model.add(Dropout(0.3))\n",
        "model.add(Dense(32, activation='relu',kernel_regularizer=l2(0.19),bias_regularizer=l2(0.01)))\n",
        "model.add(Dropout(0.3))\n",
        "# model.add(Dense(16, kernel_regularizer=l2(0.001), activation='relu'))\n",
        "# model.add(Dropout(0.3))\n",
        "model.add(Dense(1, activation='sigmoid'))\n",
        "model.summary()"
      ],
      "execution_count": null,
      "outputs": [
        {
          "output_type": "stream",
          "text": [
            "Model: \"sequential_3\"\n",
            "_________________________________________________________________\n",
            "Layer (type)                 Output Shape              Param #   \n",
            "=================================================================\n",
            "embedding_3 (Embedding)      (None, 251, 256)          9768192   \n",
            "_________________________________________________________________\n",
            "lstm_layer1 (LSTM)           (None, 251, 30)           34440     \n",
            "_________________________________________________________________\n",
            "conv1d_3 (Conv1D)            (None, 251, 32)           6752      \n",
            "_________________________________________________________________\n",
            "max_pooling1d_3 (MaxPooling1 (None, 83, 32)            0         \n",
            "_________________________________________________________________\n",
            "global_max_pooling1d_3 (Glob (None, 32)                0         \n",
            "_________________________________________________________________\n",
            "batch_normalization_3 (Batch (None, 32)                128       \n",
            "_________________________________________________________________\n",
            "dense_7 (Dense)              (None, 64)                2112      \n",
            "_________________________________________________________________\n",
            "dropout_4 (Dropout)          (None, 64)                0         \n",
            "_________________________________________________________________\n",
            "dense_8 (Dense)              (None, 32)                2080      \n",
            "_________________________________________________________________\n",
            "dropout_5 (Dropout)          (None, 32)                0         \n",
            "_________________________________________________________________\n",
            "dense_9 (Dense)              (None, 1)                 33        \n",
            "=================================================================\n",
            "Total params: 9,813,737\n",
            "Trainable params: 9,813,673\n",
            "Non-trainable params: 64\n",
            "_________________________________________________________________\n"
          ],
          "name": "stdout"
        }
      ]
    },
    {
      "cell_type": "code",
      "metadata": {
        "id": "oBJomuOELSbi"
      },
      "source": [
        "model.compile(loss='binary_crossentropy', optimizer='Adam', metrics=['AUC'])"
      ],
      "execution_count": null,
      "outputs": []
    },
    {
      "cell_type": "code",
      "metadata": {
        "colab": {
          "base_uri": "https://localhost:8080/"
        },
        "id": "iwu1PdlALSbj",
        "outputId": "1dc8bb3d-2893-4adf-ebe2-18022258a598"
      },
      "source": [
        "# to Train the model\n",
        "history = model.fit(processed_x_train,y_train_upsampled, validation_data=(processed_x_val,y_val),epochs=10,batch_size=64,verbose=1)"
      ],
      "execution_count": null,
      "outputs": [
        {
          "output_type": "stream",
          "text": [
            "Epoch 1/10\n",
            "194/194 [==============================] - 25s 118ms/step - loss: 10.1325 - auc: 0.7392 - val_loss: 1.6416 - val_auc: 0.9473\n",
            "Epoch 2/10\n",
            "194/194 [==============================] - 22s 113ms/step - loss: 0.8709 - auc: 0.9887 - val_loss: 0.3630 - val_auc: 0.9516\n",
            "Epoch 3/10\n",
            "194/194 [==============================] - 22s 113ms/step - loss: 0.2126 - auc: 0.9982 - val_loss: 0.3183 - val_auc: 0.9557\n",
            "Epoch 4/10\n",
            "194/194 [==============================] - 22s 113ms/step - loss: 0.1572 - auc: 0.9993 - val_loss: 0.3142 - val_auc: 0.9522\n",
            "Epoch 5/10\n",
            "194/194 [==============================] - 22s 114ms/step - loss: 0.1360 - auc: 0.9991 - val_loss: 0.3341 - val_auc: 0.9402\n",
            "Epoch 6/10\n",
            "194/194 [==============================] - 22s 114ms/step - loss: 0.1201 - auc: 0.9996 - val_loss: 0.3195 - val_auc: 0.9510\n",
            "Epoch 7/10\n",
            "194/194 [==============================] - 22s 114ms/step - loss: 0.1110 - auc: 0.9992 - val_loss: 0.3678 - val_auc: 0.9285\n",
            "Epoch 8/10\n",
            "194/194 [==============================] - 22s 113ms/step - loss: 0.1006 - auc: 0.9989 - val_loss: 0.6177 - val_auc: 0.9431\n",
            "Epoch 9/10\n",
            "194/194 [==============================] - 22s 115ms/step - loss: 0.0948 - auc: 0.9994 - val_loss: 0.3401 - val_auc: 0.9365\n",
            "Epoch 10/10\n",
            "194/194 [==============================] - 22s 114ms/step - loss: 0.0877 - auc: 0.9990 - val_loss: 0.3294 - val_auc: 0.9453\n"
          ],
          "name": "stdout"
        }
      ]
    },
    {
      "cell_type": "code",
      "metadata": {
        "colab": {
          "base_uri": "https://localhost:8080/",
          "height": 294
        },
        "id": "dJ7Q500LLSbl",
        "outputId": "a70d850e-0f27-47d3-edaa-fd4307bbeeec"
      },
      "source": [
        "plt.plot(history.history['auc'])\n",
        "plt.plot(history.history['val_auc'])\n",
        "plt.title('Model AUC')\n",
        "plt.ylabel('AUC')\n",
        "plt.xlabel('Epoch')\n",
        "plt.legend(['train', 'val'], loc='lower right')\n",
        "plt.ylim([0.8, 1.01])\n",
        "plt.xticks([i for i in range(11)])\n",
        "plt.xlim([0, 10])\n",
        "plt.show()"
      ],
      "execution_count": null,
      "outputs": [
        {
          "output_type": "display_data",
          "data": {
            "image/png": "[encoded data removed]",
            "text/plain": [
              "<Figure size 432x288 with 1 Axes>"
            ]
          },
          "metadata": {
            "tags": []
          }
        }
      ]
    },
    {
      "cell_type": "code",
      "metadata": {
        "id": "1dJEdBLcLSbm"
      },
      "source": [
        "y_pred = model.predict(processed_x_test)\n",
        "label = np.round(y_pred)"
      ],
      "execution_count": null,
      "outputs": []
    },
    {
      "cell_type": "code",
      "metadata": {
        "colab": {
          "base_uri": "https://localhost:8080/"
        },
        "id": "8Zuoj8IfLSbm",
        "outputId": "1463b020-da9e-4919-d28a-0b99b60232cc"
      },
      "source": [
        "# Metrics\n",
        "from sklearn.metrics import f1_score, precision_score, recall_score, confusion_matrix\n",
        "from sklearn.metrics import classification_report\n",
        "target_names = ['Not Racist', 'Racist']\n",
        "print(classification_report(y_test, label, target_names=target_names))\n",
        "\n",
        "print(f\"Test Accuracy: {model.evaluate(processed_x_test,y_test, verbose=0)[1]*100:.2f}%\")\n",
        "print(f\"Test AUC: {metrics.roc_auc_score(y_test, label)*100:.2f}%\")"
      ],
      "execution_count": null,
      "outputs": [
        {
          "output_type": "stream",
          "text": [
            "              precision    recall  f1-score   support\n",
            "\n",
            "  Not Racist       0.95      0.95      0.95      1779\n",
            "      Racist       0.80      0.81      0.80       411\n",
            "\n",
            "    accuracy                           0.93      2190\n",
            "   macro avg       0.88      0.88      0.88      2190\n",
            "weighted avg       0.93      0.93      0.93      2190\n",
            "\n",
            "Test Accuracy: 94.05%\n",
            "Test AUC: 87.91%\n"
          ],
          "name": "stdout"
        }
      ]
    },
    {
      "cell_type": "code",
      "metadata": {
        "colab": {
          "base_uri": "https://localhost:8080/",
          "height": 350
        },
        "id": "gGYRSX7gLSbn",
        "outputId": "0de32304-a9d8-4d3d-e207-ec2e8bb8694b"
      },
      "source": [
        "from sklearn.metrics import plot_confusion_matrix, confusion_matrix\n",
        "\n",
        "# Creates a confusion matrix\n",
        "cm = confusion_matrix(y_test, label)\n",
        "# Transform to df for easier plotting\n",
        "cm_df = pd.DataFrame(cm)\n",
        "plt.figure(figsize=(8,5))\n",
        "sns.heatmap(cm_df, annot=True, fmt='g', cmap=plt.cm.Blues, cbar=False)\n",
        "plt.rcParams['font.size'] = 10\n",
        "plt.title('Predictions')\n",
        "plt.ylabel('True Labels')\n",
        "plt.xlabel('Predicted Labels')\n",
        "plt.show()"
      ],
      "execution_count": null,
      "outputs": [
        {
          "output_type": "display_data",
          "data": {
            "image/png": "[encoded data removed]",
            "text/plain": [
              "<Figure size 576x360 with 1 Axes>"
            ]
          },
          "metadata": {
            "tags": []
          }
        }
      ]
    },
    {
      "cell_type": "markdown",
      "metadata": {
        "id": "BJx_YEv2PF6m"
      },
      "source": [
        "### 100-neurons LSTM."
      ]
    },
    {
      "cell_type": "code",
      "metadata": {
        "colab": {
          "base_uri": "https://localhost:8080/"
        },
        "id": "0jFbGvWwPIkG",
        "outputId": "d8481055-2fbc-45e8-805d-2c0d671a300b"
      },
      "source": [
        "# Deep Learning model (LSTM, CNN)\n",
        "model = Sequential()\n",
        "\n",
        "\n",
        "model.add(Embedding(vocab_size + 1, embedding_dim, weights=[embedding_matrix], input_length=max_len, trainable=True))\n",
        "\n",
        "\n",
        "model.add(LSTM(100, return_sequences=True, name='lstm_layer1'))#,kernel_regularizer=l2(0.01),recurrent_regularizer=l2(0.01)))\n",
        "model.add(Conv1D(filters=32, kernel_size=7, padding='same', activation='relu'))#,kernel_regularizer=l2(0.01),bias_regularizer=l2(0.01)))\n",
        "model.add(MaxPooling1D(3)) # to reduce network size\n",
        "model.add(GlobalMaxPooling1D())\n",
        "model.add(BatchNormalization()) # to reduce weights\n",
        "\n",
        "model.add(Dense(64, activation='relu',kernel_regularizer=l2(0.17),bias_regularizer=l2(0.01)))\n",
        "model.add(Dropout(0.3))\n",
        "model.add(Dense(32, activation='relu',kernel_regularizer=l2(0.19),bias_regularizer=l2(0.01)))\n",
        "model.add(Dropout(0.3))\n",
        "# model.add(Dense(16, kernel_regularizer=l2(0.001), activation='relu'))\n",
        "# model.add(Dropout(0.3))\n",
        "model.add(Dense(1, activation='sigmoid'))\n",
        "model.summary()"
      ],
      "execution_count": null,
      "outputs": [
        {
          "output_type": "stream",
          "text": [
            "Model: \"sequential_4\"\n",
            "_________________________________________________________________\n",
            "Layer (type)                 Output Shape              Param #   \n",
            "=================================================================\n",
            "embedding_4 (Embedding)      (None, 251, 256)          9768192   \n",
            "_________________________________________________________________\n",
            "lstm_layer1 (LSTM)           (None, 251, 100)          142800    \n",
            "_________________________________________________________________\n",
            "conv1d_4 (Conv1D)            (None, 251, 32)           22432     \n",
            "_________________________________________________________________\n",
            "max_pooling1d_4 (MaxPooling1 (None, 83, 32)            0         \n",
            "_________________________________________________________________\n",
            "global_max_pooling1d_4 (Glob (None, 32)                0         \n",
            "_________________________________________________________________\n",
            "batch_normalization_4 (Batch (None, 32)                128       \n",
            "_________________________________________________________________\n",
            "dense_10 (Dense)             (None, 64)                2112      \n",
            "_________________________________________________________________\n",
            "dropout_6 (Dropout)          (None, 64)                0         \n",
            "_________________________________________________________________\n",
            "dense_11 (Dense)             (None, 32)                2080      \n",
            "_________________________________________________________________\n",
            "dropout_7 (Dropout)          (None, 32)                0         \n",
            "_________________________________________________________________\n",
            "dense_12 (Dense)             (None, 1)                 33        \n",
            "=================================================================\n",
            "Total params: 9,937,777\n",
            "Trainable params: 9,937,713\n",
            "Non-trainable params: 64\n",
            "_________________________________________________________________\n"
          ],
          "name": "stdout"
        }
      ]
    },
    {
      "cell_type": "code",
      "metadata": {
        "id": "1LALWJfHPIkM"
      },
      "source": [
        "model.compile(loss='binary_crossentropy', optimizer='Adam', metrics=['AUC'])"
      ],
      "execution_count": null,
      "outputs": []
    },
    {
      "cell_type": "code",
      "metadata": {
        "colab": {
          "base_uri": "https://localhost:8080/"
        },
        "id": "_VyZGpUtPIkO",
        "outputId": "a3c7a277-7bb2-4eb7-ddba-3c8336a1789e"
      },
      "source": [
        "# to Train the model\n",
        "history = model.fit(processed_x_train,y_train_upsampled, validation_data=(processed_x_val,y_val),epochs=10,batch_size=64,verbose=1)"
      ],
      "execution_count": null,
      "outputs": [
        {
          "output_type": "stream",
          "text": [
            "Epoch 1/10\n",
            "194/194 [==============================] - 27s 127ms/step - loss: 9.8432 - auc: 0.7838 - val_loss: 1.3796 - val_auc: 0.9464\n",
            "Epoch 2/10\n",
            "194/194 [==============================] - 24s 124ms/step - loss: 0.8439 - auc: 0.9858 - val_loss: 0.3926 - val_auc: 0.9444\n",
            "Epoch 3/10\n",
            "194/194 [==============================] - 24s 123ms/step - loss: 0.2211 - auc: 0.9958 - val_loss: 0.3376 - val_auc: 0.9441\n",
            "Epoch 4/10\n",
            "194/194 [==============================] - 24s 123ms/step - loss: 0.1642 - auc: 0.9977 - val_loss: 0.3647 - val_auc: 0.9428\n",
            "Epoch 5/10\n",
            "194/194 [==============================] - 24s 124ms/step - loss: 0.1400 - auc: 0.9986 - val_loss: 0.3318 - val_auc: 0.9452\n",
            "Epoch 6/10\n",
            "194/194 [==============================] - 24s 123ms/step - loss: 0.1245 - auc: 0.9990 - val_loss: 0.3593 - val_auc: 0.9294\n",
            "Epoch 7/10\n",
            "194/194 [==============================] - 24s 123ms/step - loss: 0.1104 - auc: 0.9993 - val_loss: 0.3676 - val_auc: 0.9410\n",
            "Epoch 8/10\n",
            "194/194 [==============================] - 24s 124ms/step - loss: 0.1075 - auc: 0.9983 - val_loss: 0.3792 - val_auc: 0.8968\n",
            "Epoch 9/10\n",
            "194/194 [==============================] - 24s 123ms/step - loss: 0.0926 - auc: 0.9996 - val_loss: 0.3588 - val_auc: 0.9259\n",
            "Epoch 10/10\n",
            "194/194 [==============================] - 24s 123ms/step - loss: 0.0867 - auc: 0.9996 - val_loss: 0.4283 - val_auc: 0.9219\n"
          ],
          "name": "stdout"
        }
      ]
    },
    {
      "cell_type": "code",
      "metadata": {
        "colab": {
          "base_uri": "https://localhost:8080/",
          "height": 294
        },
        "id": "57sa4JvKPIkS",
        "outputId": "c2a4af0c-25c5-40f5-a751-111da84a4172"
      },
      "source": [
        "plt.plot(history.history['auc'])\n",
        "plt.plot(history.history['val_auc'])\n",
        "plt.title('Model AUC')\n",
        "plt.ylabel('AUC')\n",
        "plt.xlabel('Epoch')\n",
        "plt.legend(['train', 'val'], loc='lower right')\n",
        "plt.ylim([0.8, 1.01])\n",
        "plt.xticks([i for i in range(11)])\n",
        "plt.xlim([0, 10])\n",
        "plt.show()"
      ],
      "execution_count": null,
      "outputs": [
        {
          "output_type": "display_data",
          "data": {
            "image/png": "[encoded data removed]",
            "text/plain": [
              "<Figure size 432x288 with 1 Axes>"
            ]
          },
          "metadata": {
            "tags": []
          }
        }
      ]
    },
    {
      "cell_type": "code",
      "metadata": {
        "id": "YjljpcoBPIkU"
      },
      "source": [
        "y_pred = model.predict(processed_x_test)\n",
        "label = np.round(y_pred)"
      ],
      "execution_count": null,
      "outputs": []
    },
    {
      "cell_type": "code",
      "metadata": {
        "colab": {
          "base_uri": "https://localhost:8080/"
        },
        "id": "HxuZkPsKPIkV",
        "outputId": "cd0f94fb-8c01-435a-cbfa-367da65e9401"
      },
      "source": [
        "# Metrics\n",
        "from sklearn.metrics import f1_score, precision_score, recall_score, confusion_matrix\n",
        "from sklearn.metrics import classification_report\n",
        "target_names = ['Not Racist', 'Racist']\n",
        "print(classification_report(y_test, label, target_names=target_names))\n",
        "\n",
        "print(f\"Test Accuracy: {model.evaluate(processed_x_test,y_test, verbose=0)[1]*100:.2f}%\")\n",
        "print(f\"Test AUC: {metrics.roc_auc_score(y_test, label)*100:.2f}%\")"
      ],
      "execution_count": null,
      "outputs": [
        {
          "output_type": "stream",
          "text": [
            "              precision    recall  f1-score   support\n",
            "\n",
            "  Not Racist       0.95      0.95      0.95      1779\n",
            "      Racist       0.78      0.76      0.77       411\n",
            "\n",
            "    accuracy                           0.91      2190\n",
            "   macro avg       0.86      0.86      0.86      2190\n",
            "weighted avg       0.91      0.91      0.91      2190\n",
            "\n",
            "Test Accuracy: 92.75%\n",
            "Test AUC: 85.55%\n"
          ],
          "name": "stdout"
        }
      ]
    },
    {
      "cell_type": "code",
      "metadata": {
        "colab": {
          "base_uri": "https://localhost:8080/",
          "height": 350
        },
        "id": "jPd3j1GCPIkW",
        "outputId": "47081155-9ca9-4eb6-8c11-0caeb3b60700"
      },
      "source": [
        "from sklearn.metrics import plot_confusion_matrix, confusion_matrix\n",
        "\n",
        "# Creates a confusion matrix\n",
        "cm = confusion_matrix(y_test, label)\n",
        "# Transform to df for easier plotting\n",
        "cm_df = pd.DataFrame(cm)\n",
        "plt.figure(figsize=(8,5))\n",
        "sns.heatmap(cm_df, annot=True, fmt='g', cmap=plt.cm.Blues, cbar=False)\n",
        "plt.rcParams['font.size'] = 10\n",
        "plt.title('Predictions')\n",
        "plt.ylabel('True Labels')\n",
        "plt.xlabel('Predicted Labels')\n",
        "plt.show()"
      ],
      "execution_count": null,
      "outputs": [
        {
          "output_type": "display_data",
          "data": {
            "image/png": "[encoded data removed]",
            "text/plain": [
              "<Figure size 576x360 with 1 Axes>"
            ]
          },
          "metadata": {
            "tags": []
          }
        }
      ]
    },
    {
      "cell_type": "markdown",
      "metadata": {
        "id": "haeYCC4LP-Y0"
      },
      "source": [
        "### 150-neurons LSTM."
      ]
    },
    {
      "cell_type": "code",
      "metadata": {
        "colab": {
          "base_uri": "https://localhost:8080/"
        },
        "id": "HA6TgPeKQBAO",
        "outputId": "8aa5d50d-a104-4d1c-9af2-e5f14d337067"
      },
      "source": [
        "# Deep Learning model (LSTM, CNN)\n",
        "model = Sequential()\n",
        "\n",
        "\n",
        "model.add(Embedding(vocab_size + 1, embedding_dim, weights=[embedding_matrix], input_length=max_len, trainable=True))\n",
        "\n",
        "\n",
        "model.add(LSTM(150, return_sequences=True, name='lstm_layer1'))#,kernel_regularizer=l2(0.01),recurrent_regularizer=l2(0.01)))\n",
        "model.add(Conv1D(filters=32, kernel_size=7, padding='same', activation='relu'))#,kernel_regularizer=l2(0.01),bias_regularizer=l2(0.01)))\n",
        "model.add(MaxPooling1D(3)) # to reduce network size\n",
        "model.add(GlobalMaxPooling1D())\n",
        "model.add(BatchNormalization()) # to reduce weights\n",
        "\n",
        "model.add(Dense(64, activation='relu',kernel_regularizer=l2(0.17),bias_regularizer=l2(0.01)))\n",
        "model.add(Dropout(0.3))\n",
        "model.add(Dense(32, activation='relu',kernel_regularizer=l2(0.19),bias_regularizer=l2(0.01)))\n",
        "model.add(Dropout(0.3))\n",
        "# model.add(Dense(16, kernel_regularizer=l2(0.001), activation='relu'))\n",
        "# model.add(Dropout(0.3))\n",
        "model.add(Dense(1, activation='sigmoid'))\n",
        "model.summary()"
      ],
      "execution_count": null,
      "outputs": [
        {
          "output_type": "stream",
          "text": [
            "Model: \"sequential_5\"\n",
            "_________________________________________________________________\n",
            "Layer (type)                 Output Shape              Param #   \n",
            "=================================================================\n",
            "embedding_5 (Embedding)      (None, 251, 256)          9768192   \n",
            "_________________________________________________________________\n",
            "lstm_layer1 (LSTM)           (None, 251, 150)          244200    \n",
            "_________________________________________________________________\n",
            "conv1d_5 (Conv1D)            (None, 251, 32)           33632     \n",
            "_________________________________________________________________\n",
            "max_pooling1d_5 (MaxPooling1 (None, 83, 32)            0         \n",
            "_________________________________________________________________\n",
            "global_max_pooling1d_5 (Glob (None, 32)                0         \n",
            "_________________________________________________________________\n",
            "batch_normalization_5 (Batch (None, 32)                128       \n",
            "_________________________________________________________________\n",
            "dense_13 (Dense)             (None, 64)                2112      \n",
            "_________________________________________________________________\n",
            "dropout_8 (Dropout)          (None, 64)                0         \n",
            "_________________________________________________________________\n",
            "dense_14 (Dense)             (None, 32)                2080      \n",
            "_________________________________________________________________\n",
            "dropout_9 (Dropout)          (None, 32)                0         \n",
            "_________________________________________________________________\n",
            "dense_15 (Dense)             (None, 1)                 33        \n",
            "=================================================================\n",
            "Total params: 10,050,377\n",
            "Trainable params: 10,050,313\n",
            "Non-trainable params: 64\n",
            "_________________________________________________________________\n"
          ],
          "name": "stdout"
        }
      ]
    },
    {
      "cell_type": "code",
      "metadata": {
        "id": "yIzyjIGbQBAT"
      },
      "source": [
        "model.compile(loss='binary_crossentropy', optimizer='Adam', metrics=['AUC'])"
      ],
      "execution_count": null,
      "outputs": []
    },
    {
      "cell_type": "code",
      "metadata": {
        "colab": {
          "base_uri": "https://localhost:8080/"
        },
        "id": "Mui5fPsuQBAU",
        "outputId": "17e07bb3-b9cb-46d0-ba11-fd1dce9561fc"
      },
      "source": [
        "# to Train the model\n",
        "history = model.fit(processed_x_train,y_train_upsampled, validation_data=(processed_x_val,y_val),epochs=10,batch_size=64,verbose=1)"
      ],
      "execution_count": null,
      "outputs": [
        {
          "output_type": "stream",
          "text": [
            "Epoch 1/10\n",
            "194/194 [==============================] - 28s 133ms/step - loss: 9.8196 - auc: 0.7961 - val_loss: 1.4127 - val_auc: 0.9492\n",
            "Epoch 2/10\n",
            "194/194 [==============================] - 25s 130ms/step - loss: 0.8510 - auc: 0.9851 - val_loss: 0.3798 - val_auc: 0.9482\n",
            "Epoch 3/10\n",
            "194/194 [==============================] - 25s 130ms/step - loss: 0.2205 - auc: 0.9979 - val_loss: 0.3418 - val_auc: 0.9514\n",
            "Epoch 4/10\n",
            "194/194 [==============================] - 25s 131ms/step - loss: 0.1689 - auc: 0.9980 - val_loss: 0.3394 - val_auc: 0.9452\n",
            "Epoch 5/10\n",
            "194/194 [==============================] - 25s 130ms/step - loss: 0.1402 - auc: 0.9989 - val_loss: 0.3528 - val_auc: 0.9268\n",
            "Epoch 6/10\n",
            "194/194 [==============================] - 25s 130ms/step - loss: 0.1225 - auc: 0.9993 - val_loss: 0.3792 - val_auc: 0.9266\n",
            "Epoch 7/10\n",
            "194/194 [==============================] - 25s 130ms/step - loss: 0.1119 - auc: 0.9992 - val_loss: 0.3603 - val_auc: 0.9360\n",
            "Epoch 8/10\n",
            "194/194 [==============================] - 25s 131ms/step - loss: 0.1124 - auc: 0.9987 - val_loss: 0.4138 - val_auc: 0.9175\n",
            "Epoch 9/10\n",
            "194/194 [==============================] - 25s 130ms/step - loss: 0.0935 - auc: 0.9986 - val_loss: 0.3858 - val_auc: 0.9423\n",
            "Epoch 10/10\n",
            "194/194 [==============================] - 25s 130ms/step - loss: 0.0890 - auc: 0.9981 - val_loss: 0.3652 - val_auc: 0.9434\n"
          ],
          "name": "stdout"
        }
      ]
    },
    {
      "cell_type": "code",
      "metadata": {
        "colab": {
          "base_uri": "https://localhost:8080/",
          "height": 294
        },
        "id": "tojBGBCbQBAY",
        "outputId": "0cc1507f-8bf4-46a8-ba26-d0a7446313c3"
      },
      "source": [
        "plt.plot(history.history['auc'])\n",
        "plt.plot(history.history['val_auc'])\n",
        "plt.title('Model AUC')\n",
        "plt.ylabel('AUC')\n",
        "plt.xlabel('Epoch')\n",
        "plt.legend(['train', 'val'], loc='lower right')\n",
        "plt.ylim([0.8, 1.01])\n",
        "plt.xticks([i for i in range(11)])\n",
        "plt.xlim([0, 10])\n",
        "plt.show()"
      ],
      "execution_count": null,
      "outputs": [
        {
          "output_type": "display_data",
          "data": {
            "image/png": "[encoded data removed]",
            "text/plain": [
              "<Figure size 432x288 with 1 Axes>"
            ]
          },
          "metadata": {
            "tags": []
          }
        }
      ]
    },
    {
      "cell_type": "code",
      "metadata": {
        "id": "p6vixrvJQBAa"
      },
      "source": [
        "y_pred = model.predict(processed_x_test)\n",
        "label = np.round(y_pred)"
      ],
      "execution_count": null,
      "outputs": []
    },
    {
      "cell_type": "code",
      "metadata": {
        "colab": {
          "base_uri": "https://localhost:8080/"
        },
        "id": "0eV7Ti_6QBAb",
        "outputId": "808e1094-97df-4ca0-b4a9-87b63e6b0b2a"
      },
      "source": [
        "# Metrics\n",
        "from sklearn.metrics import f1_score, precision_score, recall_score, confusion_matrix\n",
        "from sklearn.metrics import classification_report\n",
        "target_names = ['Not Racist', 'Racist']\n",
        "print(classification_report(y_test, label, target_names=target_names))\n",
        "\n",
        "print(f\"Test Accuracy: {model.evaluate(processed_x_test,y_test, verbose=0)[1]*100:.2f}%\")\n",
        "print(f\"Test AUC: {metrics.roc_auc_score(y_test, label)*100:.2f}%\")"
      ],
      "execution_count": null,
      "outputs": [
        {
          "output_type": "stream",
          "text": [
            "              precision    recall  f1-score   support\n",
            "\n",
            "  Not Racist       0.95      0.96      0.95      1779\n",
            "      Racist       0.80      0.76      0.78       411\n",
            "\n",
            "    accuracy                           0.92      2190\n",
            "   macro avg       0.87      0.86      0.87      2190\n",
            "weighted avg       0.92      0.92      0.92      2190\n",
            "\n",
            "Test Accuracy: 94.08%\n",
            "Test AUC: 85.89%\n"
          ],
          "name": "stdout"
        }
      ]
    },
    {
      "cell_type": "code",
      "metadata": {
        "colab": {
          "base_uri": "https://localhost:8080/",
          "height": 350
        },
        "id": "Lt8VQEv5QBAd",
        "outputId": "57c2abf3-a760-4146-b6cc-ec478513cd5d"
      },
      "source": [
        "from sklearn.metrics import plot_confusion_matrix, confusion_matrix\n",
        "\n",
        "# Creates a confusion matrix\n",
        "cm = confusion_matrix(y_test, label)\n",
        "# Transform to df for easier plotting\n",
        "cm_df = pd.DataFrame(cm)\n",
        "plt.figure(figsize=(8,5))\n",
        "sns.heatmap(cm_df, annot=True, fmt='g', cmap=plt.cm.Blues, cbar=False)\n",
        "plt.rcParams['font.size'] = 10\n",
        "plt.title('Predictions')\n",
        "plt.ylabel('True Labels')\n",
        "plt.xlabel('Predicted Labels')\n",
        "plt.show()"
      ],
      "execution_count": null,
      "outputs": [
        {
          "output_type": "display_data",
          "data": {
            "image/png": "[encoded data removed]",
            "text/plain": [
              "<Figure size 576x360 with 1 Axes>"
            ]
          },
          "metadata": {
            "tags": []
          }
        }
      ]
    },
    {
      "cell_type": "markdown",
      "metadata": {
        "id": "1ipTA0J3QZKq"
      },
      "source": [
        "### 200-neurons LSTM."
      ]
    },
    {
      "cell_type": "code",
      "metadata": {
        "colab": {
          "base_uri": "https://localhost:8080/"
        },
        "id": "23Bcg1ziQbF2",
        "outputId": "3b1d030b-5df8-4b9a-b17c-9cf0c1afd296"
      },
      "source": [
        "# Deep Learning model (LSTM, CNN)\n",
        "model = Sequential()\n",
        "\n",
        "\n",
        "model.add(Embedding(vocab_size + 1, embedding_dim, weights=[embedding_matrix], input_length=max_len, trainable=True))\n",
        "\n",
        "\n",
        "model.add(LSTM(200, return_sequences=True, name='lstm_layer1'))#,kernel_regularizer=l2(0.01),recurrent_regularizer=l2(0.01)))\n",
        "model.add(Conv1D(filters=32, kernel_size=7, padding='same', activation='relu'))#,kernel_regularizer=l2(0.01),bias_regularizer=l2(0.01)))\n",
        "model.add(MaxPooling1D(3)) # to reduce network size\n",
        "model.add(GlobalMaxPooling1D())\n",
        "model.add(BatchNormalization()) # to reduce weights\n",
        "\n",
        "model.add(Dense(64, activation='relu',kernel_regularizer=l2(0.17),bias_regularizer=l2(0.01)))\n",
        "model.add(Dropout(0.3))\n",
        "model.add(Dense(32, activation='relu',kernel_regularizer=l2(0.19),bias_regularizer=l2(0.01)))\n",
        "model.add(Dropout(0.3))\n",
        "# model.add(Dense(16, kernel_regularizer=l2(0.001), activation='relu'))\n",
        "# model.add(Dropout(0.3))\n",
        "model.add(Dense(1, activation='sigmoid'))\n",
        "model.summary()"
      ],
      "execution_count": null,
      "outputs": [
        {
          "output_type": "stream",
          "text": [
            "Model: \"sequential_6\"\n",
            "_________________________________________________________________\n",
            "Layer (type)                 Output Shape              Param #   \n",
            "=================================================================\n",
            "embedding_6 (Embedding)      (None, 251, 256)          9768192   \n",
            "_________________________________________________________________\n",
            "lstm_layer1 (LSTM)           (None, 251, 200)          365600    \n",
            "_________________________________________________________________\n",
            "conv1d_6 (Conv1D)            (None, 251, 32)           44832     \n",
            "_________________________________________________________________\n",
            "max_pooling1d_6 (MaxPooling1 (None, 83, 32)            0         \n",
            "_________________________________________________________________\n",
            "global_max_pooling1d_6 (Glob (None, 32)                0         \n",
            "_________________________________________________________________\n",
            "batch_normalization_6 (Batch (None, 32)                128       \n",
            "_________________________________________________________________\n",
            "dense_16 (Dense)             (None, 64)                2112      \n",
            "_________________________________________________________________\n",
            "dropout_10 (Dropout)         (None, 64)                0         \n",
            "_________________________________________________________________\n",
            "dense_17 (Dense)             (None, 32)                2080      \n",
            "_________________________________________________________________\n",
            "dropout_11 (Dropout)         (None, 32)                0         \n",
            "_________________________________________________________________\n",
            "dense_18 (Dense)             (None, 1)                 33        \n",
            "=================================================================\n",
            "Total params: 10,182,977\n",
            "Trainable params: 10,182,913\n",
            "Non-trainable params: 64\n",
            "_________________________________________________________________\n"
          ],
          "name": "stdout"
        }
      ]
    },
    {
      "cell_type": "code",
      "metadata": {
        "id": "SQY_srj4QbF4"
      },
      "source": [
        "model.compile(loss='binary_crossentropy', optimizer='Adam', metrics=['AUC'])"
      ],
      "execution_count": null,
      "outputs": []
    },
    {
      "cell_type": "code",
      "metadata": {
        "colab": {
          "base_uri": "https://localhost:8080/"
        },
        "id": "_2Afv4j5QbF4",
        "outputId": "4c791b68-f516-44a9-b114-203d37d3ba93"
      },
      "source": [
        "# to Train the model\n",
        "history = model.fit(processed_x_train,y_train_upsampled, validation_data=(processed_x_val,y_val),epochs=10,batch_size=64,verbose=1)"
      ],
      "execution_count": null,
      "outputs": [
        {
          "output_type": "stream",
          "text": [
            "Epoch 1/10\n",
            "194/194 [==============================] - 29s 139ms/step - loss: 9.8762 - auc: 0.8024 - val_loss: 1.4326 - val_auc: 0.9114\n",
            "Epoch 2/10\n",
            "194/194 [==============================] - 26s 135ms/step - loss: 0.8826 - auc: 0.9785 - val_loss: 0.3927 - val_auc: 0.9491\n",
            "Epoch 3/10\n",
            "194/194 [==============================] - 26s 135ms/step - loss: 0.2207 - auc: 0.9955 - val_loss: 0.3521 - val_auc: 0.9444\n",
            "Epoch 4/10\n",
            "194/194 [==============================] - 26s 135ms/step - loss: 0.1656 - auc: 0.9976 - val_loss: 0.3551 - val_auc: 0.9177\n",
            "Epoch 5/10\n",
            "194/194 [==============================] - 26s 135ms/step - loss: 0.1415 - auc: 0.9973 - val_loss: 0.3749 - val_auc: 0.9296\n",
            "Epoch 6/10\n",
            "194/194 [==============================] - 26s 135ms/step - loss: 0.1260 - auc: 0.9979 - val_loss: 0.3588 - val_auc: 0.9331\n",
            "Epoch 7/10\n",
            "194/194 [==============================] - 26s 136ms/step - loss: 0.1115 - auc: 0.9984 - val_loss: 0.3563 - val_auc: 0.9297\n",
            "Epoch 8/10\n",
            "194/194 [==============================] - 26s 135ms/step - loss: 0.0986 - auc: 0.9992 - val_loss: 0.3296 - val_auc: 0.9227\n",
            "Epoch 9/10\n",
            "194/194 [==============================] - 26s 134ms/step - loss: 0.0900 - auc: 0.9994 - val_loss: 0.3507 - val_auc: 0.9183\n",
            "Epoch 10/10\n",
            "194/194 [==============================] - 26s 135ms/step - loss: 0.0866 - auc: 0.9991 - val_loss: 0.4060 - val_auc: 0.8726\n"
          ],
          "name": "stdout"
        }
      ]
    },
    {
      "cell_type": "code",
      "metadata": {
        "colab": {
          "base_uri": "https://localhost:8080/",
          "height": 294
        },
        "id": "UgzaljY9QbF5",
        "outputId": "cf3c7e4a-547d-44da-c915-33bef75082d6"
      },
      "source": [
        "plt.plot(history.history['auc'])\n",
        "plt.plot(history.history['val_auc'])\n",
        "plt.title('Model AUC')\n",
        "plt.ylabel('AUC')\n",
        "plt.xlabel('Epoch')\n",
        "plt.legend(['train', 'val'], loc='lower right')\n",
        "plt.ylim([0.8, 1.01])\n",
        "plt.xticks([i for i in range(11)])\n",
        "plt.xlim([0, 10])\n",
        "plt.show()"
      ],
      "execution_count": null,
      "outputs": [
        {
          "output_type": "display_data",
          "data": {
            "image/png": "[encoded data removed]",
            "text/plain": [
              "<Figure size 432x288 with 1 Axes>"
            ]
          },
          "metadata": {
            "tags": []
          }
        }
      ]
    },
    {
      "cell_type": "code",
      "metadata": {
        "id": "3Zs6DHPpQbF5"
      },
      "source": [
        "y_pred = model.predict(processed_x_test)\n",
        "label = np.round(y_pred)"
      ],
      "execution_count": null,
      "outputs": []
    },
    {
      "cell_type": "code",
      "metadata": {
        "colab": {
          "base_uri": "https://localhost:8080/"
        },
        "id": "d5btksM_QbF5",
        "outputId": "a8658f57-dacb-495a-9e64-bef5d31b9117"
      },
      "source": [
        "# Metrics\n",
        "from sklearn.metrics import f1_score, precision_score, recall_score, confusion_matrix\n",
        "from sklearn.metrics import classification_report\n",
        "target_names = ['Not Racist', 'Racist']\n",
        "print(classification_report(y_test, label, target_names=target_names))\n",
        "\n",
        "print(f\"Test Accuracy: {model.evaluate(processed_x_test,y_test, verbose=0)[1]*100:.2f}%\")\n",
        "print(f\"Test AUC: {metrics.roc_auc_score(y_test, label)*100:.2f}%\")"
      ],
      "execution_count": null,
      "outputs": [
        {
          "output_type": "stream",
          "text": [
            "              precision    recall  f1-score   support\n",
            "\n",
            "  Not Racist       0.93      0.96      0.95      1779\n",
            "      Racist       0.81      0.69      0.74       411\n",
            "\n",
            "    accuracy                           0.91      2190\n",
            "   macro avg       0.87      0.83      0.84      2190\n",
            "weighted avg       0.91      0.91      0.91      2190\n",
            "\n",
            "Test Accuracy: 89.45%\n",
            "Test AUC: 82.52%\n"
          ],
          "name": "stdout"
        }
      ]
    },
    {
      "cell_type": "code",
      "metadata": {
        "colab": {
          "base_uri": "https://localhost:8080/",
          "height": 350
        },
        "id": "uawQ2IzbQbF6",
        "outputId": "0e09feb8-f568-4efc-bf7b-3fe346695582"
      },
      "source": [
        "from sklearn.metrics import plot_confusion_matrix, confusion_matrix\n",
        "\n",
        "# Creates a confusion matrix\n",
        "cm = confusion_matrix(y_test, label)\n",
        "# Transform to df for easier plotting\n",
        "cm_df = pd.DataFrame(cm)\n",
        "plt.figure(figsize=(8,5))\n",
        "sns.heatmap(cm_df, annot=True, fmt='g', cmap=plt.cm.Blues, cbar=False)\n",
        "plt.rcParams['font.size'] = 10\n",
        "plt.title('Predictions')\n",
        "plt.ylabel('True Labels')\n",
        "plt.xlabel('Predicted Labels')\n",
        "plt.show()"
      ],
      "execution_count": null,
      "outputs": [
        {
          "output_type": "display_data",
          "data": {
            "image/png": "[encoded data removed]",
            "text/plain": [
              "<Figure size 576x360 with 1 Axes>"
            ]
          },
          "metadata": {
            "tags": []
          }
        }
      ]
    },
    {
      "cell_type": "markdown",
      "metadata": {
        "id": "V-recOehryr4"
      },
      "source": [
        "### Conclusion:\n",
        "100-neurons LSTM showed the highest AUC validation of 0.9558 after 4 ephocs.\n"
      ]
    },
    {
      "cell_type": "markdown",
      "metadata": {
        "id": "4nHWTGN1so1U"
      },
      "source": [
        "# Experimenting with different learning rate values"
      ]
    },
    {
      "cell_type": "code",
      "metadata": {
        "colab": {
          "base_uri": "https://localhost:8080/"
        },
        "id": "WG1_8c50sxCc",
        "outputId": "94c8dc6a-8e52-440a-97cb-55c3efbf845f"
      },
      "source": [
        "# Deep Learning model (LSTM, CNN)\n",
        "model = Sequential()\n",
        "\n",
        "\n",
        "model.add(Embedding(vocab_size + 1, embedding_dim, weights=[embedding_matrix], input_length=max_len, trainable=True))\n",
        "\n",
        "\n",
        "model.add(LSTM(100, return_sequences=True, name='lstm_layer1'))#,kernel_regularizer=l2(0.01),recurrent_regularizer=l2(0.01)))\n",
        "model.add(Conv1D(filters=32, kernel_size=7, padding='same', activation='relu'))#,kernel_regularizer=l2(0.01),bias_regularizer=l2(0.01)))\n",
        "model.add(MaxPooling1D(3)) # to reduce network size\n",
        "model.add(GlobalMaxPooling1D())\n",
        "model.add(BatchNormalization()) # to reduce weights\n",
        "\n",
        "model.add(Dense(64, activation='relu',kernel_regularizer=l2(0.17),bias_regularizer=l2(0.01)))\n",
        "model.add(Dropout(0.3))\n",
        "model.add(Dense(32, activation='relu',kernel_regularizer=l2(0.19),bias_regularizer=l2(0.01)))\n",
        "model.add(Dropout(0.3))\n",
        "# model.add(Dense(16, kernel_regularizer=l2(0.001), activation='relu'))\n",
        "# model.add(Dropout(0.3))\n",
        "model.add(Dense(1, activation='sigmoid'))\n",
        "model.summary()"
      ],
      "execution_count": null,
      "outputs": [
        {
          "output_type": "stream",
          "text": [
            "Model: \"sequential_7\"\n",
            "_________________________________________________________________\n",
            "Layer (type)                 Output Shape              Param #   \n",
            "=================================================================\n",
            "embedding_7 (Embedding)      (None, 251, 256)          9768192   \n",
            "_________________________________________________________________\n",
            "lstm_layer1 (LSTM)           (None, 251, 100)          142800    \n",
            "_________________________________________________________________\n",
            "conv1d_7 (Conv1D)            (None, 251, 32)           22432     \n",
            "_________________________________________________________________\n",
            "max_pooling1d_7 (MaxPooling1 (None, 83, 32)            0         \n",
            "_________________________________________________________________\n",
            "global_max_pooling1d_7 (Glob (None, 32)                0         \n",
            "_________________________________________________________________\n",
            "batch_normalization_7 (Batch (None, 32)                128       \n",
            "_________________________________________________________________\n",
            "dense_19 (Dense)             (None, 64)                2112      \n",
            "_________________________________________________________________\n",
            "dropout_12 (Dropout)         (None, 64)                0         \n",
            "_________________________________________________________________\n",
            "dense_20 (Dense)             (None, 32)                2080      \n",
            "_________________________________________________________________\n",
            "dropout_13 (Dropout)         (None, 32)                0         \n",
            "_________________________________________________________________\n",
            "dense_21 (Dense)             (None, 1)                 33        \n",
            "=================================================================\n",
            "Total params: 9,937,777\n",
            "Trainable params: 9,937,713\n",
            "Non-trainable params: 64\n",
            "_________________________________________________________________\n"
          ],
          "name": "stdout"
        }
      ]
    },
    {
      "cell_type": "markdown",
      "metadata": {
        "id": "whSz5ToKtFvz"
      },
      "source": [
        "### 0.1 learning rate."
      ]
    },
    {
      "cell_type": "code",
      "metadata": {
        "id": "Z1XKtbw6sxC7"
      },
      "source": [
        "model.compile(loss='binary_crossentropy', optimizer=keras.optimizers.Adam(lr=0.1), metrics=['AUC'])"
      ],
      "execution_count": null,
      "outputs": []
    },
    {
      "cell_type": "code",
      "metadata": {
        "colab": {
          "base_uri": "https://localhost:8080/"
        },
        "id": "ypGzjgxesxC7",
        "outputId": "db947a43-93db-4e2b-a78f-e6031fa907a6"
      },
      "source": [
        "# to Train the model\n",
        "history = model.fit(processed_x_train,y_train_upsampled, validation_data=(processed_x_val,y_val),epochs=10,batch_size=64,verbose=1)"
      ],
      "execution_count": null,
      "outputs": [
        {
          "output_type": "stream",
          "text": [
            "Epoch 1/10\n",
            "194/194 [==============================] - 27s 125ms/step - loss: 2.0996 - auc: 0.8235 - val_loss: 1.1652 - val_auc: 0.9122\n",
            "Epoch 2/10\n",
            "194/194 [==============================] - 24s 122ms/step - loss: 0.8837 - auc: 0.9585 - val_loss: 2.8665 - val_auc: 0.8030\n",
            "Epoch 3/10\n",
            "194/194 [==============================] - 24s 122ms/step - loss: 2.4612 - auc: 0.9327 - val_loss: 0.8354 - val_auc: 0.8895\n",
            "Epoch 4/10\n",
            "194/194 [==============================] - 24s 122ms/step - loss: 0.8552 - auc: 0.9657 - val_loss: 0.7015 - val_auc: 0.8985\n",
            "Epoch 5/10\n",
            "194/194 [==============================] - 24s 122ms/step - loss: 1.6079 - auc: 0.9585 - val_loss: 0.8451 - val_auc: 0.8722\n",
            "Epoch 6/10\n",
            "194/194 [==============================] - 24s 122ms/step - loss: 1.4862 - auc: 0.9413 - val_loss: 0.8408 - val_auc: 0.8597\n",
            "Epoch 7/10\n",
            "194/194 [==============================] - 24s 122ms/step - loss: 0.5501 - auc: 0.9758 - val_loss: 2.0334 - val_auc: 0.8661\n",
            "Epoch 8/10\n",
            "194/194 [==============================] - 24s 122ms/step - loss: 1.0252 - auc: 0.9680 - val_loss: 0.7227 - val_auc: 0.8944\n",
            "Epoch 9/10\n",
            "194/194 [==============================] - 24s 121ms/step - loss: 0.6811 - auc: 0.9779 - val_loss: 1.4121 - val_auc: 0.8925\n",
            "Epoch 10/10\n",
            "194/194 [==============================] - 24s 122ms/step - loss: 1.0459 - auc: 0.9699 - val_loss: 1.0106 - val_auc: 0.8897\n"
          ],
          "name": "stdout"
        }
      ]
    },
    {
      "cell_type": "code",
      "metadata": {
        "colab": {
          "base_uri": "https://localhost:8080/",
          "height": 294
        },
        "id": "pzrMJzJwsxC9",
        "outputId": "7e3722cb-f736-408f-cd5a-65d413bc0da9"
      },
      "source": [
        "plt.plot(history.history['auc'])\n",
        "plt.plot(history.history['val_auc'])\n",
        "plt.title('Model AUC')\n",
        "plt.ylabel('AUC')\n",
        "plt.xlabel('Epoch')\n",
        "plt.legend(['train', 'val'], loc='lower right')\n",
        "plt.ylim([0.8, 1.01])\n",
        "plt.xticks([i for i in range(11)])\n",
        "plt.xlim([0, 10])\n",
        "plt.show()"
      ],
      "execution_count": null,
      "outputs": [
        {
          "output_type": "display_data",
          "data": {
            "image/png": "[encoded data removed]",
            "text/plain": [
              "<Figure size 432x288 with 1 Axes>"
            ]
          },
          "metadata": {
            "tags": []
          }
        }
      ]
    },
    {
      "cell_type": "code",
      "metadata": {
        "id": "ZODin9VxsxC-"
      },
      "source": [
        "y_pred = model.predict(processed_x_test)\n",
        "label = np.round(y_pred)"
      ],
      "execution_count": null,
      "outputs": []
    },
    {
      "cell_type": "code",
      "metadata": {
        "colab": {
          "base_uri": "https://localhost:8080/"
        },
        "id": "wvWVT0-CsxC-",
        "outputId": "45667464-47ac-4575-e17f-abe6b0c1e6e4"
      },
      "source": [
        "# Metrics\n",
        "from sklearn.metrics import f1_score, precision_score, recall_score, confusion_matrix\n",
        "from sklearn.metrics import classification_report\n",
        "target_names = ['Not Racist', 'Racist']\n",
        "print(classification_report(y_test, label, target_names=target_names))\n",
        "\n",
        "print(f\"Test Accuracy: {model.evaluate(processed_x_test,y_test, verbose=0)[1]*100:.2f}%\")\n",
        "print(f\"Test AUC: {metrics.roc_auc_score(y_test, label)*100:.2f}%\")"
      ],
      "execution_count": null,
      "outputs": [
        {
          "output_type": "stream",
          "text": [
            "              precision    recall  f1-score   support\n",
            "\n",
            "  Not Racist       0.90      0.95      0.92      1779\n",
            "      Racist       0.71      0.52      0.60       411\n",
            "\n",
            "    accuracy                           0.87      2190\n",
            "   macro avg       0.80      0.74      0.76      2190\n",
            "weighted avg       0.86      0.87      0.86      2190\n",
            "\n",
            "Test Accuracy: 87.65%\n",
            "Test AUC: 73.59%\n"
          ],
          "name": "stdout"
        }
      ]
    },
    {
      "cell_type": "code",
      "metadata": {
        "colab": {
          "base_uri": "https://localhost:8080/",
          "height": 53
        },
        "id": "8DkyAOJwsxC_",
        "outputId": "705bc006-0395-46b1-923f-25b287041bcb"
      },
      "source": [
        "from sklearn.metrics import plot_confusion_matrix, confusion_matrix\n",
        "\n",
        "# Creates a confusion matrix\n",
        "cm = confusion_matrix(y_test, label)\n",
        "# Transform to df for easier plotting\n",
        "cm_df = pd.DataFrame(cm)\n",
        "plt.figure(figsize=(8,5))\n",
        "sns.heatmap(cm_df, annot=True, fmt='g', cmap=plt.cm.Blues, cbar=False)\n",
        "plt.rcParams['font.size'] = 10\n",
        "plt.title('Predictions')\n",
        "plt.ylabel('True Labels')\n",
        "plt.xlabel('Predicted Labels')\n",
        "plt.show()"
      ],
      "execution_count": null,
      "outputs": [
        {
          "output_type": "display_data",
          "data": {
            "image/png": "[encoded data removed]",
            "text/plain": [
              "<Figure size 576x360 with 1 Axes>"
            ]
          },
          "metadata": {
            "tags": []
          }
        }
      ]
    },
    {
      "cell_type": "markdown",
      "metadata": {
        "id": "SyObLqUptshb"
      },
      "source": [
        "### 0.01 learning rate."
      ]
    },
    {
      "cell_type": "code",
      "metadata": {
        "colab": {
          "base_uri": "https://localhost:8080/"
        },
        "id": "0ERDRD5qx7-1",
        "outputId": "70ea91a1-368d-4570-fda2-679e07253e09"
      },
      "source": [
        "# Deep Learning model (LSTM, CNN)\n",
        "model = Sequential()\n",
        "\n",
        "\n",
        "model.add(Embedding(vocab_size + 1, embedding_dim, weights=[embedding_matrix], input_length=max_len, trainable=True))\n",
        "\n",
        "\n",
        "model.add(LSTM(100, return_sequences=True, name='lstm_layer1'))#,kernel_regularizer=l2(0.01),recurrent_regularizer=l2(0.01)))\n",
        "model.add(Conv1D(filters=32, kernel_size=7, padding='same', activation='relu'))#,kernel_regularizer=l2(0.01),bias_regularizer=l2(0.01)))\n",
        "model.add(MaxPooling1D(3)) # to reduce network size\n",
        "model.add(GlobalMaxPooling1D())\n",
        "model.add(BatchNormalization()) # to reduce weights\n",
        "\n",
        "model.add(Dense(64, activation='relu',kernel_regularizer=l2(0.17),bias_regularizer=l2(0.01)))\n",
        "model.add(Dropout(0.3))\n",
        "model.add(Dense(32, activation='relu',kernel_regularizer=l2(0.19),bias_regularizer=l2(0.01)))\n",
        "model.add(Dropout(0.3))\n",
        "# model.add(Dense(16, kernel_regularizer=l2(0.001), activation='relu'))\n",
        "# model.add(Dropout(0.3))\n",
        "model.add(Dense(1, activation='sigmoid'))\n",
        "model.summary()"
      ],
      "execution_count": null,
      "outputs": [
        {
          "output_type": "stream",
          "text": [
            "Model: \"sequential_8\"\n",
            "_________________________________________________________________\n",
            "Layer (type)                 Output Shape              Param #   \n",
            "=================================================================\n",
            "embedding_8 (Embedding)      (None, 251, 256)          9768192   \n",
            "_________________________________________________________________\n",
            "lstm_layer1 (LSTM)           (None, 251, 100)          142800    \n",
            "_________________________________________________________________\n",
            "conv1d_8 (Conv1D)            (None, 251, 32)           22432     \n",
            "_________________________________________________________________\n",
            "max_pooling1d_8 (MaxPooling1 (None, 83, 32)            0         \n",
            "_________________________________________________________________\n",
            "global_max_pooling1d_8 (Glob (None, 32)                0         \n",
            "_________________________________________________________________\n",
            "batch_normalization_8 (Batch (None, 32)                128       \n",
            "_________________________________________________________________\n",
            "dense_22 (Dense)             (None, 64)                2112      \n",
            "_________________________________________________________________\n",
            "dropout_14 (Dropout)         (None, 64)                0         \n",
            "_________________________________________________________________\n",
            "dense_23 (Dense)             (None, 32)                2080      \n",
            "_________________________________________________________________\n",
            "dropout_15 (Dropout)         (None, 32)                0         \n",
            "_________________________________________________________________\n",
            "dense_24 (Dense)             (None, 1)                 33        \n",
            "=================================================================\n",
            "Total params: 9,937,777\n",
            "Trainable params: 9,937,713\n",
            "Non-trainable params: 64\n",
            "_________________________________________________________________\n"
          ],
          "name": "stdout"
        }
      ]
    },
    {
      "cell_type": "code",
      "metadata": {
        "id": "b2NVC0MOtshb"
      },
      "source": [
        "model.compile(loss='binary_crossentropy', optimizer=keras.optimizers.Adam(lr=0.01), metrics=['AUC'])"
      ],
      "execution_count": null,
      "outputs": []
    },
    {
      "cell_type": "code",
      "metadata": {
        "colab": {
          "base_uri": "https://localhost:8080/"
        },
        "id": "YKjBc2mvtshb",
        "outputId": "656de782-8ba8-42d5-a8ad-0f023d826117"
      },
      "source": [
        "# to Train the model\n",
        "history = model.fit(processed_x_train,y_train_upsampled, validation_data=(processed_x_val,y_val),epochs=10,batch_size=64,verbose=1)"
      ],
      "execution_count": null,
      "outputs": [
        {
          "output_type": "stream",
          "text": [
            "Epoch 1/10\n",
            "194/194 [==============================] - 26s 126ms/step - loss: 2.7520 - auc: 0.9028 - val_loss: 0.2944 - val_auc: 0.9638\n",
            "Epoch 2/10\n",
            "194/194 [==============================] - 24s 123ms/step - loss: 0.1532 - auc: 0.9946 - val_loss: 0.3419 - val_auc: 0.9386\n",
            "Epoch 3/10\n",
            "194/194 [==============================] - 24s 122ms/step - loss: 0.0999 - auc: 0.9982 - val_loss: 0.3797 - val_auc: 0.9271\n",
            "Epoch 4/10\n",
            "194/194 [==============================] - 24s 122ms/step - loss: 0.0698 - auc: 0.9995 - val_loss: 0.2819 - val_auc: 0.9583\n",
            "Epoch 5/10\n",
            "194/194 [==============================] - 24s 123ms/step - loss: 0.0700 - auc: 0.9993 - val_loss: 0.3966 - val_auc: 0.9004\n",
            "Epoch 6/10\n",
            "194/194 [==============================] - 24s 122ms/step - loss: 0.2172 - auc: 0.9976 - val_loss: 0.4056 - val_auc: 0.9497\n",
            "Epoch 7/10\n",
            "194/194 [==============================] - 24s 123ms/step - loss: 0.1061 - auc: 0.9991 - val_loss: 0.2761 - val_auc: 0.9328\n",
            "Epoch 8/10\n",
            "194/194 [==============================] - 24s 122ms/step - loss: 0.0669 - auc: 0.9992 - val_loss: 0.3953 - val_auc: 0.9136\n",
            "Epoch 9/10\n",
            "194/194 [==============================] - 24s 124ms/step - loss: 0.0490 - auc: 0.9991 - val_loss: 0.6405 - val_auc: 0.8653\n",
            "Epoch 10/10\n",
            "194/194 [==============================] - 24s 124ms/step - loss: 1.5785 - auc: 0.9883 - val_loss: 0.4407 - val_auc: 0.8973\n"
          ],
          "name": "stdout"
        }
      ]
    },
    {
      "cell_type": "code",
      "metadata": {
        "colab": {
          "base_uri": "https://localhost:8080/",
          "height": 53
        },
        "id": "B4z44Me8tshc",
        "outputId": "556023f2-3267-46a0-aeed-2e41f2f47f47"
      },
      "source": [
        "plt.plot(history.history['auc'])\n",
        "plt.plot(history.history['val_auc'])\n",
        "plt.title('Model AUC')\n",
        "plt.ylabel('AUC')\n",
        "plt.xlabel('Epoch')\n",
        "plt.legend(['train', 'val'], loc='lower right')\n",
        "plt.ylim([0.8, 1.01])\n",
        "plt.xticks([i for i in range(11)])\n",
        "plt.xlim([0, 10])\n",
        "plt.show()"
      ],
      "execution_count": null,
      "outputs": [
        {
          "output_type": "display_data",
          "data": {
            "image/png": "[encoded data removed]",
            "text/plain": [
              "<Figure size 432x288 with 1 Axes>"
            ]
          },
          "metadata": {
            "tags": []
          }
        }
      ]
    },
    {
      "cell_type": "code",
      "metadata": {
        "id": "UG4cwPXktshc"
      },
      "source": [
        "y_pred = model.predict(processed_x_test)\n",
        "label = np.round(y_pred)"
      ],
      "execution_count": null,
      "outputs": []
    },
    {
      "cell_type": "code",
      "metadata": {
        "colab": {
          "base_uri": "https://localhost:8080/"
        },
        "id": "rtgMhh7Ktshc",
        "outputId": "26228ce8-0596-4592-ff29-3bb037a8bd55"
      },
      "source": [
        "# Metrics\n",
        "from sklearn.metrics import f1_score, precision_score, recall_score, confusion_matrix\n",
        "from sklearn.metrics import classification_report\n",
        "target_names = ['Not Racist', 'Racist']\n",
        "print(classification_report(y_test, label, target_names=target_names))\n",
        "\n",
        "print(f\"Test Accuracy: {model.evaluate(processed_x_test,y_test, verbose=0)[1]*100:.2f}%\")\n",
        "print(f\"Test AUC: {metrics.roc_auc_score(y_test, label)*100:.2f}%\")"
      ],
      "execution_count": null,
      "outputs": [
        {
          "output_type": "stream",
          "text": [
            "              precision    recall  f1-score   support\n",
            "\n",
            "  Not Racist       0.93      0.98      0.95      1779\n",
            "      Racist       0.89      0.66      0.76       411\n",
            "\n",
            "    accuracy                           0.92      2190\n",
            "   macro avg       0.91      0.82      0.86      2190\n",
            "weighted avg       0.92      0.92      0.92      2190\n",
            "\n",
            "Test Accuracy: 92.24%\n",
            "Test AUC: 82.13%\n"
          ],
          "name": "stdout"
        }
      ]
    },
    {
      "cell_type": "code",
      "metadata": {
        "colab": {
          "base_uri": "https://localhost:8080/",
          "height": 53
        },
        "id": "n2TsMdRdtshd",
        "outputId": "74a13e0c-3fe3-4bea-d005-9a6151f59d14"
      },
      "source": [
        "from sklearn.metrics import plot_confusion_matrix, confusion_matrix\n",
        "\n",
        "# Creates a confusion matrix\n",
        "cm = confusion_matrix(y_test, label)\n",
        "# Transform to df for easier plotting\n",
        "cm_df = pd.DataFrame(cm)\n",
        "plt.figure(figsize=(8,5))\n",
        "sns.heatmap(cm_df, annot=True, fmt='g', cmap=plt.cm.Blues, cbar=False)\n",
        "plt.rcParams['font.size'] = 10\n",
        "plt.title('Predictions')\n",
        "plt.ylabel('True Labels')\n",
        "plt.xlabel('Predicted Labels')\n",
        "plt.show()"
      ],
      "execution_count": null,
      "outputs": [
        {
          "output_type": "display_data",
          "data": {
            "image/png": "[encoded data removed]",
            "text/plain": [
              "<Figure size 576x360 with 1 Axes>"
            ]
          },
          "metadata": {
            "tags": []
          }
        }
      ]
    },
    {
      "cell_type": "markdown",
      "metadata": {
        "id": "exLza3jEtWD5"
      },
      "source": [
        "### 0.001 learning rate."
      ]
    },
    {
      "cell_type": "code",
      "metadata": {
        "colab": {
          "base_uri": "https://localhost:8080/"
        },
        "id": "Y6DrXIpUx9qb",
        "outputId": "d00053c2-abbe-4dbb-dfca-d8bd76336a28"
      },
      "source": [
        "# Deep Learning model (LSTM, CNN)\n",
        "model = Sequential()\n",
        "\n",
        "\n",
        "model.add(Embedding(vocab_size + 1, embedding_dim, weights=[embedding_matrix], input_length=max_len, trainable=True))\n",
        "\n",
        "\n",
        "model.add(LSTM(100, return_sequences=True, name='lstm_layer1'))#,kernel_regularizer=l2(0.01),recurrent_regularizer=l2(0.01)))\n",
        "model.add(Conv1D(filters=32, kernel_size=7, padding='same', activation='relu'))#,kernel_regularizer=l2(0.01),bias_regularizer=l2(0.01)))\n",
        "model.add(MaxPooling1D(3)) # to reduce network size\n",
        "model.add(GlobalMaxPooling1D())\n",
        "model.add(BatchNormalization()) # to reduce weights\n",
        "\n",
        "model.add(Dense(64, activation='relu',kernel_regularizer=l2(0.17),bias_regularizer=l2(0.01)))\n",
        "model.add(Dropout(0.3))\n",
        "model.add(Dense(32, activation='relu',kernel_regularizer=l2(0.19),bias_regularizer=l2(0.01)))\n",
        "model.add(Dropout(0.3))\n",
        "# model.add(Dense(16, kernel_regularizer=l2(0.001), activation='relu'))\n",
        "# model.add(Dropout(0.3))\n",
        "model.add(Dense(1, activation='sigmoid'))\n",
        "model.summary()"
      ],
      "execution_count": null,
      "outputs": [
        {
          "output_type": "stream",
          "text": [
            "Model: \"sequential_9\"\n",
            "_________________________________________________________________\n",
            "Layer (type)                 Output Shape              Param #   \n",
            "=================================================================\n",
            "embedding_9 (Embedding)      (None, 251, 256)          9768192   \n",
            "_________________________________________________________________\n",
            "lstm_layer1 (LSTM)           (None, 251, 100)          142800    \n",
            "_________________________________________________________________\n",
            "conv1d_9 (Conv1D)            (None, 251, 32)           22432     \n",
            "_________________________________________________________________\n",
            "max_pooling1d_9 (MaxPooling1 (None, 83, 32)            0         \n",
            "_________________________________________________________________\n",
            "global_max_pooling1d_9 (Glob (None, 32)                0         \n",
            "_________________________________________________________________\n",
            "batch_normalization_9 (Batch (None, 32)                128       \n",
            "_________________________________________________________________\n",
            "dense_25 (Dense)             (None, 64)                2112      \n",
            "_________________________________________________________________\n",
            "dropout_16 (Dropout)         (None, 64)                0         \n",
            "_________________________________________________________________\n",
            "dense_26 (Dense)             (None, 32)                2080      \n",
            "_________________________________________________________________\n",
            "dropout_17 (Dropout)         (None, 32)                0         \n",
            "_________________________________________________________________\n",
            "dense_27 (Dense)             (None, 1)                 33        \n",
            "=================================================================\n",
            "Total params: 9,937,777\n",
            "Trainable params: 9,937,713\n",
            "Non-trainable params: 64\n",
            "_________________________________________________________________\n"
          ],
          "name": "stdout"
        }
      ]
    },
    {
      "cell_type": "code",
      "metadata": {
        "id": "EbY0ruS1tWD5"
      },
      "source": [
        "model.compile(loss='binary_crossentropy', optimizer=keras.optimizers.Adam(lr=0.001), metrics=['AUC'])"
      ],
      "execution_count": null,
      "outputs": []
    },
    {
      "cell_type": "code",
      "metadata": {
        "colab": {
          "base_uri": "https://localhost:8080/"
        },
        "id": "4VK-h842tWD6",
        "outputId": "ad8c8087-f351-44ab-ac41-6f614dfa6259"
      },
      "source": [
        "# to Train the model\n",
        "history = model.fit(processed_x_train,y_train_upsampled, validation_data=(processed_x_val,y_val),epochs=10,batch_size=64,verbose=1)"
      ],
      "execution_count": null,
      "outputs": [
        {
          "output_type": "stream",
          "text": [
            "Epoch 1/10\n",
            "194/194 [==============================] - 27s 126ms/step - loss: 10.2358 - auc: 0.8076 - val_loss: 1.4484 - val_auc: 0.9487\n",
            "Epoch 2/10\n",
            "194/194 [==============================] - 24s 123ms/step - loss: 0.8577 - auc: 0.9887 - val_loss: 0.3877 - val_auc: 0.9509\n",
            "Epoch 3/10\n",
            "194/194 [==============================] - 24s 122ms/step - loss: 0.2134 - auc: 0.9959 - val_loss: 0.3405 - val_auc: 0.9577\n",
            "Epoch 4/10\n",
            "194/194 [==============================] - 24s 122ms/step - loss: 0.1595 - auc: 0.9986 - val_loss: 0.3726 - val_auc: 0.9371\n",
            "Epoch 5/10\n",
            "194/194 [==============================] - 24s 122ms/step - loss: 0.1361 - auc: 0.9985 - val_loss: 0.3679 - val_auc: 0.9311\n",
            "Epoch 6/10\n",
            "194/194 [==============================] - 24s 122ms/step - loss: 0.1180 - auc: 0.9997 - val_loss: 0.3715 - val_auc: 0.9365\n",
            "Epoch 7/10\n",
            "194/194 [==============================] - 24s 123ms/step - loss: 0.1082 - auc: 0.9990 - val_loss: 0.3489 - val_auc: 0.9461\n",
            "Epoch 8/10\n",
            "194/194 [==============================] - 24s 122ms/step - loss: 0.0965 - auc: 0.9995 - val_loss: 0.3700 - val_auc: 0.9186\n",
            "Epoch 9/10\n",
            "194/194 [==============================] - 24s 123ms/step - loss: 0.0933 - auc: 0.9992 - val_loss: 0.3608 - val_auc: 0.9312\n",
            "Epoch 10/10\n",
            "194/194 [==============================] - 24s 122ms/step - loss: 0.0888 - auc: 0.9990 - val_loss: 0.3677 - val_auc: 0.9253\n"
          ],
          "name": "stdout"
        }
      ]
    },
    {
      "cell_type": "code",
      "metadata": {
        "colab": {
          "base_uri": "https://localhost:8080/",
          "height": 53
        },
        "id": "e23JAB4XtWD7",
        "outputId": "ac8032df-2fd5-4e41-b0a6-590d3ea12b53"
      },
      "source": [
        "plt.plot(history.history['auc'])\n",
        "plt.plot(history.history['val_auc'])\n",
        "plt.title('Model AUC')\n",
        "plt.ylabel('AUC')\n",
        "plt.xlabel('Epoch')\n",
        "plt.legend(['train', 'val'], loc='lower right')\n",
        "plt.ylim([0.8, 1.01])\n",
        "plt.xticks([i for i in range(11)])\n",
        "plt.xlim([0, 10])\n",
        "plt.show()"
      ],
      "execution_count": null,
      "outputs": [
        {
          "output_type": "display_data",
          "data": {
            "image/png": "[encoded data removed]",
            "text/plain": [
              "<Figure size 432x288 with 1 Axes>"
            ]
          },
          "metadata": {
            "tags": []
          }
        }
      ]
    },
    {
      "cell_type": "code",
      "metadata": {
        "id": "IrxA_LP-tWD7"
      },
      "source": [
        "y_pred = model.predict(processed_x_test)\n",
        "label = np.round(y_pred)"
      ],
      "execution_count": null,
      "outputs": []
    },
    {
      "cell_type": "code",
      "metadata": {
        "colab": {
          "base_uri": "https://localhost:8080/"
        },
        "id": "xBDU3KrltWD7",
        "outputId": "7a9dd585-0f60-4309-c1d5-f7c04ecd3631"
      },
      "source": [
        "# Metrics\n",
        "from sklearn.metrics import f1_score, precision_score, recall_score, confusion_matrix\n",
        "from sklearn.metrics import classification_report\n",
        "target_names = ['Not Racist', 'Racist']\n",
        "print(classification_report(y_test, label, target_names=target_names))\n",
        "\n",
        "print(f\"Test Accuracy: {model.evaluate(processed_x_test,y_test, verbose=0)[1]*100:.2f}%\")\n",
        "print(f\"Test AUC: {metrics.roc_auc_score(y_test, label)*100:.2f}%\")"
      ],
      "execution_count": null,
      "outputs": [
        {
          "output_type": "stream",
          "text": [
            "              precision    recall  f1-score   support\n",
            "\n",
            "  Not Racist       0.94      0.96      0.95      1779\n",
            "      Racist       0.81      0.74      0.78       411\n",
            "\n",
            "    accuracy                           0.92      2190\n",
            "   macro avg       0.88      0.85      0.86      2190\n",
            "weighted avg       0.92      0.92      0.92      2190\n",
            "\n",
            "Test Accuracy: 92.36%\n",
            "Test AUC: 85.23%\n"
          ],
          "name": "stdout"
        }
      ]
    },
    {
      "cell_type": "code",
      "metadata": {
        "colab": {
          "base_uri": "https://localhost:8080/",
          "height": 350
        },
        "id": "CyxcSdRJtWD7",
        "outputId": "0bfbdcae-5200-44e0-a27d-a54563a9ab8e"
      },
      "source": [
        "from sklearn.metrics import plot_confusion_matrix, confusion_matrix\n",
        "\n",
        "# Creates a confusion matrix\n",
        "cm = confusion_matrix(y_test, label)\n",
        "# Transform to df for easier plotting\n",
        "cm_df = pd.DataFrame(cm)\n",
        "plt.figure(figsize=(8,5))\n",
        "sns.heatmap(cm_df, annot=True, fmt='g', cmap=plt.cm.Blues, cbar=False)\n",
        "plt.rcParams['font.size'] = 10\n",
        "plt.title('Predictions')\n",
        "plt.ylabel('True Labels')\n",
        "plt.xlabel('Predicted Labels')\n",
        "plt.show()"
      ],
      "execution_count": null,
      "outputs": [
        {
          "output_type": "display_data",
          "data": {
            "image/png": "[encoded data removed]",
            "text/plain": [
              "<Figure size 576x360 with 1 Axes>"
            ]
          },
          "metadata": {
            "tags": []
          }
        }
      ]
    },
    {
      "cell_type": "markdown",
      "metadata": {
        "id": "m2SKXzm2xsB6"
      },
      "source": [
        "### 0.0001 learning rate."
      ]
    },
    {
      "cell_type": "code",
      "metadata": {
        "colab": {
          "base_uri": "https://localhost:8080/"
        },
        "id": "aKT-hJ2Wx-ui",
        "outputId": "7a1a8089-a3a3-408e-e322-9a88cac730d4"
      },
      "source": [
        "# Deep Learning model (LSTM, CNN)\n",
        "model = Sequential()\n",
        "\n",
        "\n",
        "model.add(Embedding(vocab_size + 1, embedding_dim, weights=[embedding_matrix], input_length=max_len, trainable=True))\n",
        "\n",
        "\n",
        "model.add(LSTM(100, return_sequences=True, name='lstm_layer1'))#,kernel_regularizer=l2(0.01),recurrent_regularizer=l2(0.01)))\n",
        "model.add(Conv1D(filters=32, kernel_size=7, padding='same', activation='relu'))#,kernel_regularizer=l2(0.01),bias_regularizer=l2(0.01)))\n",
        "model.add(MaxPooling1D(3)) # to reduce network size\n",
        "model.add(GlobalMaxPooling1D())\n",
        "model.add(BatchNormalization()) # to reduce weights\n",
        "\n",
        "model.add(Dense(64, activation='relu',kernel_regularizer=l2(0.17),bias_regularizer=l2(0.01)))\n",
        "model.add(Dropout(0.3))\n",
        "model.add(Dense(32, activation='relu',kernel_regularizer=l2(0.19),bias_regularizer=l2(0.01)))\n",
        "model.add(Dropout(0.3))\n",
        "# model.add(Dense(16, kernel_regularizer=l2(0.001), activation='relu'))\n",
        "# model.add(Dropout(0.3))\n",
        "model.add(Dense(1, activation='sigmoid'))\n",
        "model.summary()"
      ],
      "execution_count": null,
      "outputs": [
        {
          "output_type": "stream",
          "text": [
            "Model: \"sequential_10\"\n",
            "_________________________________________________________________\n",
            "Layer (type)                 Output Shape              Param #   \n",
            "=================================================================\n",
            "embedding_10 (Embedding)     (None, 251, 256)          9768192   \n",
            "_________________________________________________________________\n",
            "lstm_layer1 (LSTM)           (None, 251, 100)          142800    \n",
            "_________________________________________________________________\n",
            "conv1d_10 (Conv1D)           (None, 251, 32)           22432     \n",
            "_________________________________________________________________\n",
            "max_pooling1d_10 (MaxPooling (None, 83, 32)            0         \n",
            "_________________________________________________________________\n",
            "global_max_pooling1d_10 (Glo (None, 32)                0         \n",
            "_________________________________________________________________\n",
            "batch_normalization_10 (Batc (None, 32)                128       \n",
            "_________________________________________________________________\n",
            "dense_28 (Dense)             (None, 64)                2112      \n",
            "_________________________________________________________________\n",
            "dropout_18 (Dropout)         (None, 64)                0         \n",
            "_________________________________________________________________\n",
            "dense_29 (Dense)             (None, 32)                2080      \n",
            "_________________________________________________________________\n",
            "dropout_19 (Dropout)         (None, 32)                0         \n",
            "_________________________________________________________________\n",
            "dense_30 (Dense)             (None, 1)                 33        \n",
            "=================================================================\n",
            "Total params: 9,937,777\n",
            "Trainable params: 9,937,713\n",
            "Non-trainable params: 64\n",
            "_________________________________________________________________\n"
          ],
          "name": "stdout"
        }
      ]
    },
    {
      "cell_type": "code",
      "metadata": {
        "id": "tL7_rHbQxsB7"
      },
      "source": [
        "model.compile(loss='binary_crossentropy', optimizer=keras.optimizers.Adam(lr=0.0001), metrics=['AUC'])"
      ],
      "execution_count": null,
      "outputs": []
    },
    {
      "cell_type": "code",
      "metadata": {
        "colab": {
          "base_uri": "https://localhost:8080/"
        },
        "id": "ELT1LL6WxsB7",
        "outputId": "a943b89b-ddc9-4325-8c8d-c23731f8f963"
      },
      "source": [
        "# to Train the model\n",
        "history = model.fit(processed_x_train,y_train_upsampled, validation_data=(processed_x_val,y_val),epochs=10,batch_size=64,verbose=1)"
      ],
      "execution_count": null,
      "outputs": [
        {
          "output_type": "stream",
          "text": [
            "Epoch 1/10\n",
            "194/194 [==============================] - 26s 125ms/step - loss: 15.3834 - auc: 0.5634 - val_loss: 12.9724 - val_auc: 0.8124\n",
            "Epoch 2/10\n",
            "194/194 [==============================] - 24s 123ms/step - loss: 12.2099 - auc: 0.8055 - val_loss: 10.2885 - val_auc: 0.8771\n",
            "Epoch 3/10\n",
            "194/194 [==============================] - 24s 122ms/step - loss: 9.6814 - auc: 0.8939 - val_loss: 8.1258 - val_auc: 0.9041\n",
            "Epoch 4/10\n",
            "194/194 [==============================] - 24s 122ms/step - loss: 7.6391 - auc: 0.9359 - val_loss: 6.3933 - val_auc: 0.9174\n",
            "Epoch 5/10\n",
            "194/194 [==============================] - 24s 122ms/step - loss: 5.9867 - auc: 0.9561 - val_loss: 5.9294 - val_auc: 0.8807\n",
            "Epoch 6/10\n",
            "194/194 [==============================] - 24s 123ms/step - loss: 4.7776 - auc: 0.8816 - val_loss: 3.9477 - val_auc: 0.9206\n",
            "Epoch 7/10\n",
            "194/194 [==============================] - 24s 123ms/step - loss: 3.6222 - auc: 0.9654 - val_loss: 3.0592 - val_auc: 0.9289\n",
            "Epoch 8/10\n",
            "194/194 [==============================] - 24s 123ms/step - loss: 2.7799 - auc: 0.9717 - val_loss: 2.3813 - val_auc: 0.9336\n",
            "Epoch 9/10\n",
            "194/194 [==============================] - 24s 122ms/step - loss: 2.1253 - auc: 0.9762 - val_loss: 1.8623 - val_auc: 0.9325\n",
            "Epoch 10/10\n",
            "194/194 [==============================] - 24s 122ms/step - loss: 1.6126 - auc: 0.9818 - val_loss: 1.4663 - val_auc: 0.9316\n"
          ],
          "name": "stdout"
        }
      ]
    },
    {
      "cell_type": "code",
      "metadata": {
        "colab": {
          "base_uri": "https://localhost:8080/",
          "height": 53
        },
        "id": "fK50f4WrxsB9",
        "outputId": "3d1dda4d-a957-424f-f0c7-7a6ca6831387"
      },
      "source": [
        "plt.plot(history.history['auc'])\n",
        "plt.plot(history.history['val_auc'])\n",
        "plt.title('Model AUC')\n",
        "plt.ylabel('AUC')\n",
        "plt.xlabel('Epoch')\n",
        "plt.legend(['train', 'val'], loc='lower right')\n",
        "plt.ylim([0.8, 1.01])\n",
        "plt.xticks([i for i in range(11)])\n",
        "plt.xlim([0, 10])\n",
        "plt.show()"
      ],
      "execution_count": null,
      "outputs": [
        {
          "output_type": "display_data",
          "data": {
            "image/png": "[encoded data removed]",
            "text/plain": [
              "<Figure size 432x288 with 1 Axes>"
            ]
          },
          "metadata": {
            "tags": []
          }
        }
      ]
    },
    {
      "cell_type": "code",
      "metadata": {
        "id": "B679OJu2xsB9"
      },
      "source": [
        "y_pred = model.predict(processed_x_test)\n",
        "label = np.round(y_pred)"
      ],
      "execution_count": null,
      "outputs": []
    },
    {
      "cell_type": "code",
      "metadata": {
        "colab": {
          "base_uri": "https://localhost:8080/"
        },
        "id": "wflU7fTHxsB9",
        "outputId": "a92e62a7-0908-42b0-9dec-68092887ae45"
      },
      "source": [
        "# Metrics\n",
        "from sklearn.metrics import f1_score, precision_score, recall_score, confusion_matrix\n",
        "from sklearn.metrics import classification_report\n",
        "target_names = ['Not Racist', 'Racist']\n",
        "print(classification_report(y_test, label, target_names=target_names))\n",
        "\n",
        "print(f\"Test Accuracy: {model.evaluate(processed_x_test,y_test, verbose=0)[1]*100:.2f}%\")\n",
        "print(f\"Test AUC: {metrics.roc_auc_score(y_test, label)*100:.2f}%\")"
      ],
      "execution_count": null,
      "outputs": [
        {
          "output_type": "stream",
          "text": [
            "              precision    recall  f1-score   support\n",
            "\n",
            "  Not Racist       0.94      0.93      0.93      1779\n",
            "      Racist       0.70      0.74      0.72       411\n",
            "\n",
            "    accuracy                           0.89      2190\n",
            "   macro avg       0.82      0.84      0.83      2190\n",
            "weighted avg       0.90      0.89      0.89      2190\n",
            "\n",
            "Test Accuracy: 92.48%\n",
            "Test AUC: 83.51%\n"
          ],
          "name": "stdout"
        }
      ]
    },
    {
      "cell_type": "code",
      "metadata": {
        "colab": {
          "base_uri": "https://localhost:8080/",
          "height": 53
        },
        "id": "VUz9M9J5xsB-",
        "outputId": "d2738745-e1e7-464b-bbbc-d0a5183731e2"
      },
      "source": [
        "from sklearn.metrics import plot_confusion_matrix, confusion_matrix\n",
        "\n",
        "# Creates a confusion matrix\n",
        "cm = confusion_matrix(y_test, label)\n",
        "# Transform to df for easier plotting\n",
        "cm_df = pd.DataFrame(cm)\n",
        "plt.figure(figsize=(8,5))\n",
        "sns.heatmap(cm_df, annot=True, fmt='g', cmap=plt.cm.Blues, cbar=False)\n",
        "plt.rcParams['font.size'] = 10\n",
        "plt.title('Predictions')\n",
        "plt.ylabel('True Labels')\n",
        "plt.xlabel('Predicted Labels')\n",
        "plt.show()"
      ],
      "execution_count": null,
      "outputs": [
        {
          "output_type": "display_data",
          "data": {
            "image/png": "[encoded data removed]",
            "text/plain": [
              "<Figure size 576x360 with 1 Axes>"
            ]
          },
          "metadata": {
            "tags": []
          }
        }
      ]
    },
    {
      "cell_type": "markdown",
      "metadata": {
        "id": "Cy-Pb6meJJjJ"
      },
      "source": [
        "### Conclusion:\n",
        "0.01 learning rate showed the highest validation AUC scores."
      ]
    },
    {
      "cell_type": "markdown",
      "metadata": {
        "id": "LSOU5GjIJbr7"
      },
      "source": [
        "# Experimenting with different loss functions"
      ]
    },
    {
      "cell_type": "markdown",
      "metadata": {
        "id": "p8aDJjv_KBgd"
      },
      "source": [
        "### Hinge Loss."
      ]
    },
    {
      "cell_type": "code",
      "metadata": {
        "colab": {
          "base_uri": "https://localhost:8080/"
        },
        "id": "N3rdpPEzJh-L",
        "outputId": "b27bee6a-141b-4337-8111-f8237354492d"
      },
      "source": [
        "# Deep Learning model (LSTM, CNN)\n",
        "model = Sequential()\n",
        "\n",
        "\n",
        "model.add(Embedding(vocab_size + 1, embedding_dim, weights=[embedding_matrix], input_length=max_len, trainable=True))\n",
        "\n",
        "\n",
        "model.add(LSTM(100, return_sequences=True, name='lstm_layer1'))#,kernel_regularizer=l2(0.01),recurrent_regularizer=l2(0.01)))\n",
        "model.add(Conv1D(filters=32, kernel_size=7, padding='same', activation='relu'))#,kernel_regularizer=l2(0.01),bias_regularizer=l2(0.01)))\n",
        "model.add(MaxPooling1D(3)) # to reduce network size\n",
        "model.add(GlobalMaxPooling1D())\n",
        "model.add(BatchNormalization()) # to reduce weights\n",
        "\n",
        "model.add(Dense(64, activation='relu',kernel_regularizer=l2(0.17),bias_regularizer=l2(0.01)))\n",
        "model.add(Dropout(0.3))\n",
        "model.add(Dense(32, activation='relu',kernel_regularizer=l2(0.19),bias_regularizer=l2(0.01)))\n",
        "model.add(Dropout(0.3))\n",
        "# model.add(Dense(16, kernel_regularizer=l2(0.001), activation='relu'))\n",
        "# model.add(Dropout(0.3))\n",
        "model.add(Dense(1, activation='sigmoid'))\n",
        "model.summary()"
      ],
      "execution_count": null,
      "outputs": [
        {
          "output_type": "stream",
          "text": [
            "Model: \"sequential_11\"\n",
            "_________________________________________________________________\n",
            "Layer (type)                 Output Shape              Param #   \n",
            "=================================================================\n",
            "embedding_11 (Embedding)     (None, 251, 256)          9768192   \n",
            "_________________________________________________________________\n",
            "lstm_layer1 (LSTM)           (None, 251, 100)          142800    \n",
            "_________________________________________________________________\n",
            "conv1d_11 (Conv1D)           (None, 251, 32)           22432     \n",
            "_________________________________________________________________\n",
            "max_pooling1d_11 (MaxPooling (None, 83, 32)            0         \n",
            "_________________________________________________________________\n",
            "global_max_pooling1d_11 (Glo (None, 32)                0         \n",
            "_________________________________________________________________\n",
            "batch_normalization_11 (Batc (None, 32)                128       \n",
            "_________________________________________________________________\n",
            "dense_31 (Dense)             (None, 64)                2112      \n",
            "_________________________________________________________________\n",
            "dropout_20 (Dropout)         (None, 64)                0         \n",
            "_________________________________________________________________\n",
            "dense_32 (Dense)             (None, 32)                2080      \n",
            "_________________________________________________________________\n",
            "dropout_21 (Dropout)         (None, 32)                0         \n",
            "_________________________________________________________________\n",
            "dense_33 (Dense)             (None, 1)                 33        \n",
            "=================================================================\n",
            "Total params: 9,937,777\n",
            "Trainable params: 9,937,713\n",
            "Non-trainable params: 64\n",
            "_________________________________________________________________\n"
          ],
          "name": "stdout"
        }
      ]
    },
    {
      "cell_type": "code",
      "metadata": {
        "id": "rGWLAiBHJh-X"
      },
      "source": [
        "model.compile(loss='hinge', optimizer=keras.optimizers.Adam(lr=0.01), metrics=['AUC'])"
      ],
      "execution_count": null,
      "outputs": []
    },
    {
      "cell_type": "code",
      "metadata": {
        "colab": {
          "background_save": true,
          "base_uri": "https://localhost:8080/"
        },
        "id": "mDd0OfLYJh-X",
        "outputId": "8aafa13b-80e4-48fa-e4ee-8c84dedfc83c"
      },
      "source": [
        "# to Train the model\n",
        "history = model.fit(processed_x_train,y_train_upsampled, validation_data=(processed_x_val,y_val),epochs=10,batch_size=64,verbose=1)"
      ],
      "execution_count": null,
      "outputs": [
        {
          "output_type": "stream",
          "text": [
            "Epoch 1/10\n",
            "194/194 [==============================] - 27s 126ms/step - loss: 3.1236 - auc: 0.8831 - val_loss: 0.9465 - val_auc: 0.9646\n",
            "Epoch 2/10\n",
            "194/194 [==============================] - 24s 123ms/step - loss: 0.5909 - auc: 0.9898 - val_loss: 0.9274 - val_auc: 0.9416\n",
            "Epoch 3/10\n",
            "194/194 [==============================] - 24s 122ms/step - loss: 0.5645 - auc: 0.9940 - val_loss: 0.9253 - val_auc: 0.9357\n",
            "Epoch 4/10\n",
            "194/194 [==============================] - 24s 124ms/step - loss: 0.5639 - auc: 0.9920 - val_loss: 0.9073 - val_auc: 0.9578\n",
            "Epoch 5/10\n",
            "194/194 [==============================] - 24s 123ms/step - loss: 0.5492 - auc: 0.9936 - val_loss: 0.9848 - val_auc: 0.9229\n",
            "Epoch 6/10\n",
            "194/194 [==============================] - 24s 123ms/step - loss: 0.6033 - auc: 0.9956 - val_loss: 0.9304 - val_auc: 0.8709\n",
            "Epoch 7/10\n",
            "194/194 [==============================] - 24s 124ms/step - loss: 0.5563 - auc: 0.9964 - val_loss: 0.9977 - val_auc: 0.8642\n",
            "Epoch 8/10\n",
            "194/194 [==============================] - 24s 124ms/step - loss: 0.6574 - auc: 0.9948 - val_loss: 0.9075 - val_auc: 0.9001\n",
            "Epoch 9/10\n",
            "194/194 [==============================] - 24s 123ms/step - loss: 0.5282 - auc: 0.9947 - val_loss: 0.8996 - val_auc: 0.9497\n",
            "Epoch 10/10\n",
            "194/194 [==============================] - 24s 124ms/step - loss: 0.5330 - auc: 0.9960 - val_loss: 1.2281 - val_auc: 0.8824\n"
          ],
          "name": "stdout"
        }
      ]
    },
    {
      "cell_type": "code",
      "metadata": {
        "colab": {
          "background_save": true
        },
        "id": "GXHGjxt5Jh-Y",
        "outputId": "0e7c9359-f254-43d7-fc36-1c0f27bde957"
      },
      "source": [
        "plt.plot(history.history['auc'])\n",
        "plt.plot(history.history['val_auc'])\n",
        "plt.title('Model AUC')\n",
        "plt.ylabel('AUC')\n",
        "plt.xlabel('Epoch')\n",
        "plt.legend(['train', 'val'], loc='lower right')\n",
        "plt.ylim([0.8, 1.01])\n",
        "plt.xticks([i for i in range(11)])\n",
        "plt.xlim([0, 10])\n",
        "plt.show()"
      ],
      "execution_count": null,
      "outputs": [
        {
          "output_type": "display_data",
          "data": {
            "image/png": "[encoded data removed]",
            "text/plain": [
              "<Figure size 432x288 with 1 Axes>"
            ]
          },
          "metadata": {
            "tags": []
          }
        }
      ]
    },
    {
      "cell_type": "code",
      "metadata": {
        "colab": {
          "background_save": true
        },
        "id": "_FQ97njfJh-Z"
      },
      "source": [
        "y_pred = model.predict(processed_x_test)\n",
        "label = np.round(y_pred)"
      ],
      "execution_count": null,
      "outputs": []
    },
    {
      "cell_type": "code",
      "metadata": {
        "colab": {
          "background_save": true
        },
        "id": "mMAGhIVsJh-Z",
        "outputId": "15ea187e-0b87-4879-a1b3-2e8a1c7351fe"
      },
      "source": [
        "# Metrics\n",
        "from sklearn.metrics import f1_score, precision_score, recall_score, confusion_matrix\n",
        "from sklearn.metrics import classification_report\n",
        "target_names = ['Not Racist', 'Racist']\n",
        "print(classification_report(y_test, label, target_names=target_names))\n",
        "\n",
        "print(f\"Test Accuracy: {model.evaluate(processed_x_test,y_test, verbose=0)[1]*100:.2f}%\")\n",
        "print(f\"Test AUC: {metrics.roc_auc_score(y_test, label)*100:.2f}%\")"
      ],
      "execution_count": null,
      "outputs": [
        {
          "output_type": "stream",
          "text": [
            "              precision    recall  f1-score   support\n",
            "\n",
            "  Not Racist       0.96      0.97      0.96      1779\n",
            "      Racist       0.85      0.80      0.83       411\n",
            "\n",
            "    accuracy                           0.94      2190\n",
            "   macro avg       0.90      0.89      0.89      2190\n",
            "weighted avg       0.94      0.94      0.94      2190\n",
            "\n",
            "Test Accuracy: 89.26%\n",
            "Test AUC: 88.52%\n"
          ],
          "name": "stdout"
        }
      ]
    },
    {
      "cell_type": "code",
      "metadata": {
        "colab": {
          "background_save": true
        },
        "id": "SfKtBo2uJh-a",
        "outputId": "76dcd513-e393-4fd0-aa9b-b132f445d656"
      },
      "source": [
        "from sklearn.metrics import plot_confusion_matrix, confusion_matrix\n",
        "\n",
        "# Creates a confusion matrix\n",
        "cm = confusion_matrix(y_test, label)\n",
        "# Transform to df for easier plotting\n",
        "cm_df = pd.DataFrame(cm)\n",
        "plt.figure(figsize=(8,5))\n",
        "sns.heatmap(cm_df, annot=True, fmt='g', cmap=plt.cm.Blues, cbar=False)\n",
        "plt.rcParams['font.size'] = 10\n",
        "plt.title('Predictions')\n",
        "plt.ylabel('True Labels')\n",
        "plt.xlabel('Predicted Labels')\n",
        "plt.show()"
      ],
      "execution_count": null,
      "outputs": [
        {
          "output_type": "display_data",
          "data": {
            "image/png": "[encoded data removed]",
            "text/plain": [
              "<Figure size 576x360 with 1 Axes>"
            ]
          },
          "metadata": {
            "tags": []
          }
        }
      ]
    },
    {
      "cell_type": "markdown",
      "metadata": {
        "id": "Cfk7NkMMKGNH"
      },
      "source": [
        "### Squared-Hinge Loss."
      ]
    },
    {
      "cell_type": "code",
      "metadata": {
        "colab": {
          "background_save": true
        },
        "id": "BN-lT_rUKGNH",
        "outputId": "b1e37c97-7c8e-4f03-dd00-52054b284701"
      },
      "source": [
        "# Deep Learning model (LSTM, CNN)\n",
        "model = Sequential()\n",
        "\n",
        "\n",
        "model.add(Embedding(vocab_size + 1, embedding_dim, weights=[embedding_matrix], input_length=max_len, trainable=True))\n",
        "\n",
        "\n",
        "model.add(LSTM(100, return_sequences=True, name='lstm_layer1'))#,kernel_regularizer=l2(0.01),recurrent_regularizer=l2(0.01)))\n",
        "model.add(Conv1D(filters=32, kernel_size=7, padding='same', activation='relu'))#,kernel_regularizer=l2(0.01),bias_regularizer=l2(0.01)))\n",
        "model.add(MaxPooling1D(3)) # to reduce network size\n",
        "model.add(GlobalMaxPooling1D())\n",
        "model.add(BatchNormalization()) # to reduce weights\n",
        "\n",
        "model.add(Dense(64, activation='relu',kernel_regularizer=l2(0.17),bias_regularizer=l2(0.01)))\n",
        "model.add(Dropout(0.3))\n",
        "model.add(Dense(32, activation='relu',kernel_regularizer=l2(0.19),bias_regularizer=l2(0.01)))\n",
        "model.add(Dropout(0.3))\n",
        "# model.add(Dense(16, kernel_regularizer=l2(0.001), activation='relu'))\n",
        "# model.add(Dropout(0.3))\n",
        "model.add(Dense(1, activation='sigmoid'))\n",
        "model.summary()"
      ],
      "execution_count": null,
      "outputs": [
        {
          "output_type": "stream",
          "text": [
            "Model: \"sequential_12\"\n",
            "_________________________________________________________________\n",
            "Layer (type)                 Output Shape              Param #   \n",
            "=================================================================\n",
            "embedding_12 (Embedding)     (None, 251, 256)          9768192   \n",
            "_________________________________________________________________\n",
            "lstm_layer1 (LSTM)           (None, 251, 100)          142800    \n",
            "_________________________________________________________________\n",
            "conv1d_12 (Conv1D)           (None, 251, 32)           22432     \n",
            "_________________________________________________________________\n",
            "max_pooling1d_12 (MaxPooling (None, 83, 32)            0         \n",
            "_________________________________________________________________\n",
            "global_max_pooling1d_12 (Glo (None, 32)                0         \n",
            "_________________________________________________________________\n",
            "batch_normalization_12 (Batc (None, 32)                128       \n",
            "_________________________________________________________________\n",
            "dense_34 (Dense)             (None, 64)                2112      \n",
            "_________________________________________________________________\n",
            "dropout_22 (Dropout)         (None, 64)                0         \n",
            "_________________________________________________________________\n",
            "dense_35 (Dense)             (None, 32)                2080      \n",
            "_________________________________________________________________\n",
            "dropout_23 (Dropout)         (None, 32)                0         \n",
            "_________________________________________________________________\n",
            "dense_36 (Dense)             (None, 1)                 33        \n",
            "=================================================================\n",
            "Total params: 9,937,777\n",
            "Trainable params: 9,937,713\n",
            "Non-trainable params: 64\n",
            "_________________________________________________________________\n"
          ],
          "name": "stdout"
        }
      ]
    },
    {
      "cell_type": "code",
      "metadata": {
        "colab": {
          "background_save": true
        },
        "id": "xIIDoVnUKGNJ"
      },
      "source": [
        "model.compile(loss='squared_hinge', optimizer=keras.optimizers.Adam(lr=0.01), metrics=['AUC'])"
      ],
      "execution_count": null,
      "outputs": []
    },
    {
      "cell_type": "code",
      "metadata": {
        "colab": {
          "background_save": true
        },
        "id": "54iZtKBXKGNK",
        "outputId": "a7f6dbac-ba6a-4422-9ac3-518444fc7ddc"
      },
      "source": [
        "# to Train the model\n",
        "history = model.fit(processed_x_train,y_train_upsampled, validation_data=(processed_x_val,y_val),epochs=10,batch_size=64,verbose=1)"
      ],
      "execution_count": null,
      "outputs": [
        {
          "output_type": "stream",
          "text": [
            "Epoch 1/10\n",
            "194/194 [==============================] - 27s 127ms/step - loss: 3.1165 - auc: 0.9079 - val_loss: 1.0380 - val_auc: 0.9543\n",
            "Epoch 2/10\n",
            "194/194 [==============================] - 24s 123ms/step - loss: 0.6141 - auc: 0.9905 - val_loss: 0.9717 - val_auc: 0.8701\n",
            "Epoch 3/10\n",
            "194/194 [==============================] - 24s 124ms/step - loss: 0.5798 - auc: 0.9932 - val_loss: 0.9855 - val_auc: 0.9133\n",
            "Epoch 4/10\n",
            "194/194 [==============================] - 24s 124ms/step - loss: 0.5888 - auc: 0.9929 - val_loss: 0.9674 - val_auc: 0.8769\n",
            "Epoch 5/10\n",
            "194/194 [==============================] - 24s 123ms/step - loss: 0.5687 - auc: 0.9930 - val_loss: 0.9517 - val_auc: 0.9596\n",
            "Epoch 6/10\n",
            "194/194 [==============================] - 24s 123ms/step - loss: 0.5480 - auc: 0.9959 - val_loss: 1.1860 - val_auc: 0.7795\n",
            "Epoch 7/10\n",
            "194/194 [==============================] - 24s 124ms/step - loss: 0.5701 - auc: 0.9963 - val_loss: 0.9612 - val_auc: 0.9397\n",
            "Epoch 8/10\n",
            "194/194 [==============================] - 24s 123ms/step - loss: 0.5978 - auc: 0.9954 - val_loss: 1.1016 - val_auc: 0.8670\n",
            "Epoch 9/10\n",
            "194/194 [==============================] - 24s 123ms/step - loss: 0.6654 - auc: 0.9914 - val_loss: 1.1653 - val_auc: 0.8838\n",
            "Epoch 10/10\n",
            "194/194 [==============================] - 24s 123ms/step - loss: 0.5845 - auc: 0.9942 - val_loss: 0.9591 - val_auc: 0.8681\n"
          ],
          "name": "stdout"
        }
      ]
    },
    {
      "cell_type": "code",
      "metadata": {
        "colab": {
          "background_save": true
        },
        "id": "x1XvcgyzKGNM",
        "outputId": "fc883851-5e6c-4ff9-f613-b08f1ab7d6a9"
      },
      "source": [
        "plt.plot(history.history['auc'])\n",
        "plt.plot(history.history['val_auc'])\n",
        "plt.title('Model AUC')\n",
        "plt.ylabel('AUC')\n",
        "plt.xlabel('Epoch')\n",
        "plt.legend(['train', 'val'], loc='lower right')\n",
        "plt.ylim([0.8, 1.01])\n",
        "plt.xticks([i for i in range(11)])\n",
        "plt.xlim([0, 10])\n",
        "plt.show()"
      ],
      "execution_count": null,
      "outputs": [
        {
          "output_type": "display_data",
          "data": {
            "image/png": "[encoded data removed]",
            "text/plain": [
              "<Figure size 432x288 with 1 Axes>"
            ]
          },
          "metadata": {
            "tags": []
          }
        }
      ]
    },
    {
      "cell_type": "code",
      "metadata": {
        "colab": {
          "background_save": true
        },
        "id": "u6FEEp4sKGNN"
      },
      "source": [
        "y_pred = model.predict(processed_x_test)\n",
        "label = np.round(y_pred)"
      ],
      "execution_count": null,
      "outputs": []
    },
    {
      "cell_type": "code",
      "metadata": {
        "colab": {
          "background_save": true
        },
        "id": "7bx7MhYHKGNO",
        "outputId": "5a39be73-0531-4aca-9e5a-7529261bebd9"
      },
      "source": [
        "# Metrics\n",
        "from sklearn.metrics import f1_score, precision_score, recall_score, confusion_matrix\n",
        "from sklearn.metrics import classification_report\n",
        "target_names = ['Not Racist', 'Racist']\n",
        "print(classification_report(y_test, label, target_names=target_names))\n",
        "\n",
        "print(f\"Test Accuracy: {model.evaluate(processed_x_test,y_test, verbose=0)[1]*100:.2f}%\")\n",
        "print(f\"Test AUC: {metrics.roc_auc_score(y_test, label)*100:.2f}%\")"
      ],
      "execution_count": null,
      "outputs": [
        {
          "output_type": "stream",
          "text": [
            "              precision    recall  f1-score   support\n",
            "\n",
            "  Not Racist       0.95      0.98      0.96      1779\n",
            "      Racist       0.88      0.77      0.82       411\n",
            "\n",
            "    accuracy                           0.94      2190\n",
            "   macro avg       0.91      0.87      0.89      2190\n",
            "weighted avg       0.93      0.94      0.93      2190\n",
            "\n",
            "Test Accuracy: 89.15%\n",
            "Test AUC: 87.11%\n"
          ],
          "name": "stdout"
        }
      ]
    },
    {
      "cell_type": "code",
      "metadata": {
        "colab": {
          "background_save": true
        },
        "id": "1EP1GGNoKGNO",
        "outputId": "c6c11722-298d-47eb-ea77-a9e8016b76b9"
      },
      "source": [
        "from sklearn.metrics import plot_confusion_matrix, confusion_matrix\n",
        "\n",
        "# Creates a confusion matrix\n",
        "cm = confusion_matrix(y_test, label)\n",
        "# Transform to df for easier plotting\n",
        "cm_df = pd.DataFrame(cm)\n",
        "plt.figure(figsize=(8,5))\n",
        "sns.heatmap(cm_df, annot=True, fmt='g', cmap=plt.cm.Blues, cbar=False)\n",
        "plt.rcParams['font.size'] = 10\n",
        "plt.title('Predictions')\n",
        "plt.ylabel('True Labels')\n",
        "plt.xlabel('Predicted Labels')\n",
        "plt.show()"
      ],
      "execution_count": null,
      "outputs": [
        {
          "output_type": "display_data",
          "data": {
            "image/png": "[encoded data removed]",
            "text/plain": [
              "<Figure size 576x360 with 1 Axes>"
            ]
          },
          "metadata": {
            "tags": []
          }
        }
      ]
    },
    {
      "cell_type": "markdown",
      "metadata": {
        "id": "9e7MzHfwNt6W"
      },
      "source": [
        "### Conclusion:\n",
        "The binary_crossentropy loss showed the highest validation AUC scores."
      ]
    },
    {
      "cell_type": "markdown",
      "metadata": {
        "id": "V0clZBHdKbzq"
      },
      "source": [
        "# Experimenting with a different optimizer"
      ]
    },
    {
      "cell_type": "markdown",
      "metadata": {
        "id": "w1lSIXuYKg9V"
      },
      "source": [
        "### SGD Optimizer."
      ]
    },
    {
      "cell_type": "code",
      "metadata": {
        "colab": {
          "background_save": true
        },
        "id": "Tw3I9b17KcME",
        "outputId": "a7c01243-8fbf-475d-aa0a-3e88b7617ecf"
      },
      "source": [
        "# Deep Learning model (LSTM, CNN)\n",
        "model = Sequential()\n",
        "\n",
        "\n",
        "model.add(Embedding(vocab_size + 1, embedding_dim, weights=[embedding_matrix], input_length=max_len, trainable=True))\n",
        "\n",
        "\n",
        "model.add(LSTM(100, return_sequences=True, name='lstm_layer1'))#,kernel_regularizer=l2(0.01),recurrent_regularizer=l2(0.01)))\n",
        "model.add(Conv1D(filters=32, kernel_size=7, padding='same', activation='relu'))#,kernel_regularizer=l2(0.01),bias_regularizer=l2(0.01)))\n",
        "model.add(MaxPooling1D(3)) # to reduce network size\n",
        "model.add(GlobalMaxPooling1D())\n",
        "model.add(BatchNormalization()) # to reduce weights\n",
        "\n",
        "model.add(Dense(64, activation='relu',kernel_regularizer=l2(0.17),bias_regularizer=l2(0.01)))\n",
        "model.add(Dropout(0.3))\n",
        "model.add(Dense(32, activation='relu',kernel_regularizer=l2(0.19),bias_regularizer=l2(0.01)))\n",
        "model.add(Dropout(0.3))\n",
        "# model.add(Dense(16, kernel_regularizer=l2(0.001), activation='relu'))\n",
        "# model.add(Dropout(0.3))\n",
        "model.add(Dense(1, activation='sigmoid'))\n",
        "model.summary()"
      ],
      "execution_count": null,
      "outputs": [
        {
          "output_type": "stream",
          "text": [
            "Model: \"sequential_13\"\n",
            "_________________________________________________________________\n",
            "Layer (type)                 Output Shape              Param #   \n",
            "=================================================================\n",
            "embedding_13 (Embedding)     (None, 251, 256)          9768192   \n",
            "_________________________________________________________________\n",
            "lstm_layer1 (LSTM)           (None, 251, 100)          142800    \n",
            "_________________________________________________________________\n",
            "conv1d_13 (Conv1D)           (None, 251, 32)           22432     \n",
            "_________________________________________________________________\n",
            "max_pooling1d_13 (MaxPooling (None, 83, 32)            0         \n",
            "_________________________________________________________________\n",
            "global_max_pooling1d_13 (Glo (None, 32)                0         \n",
            "_________________________________________________________________\n",
            "batch_normalization_13 (Batc (None, 32)                128       \n",
            "_________________________________________________________________\n",
            "dense_37 (Dense)             (None, 64)                2112      \n",
            "_________________________________________________________________\n",
            "dropout_24 (Dropout)         (None, 64)                0         \n",
            "_________________________________________________________________\n",
            "dense_38 (Dense)             (None, 32)                2080      \n",
            "_________________________________________________________________\n",
            "dropout_25 (Dropout)         (None, 32)                0         \n",
            "_________________________________________________________________\n",
            "dense_39 (Dense)             (None, 1)                 33        \n",
            "=================================================================\n",
            "Total params: 9,937,777\n",
            "Trainable params: 9,937,713\n",
            "Non-trainable params: 64\n",
            "_________________________________________________________________\n"
          ],
          "name": "stdout"
        }
      ]
    },
    {
      "cell_type": "code",
      "metadata": {
        "colab": {
          "background_save": true
        },
        "id": "utecWUaeKcME"
      },
      "source": [
        "model.compile(loss='binary_crossentropy', optimizer=keras.optimizers.SGD(lr=0.01), metrics=['AUC'])"
      ],
      "execution_count": null,
      "outputs": []
    },
    {
      "cell_type": "code",
      "metadata": {
        "colab": {
          "background_save": true
        },
        "id": "hvRUqr5LKcMF",
        "outputId": "bfb9fee6-1873-447b-a93b-40837564ab3c"
      },
      "source": [
        "# to Train the model\n",
        "history = model.fit(processed_x_train,y_train_upsampled, validation_data=(processed_x_val,y_val),epochs=10,batch_size=64,verbose=1)"
      ],
      "execution_count": null,
      "outputs": [
        {
          "output_type": "stream",
          "text": [
            "Epoch 1/10\n",
            "194/194 [==============================] - 8s 34ms/step - loss: 12.0648 - auc: 0.5952 - val_loss: 4.5258 - val_auc: 0.7913\n",
            "Epoch 2/10\n",
            "194/194 [==============================] - 6s 30ms/step - loss: 3.4601 - auc: 0.7590 - val_loss: 1.6382 - val_auc: 0.8262\n",
            "Epoch 3/10\n",
            "194/194 [==============================] - 6s 32ms/step - loss: 1.3536 - auc: 0.8166 - val_loss: 0.8999 - val_auc: 0.8483\n",
            "Epoch 4/10\n",
            "194/194 [==============================] - 6s 32ms/step - loss: 0.8189 - auc: 0.8417 - val_loss: 0.6817 - val_auc: 0.8652\n",
            "Epoch 5/10\n",
            "194/194 [==============================] - 6s 31ms/step - loss: 0.6645 - auc: 0.8599 - val_loss: 0.6082 - val_auc: 0.8769\n",
            "Epoch 6/10\n",
            "194/194 [==============================] - 6s 33ms/step - loss: 0.6116 - auc: 0.8640 - val_loss: 0.5817 - val_auc: 0.8845\n",
            "Epoch 7/10\n",
            "194/194 [==============================] - 6s 30ms/step - loss: 0.5755 - auc: 0.8782 - val_loss: 0.5520 - val_auc: 0.8907\n",
            "Epoch 8/10\n",
            "194/194 [==============================] - 6s 31ms/step - loss: 0.5574 - auc: 0.8853 - val_loss: 0.5424 - val_auc: 0.8942\n",
            "Epoch 9/10\n",
            "194/194 [==============================] - 6s 31ms/step - loss: 0.5356 - auc: 0.8940 - val_loss: 0.5095 - val_auc: 0.8984\n",
            "Epoch 10/10\n",
            "194/194 [==============================] - 6s 31ms/step - loss: 0.5201 - auc: 0.9005 - val_loss: 0.5099 - val_auc: 0.8992\n"
          ],
          "name": "stdout"
        }
      ]
    },
    {
      "cell_type": "code",
      "metadata": {
        "colab": {
          "background_save": true
        },
        "id": "Gc0yps4aKcMG",
        "outputId": "631089a5-89b8-4cca-8ce2-53adfe29f0a4"
      },
      "source": [
        "plt.plot(history.history['auc'])\n",
        "plt.plot(history.history['val_auc'])\n",
        "plt.title('Model AUC')\n",
        "plt.ylabel('AUC')\n",
        "plt.xlabel('Epoch')\n",
        "plt.legend(['train', 'val'], loc='lower right')\n",
        "plt.ylim([0.8, 1.01])\n",
        "plt.xticks([i for i in range(11)])\n",
        "plt.xlim([0, 10])\n",
        "plt.show()"
      ],
      "execution_count": null,
      "outputs": [
        {
          "output_type": "display_data",
          "data": {
            "image/png": "[encoded data removed]",
            "text/plain": [
              "<Figure size 432x288 with 1 Axes>"
            ]
          },
          "metadata": {
            "tags": []
          }
        }
      ]
    },
    {
      "cell_type": "code",
      "metadata": {
        "colab": {
          "background_save": true
        },
        "id": "VYZl41XIKcMG"
      },
      "source": [
        "y_pred = model.predict(processed_x_test)\n",
        "label = np.round(y_pred)"
      ],
      "execution_count": null,
      "outputs": []
    },
    {
      "cell_type": "code",
      "metadata": {
        "colab": {
          "background_save": true
        },
        "id": "f8xi79iOKcMG",
        "outputId": "bc7b5076-1cdf-45ac-82b2-91db3a214ab1"
      },
      "source": [
        "# Metrics\n",
        "from sklearn.metrics import f1_score, precision_score, recall_score, confusion_matrix\n",
        "from sklearn.metrics import classification_report\n",
        "target_names = ['Not Racist', 'Racist']\n",
        "print(classification_report(y_test, label, target_names=target_names))\n",
        "\n",
        "print(f\"Test Accuracy: {model.evaluate(processed_x_test,y_test, verbose=0)[1]*100:.2f}%\")\n",
        "print(f\"Test AUC: {metrics.roc_auc_score(y_test, label)*100:.2f}%\")"
      ],
      "execution_count": null,
      "outputs": [
        {
          "output_type": "stream",
          "text": [
            "              precision    recall  f1-score   support\n",
            "\n",
            "  Not Racist       0.95      0.82      0.88      1779\n",
            "      Racist       0.51      0.79      0.62       411\n",
            "\n",
            "    accuracy                           0.82      2190\n",
            "   macro avg       0.73      0.81      0.75      2190\n",
            "weighted avg       0.86      0.82      0.83      2190\n",
            "\n",
            "Test Accuracy: 88.17%\n",
            "Test AUC: 80.89%\n"
          ],
          "name": "stdout"
        }
      ]
    },
    {
      "cell_type": "code",
      "metadata": {
        "colab": {
          "background_save": true
        },
        "id": "9aqv1UCjKcMG",
        "outputId": "bb24aae6-ee37-41cf-a19b-51e9d5e0fa2e"
      },
      "source": [
        "from sklearn.metrics import plot_confusion_matrix, confusion_matrix\n",
        "\n",
        "# Creates a confusion matrix\n",
        "cm = confusion_matrix(y_test, label)\n",
        "# Transform to df for easier plotting\n",
        "cm_df = pd.DataFrame(cm)\n",
        "plt.figure(figsize=(8,5))\n",
        "sns.heatmap(cm_df, annot=True, fmt='g', cmap=plt.cm.Blues, cbar=False)\n",
        "plt.rcParams['font.size'] = 10\n",
        "plt.title('Predictions')\n",
        "plt.ylabel('True Labels')\n",
        "plt.xlabel('Predicted Labels')\n",
        "plt.show()"
      ],
      "execution_count": null,
      "outputs": [
        {
          "output_type": "display_data",
          "data": {
            "image/png": "[encoded data removed]",
            "text/plain": [
              "<Figure size 576x360 with 1 Axes>"
            ]
          },
          "metadata": {
            "tags": []
          }
        }
      ]
    },
    {
      "cell_type": "markdown",
      "metadata": {
        "id": "TSxv05ZJOU_L"
      },
      "source": [
        "### Conclusion:\n",
        "The Adam optimized showed higher AUC validation scores."
      ]
    },
    {
      "cell_type": "markdown",
      "metadata": {
        "id": "Vb3oPrjroQ3R"
      },
      "source": [
        "#Pretrained Deep Learning Model \"Bert\""
      ]
    },
    {
      "cell_type": "code",
      "metadata": {
        "colab": {
          "base_uri": "https://localhost:8080/"
        },
        "id": "pNaNKFun1ny6",
        "outputId": "68bcfab0-6ce3-4f32-c2c1-2d3c873e1b21"
      },
      "source": [
        "!pip install transformers\n",
        "!git clone https://github.com/aub-mind/arabert.git\n",
        "!pip install farasapy"
      ],
      "execution_count": null,
      "outputs": [
        {
          "output_type": "stream",
          "text": [
            "Requirement already satisfied: transformers in /usr/local/lib/python3.7/dist-packages (4.3.3)\n",
            "Requirement already satisfied: sacremoses in /usr/local/lib/python3.7/dist-packages (from transformers) (0.0.43)\n",
            "Requirement already satisfied: numpy>=1.17 in /usr/local/lib/python3.7/dist-packages (from transformers) (1.19.5)\n",
            "Requirement already satisfied: packaging in /usr/local/lib/python3.7/dist-packages (from transformers) (20.9)\n",
            "Requirement already satisfied: importlib-metadata; python_version < \"3.8\" in /usr/local/lib/python3.7/dist-packages (from transformers) (3.7.0)\n",
            "Requirement already satisfied: filelock in /usr/local/lib/python3.7/dist-packages (from transformers) (3.0.12)\n",
            "Requirement already satisfied: tqdm>=4.27 in /usr/local/lib/python3.7/dist-packages (from transformers) (4.41.1)\n",
            "Requirement already satisfied: tokenizers<0.11,>=0.10.1 in /usr/local/lib/python3.7/dist-packages (from transformers) (0.10.1)\n",
            "Requirement already satisfied: requests in /usr/local/lib/python3.7/dist-packages (from transformers) (2.23.0)\n",
            "Requirement already satisfied: regex!=2019.12.17 in /usr/local/lib/python3.7/dist-packages (from transformers) (2019.12.20)\n",
            "Requirement already satisfied: six in /usr/local/lib/python3.7/dist-packages (from sacremoses->transformers) (1.15.0)\n",
            "Requirement already satisfied: joblib in /usr/local/lib/python3.7/dist-packages (from sacremoses->transformers) (1.0.1)\n",
            "Requirement already satisfied: click in /usr/local/lib/python3.7/dist-packages (from sacremoses->transformers) (7.1.2)\n",
            "Requirement already satisfied: pyparsing>=2.0.2 in /usr/local/lib/python3.7/dist-packages (from packaging->transformers) (2.4.7)\n",
            "Requirement already satisfied: typing-extensions>=3.6.4; python_version < \"3.8\" in /usr/local/lib/python3.7/dist-packages (from importlib-metadata; python_version < \"3.8\"->transformers) (3.7.4.3)\n",
            "Requirement already satisfied: zipp>=0.5 in /usr/local/lib/python3.7/dist-packages (from importlib-metadata; python_version < \"3.8\"->transformers) (3.4.1)\n",
            "Requirement already satisfied: urllib3!=1.25.0,!=1.25.1,<1.26,>=1.21.1 in /usr/local/lib/python3.7/dist-packages (from requests->transformers) (1.24.3)\n",
            "Requirement already satisfied: certifi>=2017.4.17 in /usr/local/lib/python3.7/dist-packages (from requests->transformers) (2020.12.5)\n",
            "Requirement already satisfied: chardet<4,>=3.0.2 in /usr/local/lib/python3.7/dist-packages (from requests->transformers) (3.0.4)\n",
            "Requirement already satisfied: idna<3,>=2.5 in /usr/local/lib/python3.7/dist-packages (from requests->transformers) (2.10)\n",
            "fatal: destination path 'arabert' already exists and is not an empty directory.\n",
            "Requirement already satisfied: farasapy in /usr/local/lib/python3.7/dist-packages (0.0.12)\n",
            "Requirement already satisfied: tqdm in /usr/local/lib/python3.7/dist-packages (from farasapy) (4.41.1)\n",
            "Requirement already satisfied: requests in /usr/local/lib/python3.7/dist-packages (from farasapy) (2.23.0)\n",
            "Requirement already satisfied: urllib3!=1.25.0,!=1.25.1,<1.26,>=1.21.1 in /usr/local/lib/python3.7/dist-packages (from requests->farasapy) (1.24.3)\n",
            "Requirement already satisfied: idna<3,>=2.5 in /usr/local/lib/python3.7/dist-packages (from requests->farasapy) (2.10)\n",
            "Requirement already satisfied: chardet<4,>=3.0.2 in /usr/local/lib/python3.7/dist-packages (from requests->farasapy) (3.0.4)\n",
            "Requirement already satisfied: certifi>=2017.4.17 in /usr/local/lib/python3.7/dist-packages (from requests->farasapy) (2020.12.5)\n"
          ],
          "name": "stdout"
        }
      ]
    },
    {
      "cell_type": "code",
      "metadata": {
        "id": "xBQOcuH4dPbQ"
      },
      "source": [
        "from transformers import BertTokenizer, TFBertForSequenceClassification\n",
        "from transformers import InputExample, InputFeatures"
      ],
      "execution_count": null,
      "outputs": []
    },
    {
      "cell_type": "code",
      "metadata": {
        "id": "0iDEWrsIeDYp"
      },
      "source": [
        "# 70% - traning 20% - Testing - 10% Validation\n",
        "Data = pd.DataFrame(columns = ['DATA_COLUMN', 'LABEL_COLUMN'])\n",
        "Data['DATA_COLUMN']  = df['Cleaned_4']\n",
        "Data['LABEL_COLUMN'] = df['Label']\n",
        "\n",
        "train, test = train_test_split(Data,\n",
        "                                    test_size=0.2,\n",
        "                                    random_state=0)\n",
        "train, val = train_test_split(train,\n",
        "                            test_size=0.125,\n",
        "                            random_state=0)"
      ],
      "execution_count": null,
      "outputs": []
    },
    {
      "cell_type": "code",
      "metadata": {
        "colab": {
          "base_uri": "https://localhost:8080/"
        },
        "id": "z_D9JDyU5xiQ",
        "outputId": "72c01552-cdda-4e0f-fcc1-233cb256323a"
      },
      "source": [
        "print(len(train))\n",
        "print(len(test))\n",
        "print(len(val))"
      ],
      "execution_count": null,
      "outputs": [
        {
          "output_type": "stream",
          "text": [
            "7665\n",
            "2190\n",
            "1095\n"
          ],
          "name": "stdout"
        }
      ]
    },
    {
      "cell_type": "code",
      "metadata": {
        "id": "Yi5d_CoYdvZ7"
      },
      "source": [
        "# Reference (the paper of Bert, artical link)\n",
        "def convert_data_to_examples(train, test, val, DATA_COLUMN, LABEL_COLUMN):\n",
        "  train_InputExamples = train.apply(lambda x: InputExample(guid=None, # Globally unique ID for bookkeeping, unused in this case\n",
        "                                                          text_a = x[DATA_COLUMN],\n",
        "                                                          text_b = None,\n",
        "                                                          label = x[LABEL_COLUMN]), axis = 1)\n",
        "\n",
        "  test_InputExamples = test.apply(lambda x: InputExample(guid=None, # Globally unique ID for bookkeeping, unused in this case\n",
        "                                                          text_a = x[DATA_COLUMN],\n",
        "                                                          text_b = None,\n",
        "                                                          label = x[LABEL_COLUMN]), axis = 1)\n",
        "\n",
        "  validation_InputExamples = val.apply(lambda x: InputExample(guid=None, # Globally unique ID for bookkeeping, unused in this case\n",
        "                                                          text_a = x[DATA_COLUMN],\n",
        "                                                          text_b = None,\n",
        "                                                          label = x[LABEL_COLUMN]), axis = 1)\n",
        "\n",
        "  return train_InputExamples, test_InputExamples,validation_InputExamples\n",
        "\n",
        "  train_InputExamples, validation_InputExamples = convert_data_to_examples(train,\n",
        "                                                                           test,\n",
        "                                                                           val,\n",
        "                                                                           'DATA_COLUMN',\n",
        "                                                                           'LABEL_COLUMN')\n",
        "def convert_examples_to_tf_dataset(examples, tokenizer, max_length=128):\n",
        "    features = [] # -> will hold InputFeatures to be converted later\n",
        "\n",
        "    for e in examples:\n",
        "\n",
        "        input_dict = tokenizer.encode_plus(\n",
        "            e.text_a,\n",
        "            add_special_tokens=True,\n",
        "            max_length=max_length, # truncates if len(s) > max_length\n",
        "            return_token_type_ids=True,\n",
        "            return_attention_mask=True,\n",
        "            padding='max_length', # pads to the right by default # CHECK THIS for pad_to_max_length\n",
        "            truncation=True\n",
        "        )\n",
        "\n",
        "        input_ids, token_type_ids, attention_mask = (input_dict[\"input_ids\"],\n",
        "            input_dict[\"token_type_ids\"], input_dict['attention_mask'])\n",
        "\n",
        "        features.append(\n",
        "            InputFeatures(\n",
        "                input_ids=input_ids, attention_mask=attention_mask, token_type_ids=token_type_ids, label=e.label\n",
        "            )\n",
        "        )\n",
        "\n",
        "    def gen():\n",
        "        for f in features:\n",
        "            yield (\n",
        "                {\n",
        "                    \"input_ids\": f.input_ids,\n",
        "                    \"attention_mask\": f.attention_mask,\n",
        "                    \"token_type_ids\": f.token_type_ids,\n",
        "                },\n",
        "                f.label,\n",
        "            )\n",
        "\n",
        "    return tf.data.Dataset.from_generator(\n",
        "        gen,\n",
        "        ({\"input_ids\": tf.int32, \"attention_mask\": tf.int32, \"token_type_ids\": tf.int32}, tf.int64),\n",
        "        (\n",
        "            {\n",
        "                \"input_ids\": tf.TensorShape([None]),\n",
        "                \"attention_mask\": tf.TensorShape([None]),\n",
        "                \"token_type_ids\": tf.TensorShape([None]),\n",
        "            },\n",
        "            tf.TensorShape([]),\n",
        "        ),\n",
        "    )\n",
        "\n",
        "\n",
        "DATA_COLUMN = 'DATA_COLUMN'\n",
        "LABEL_COLUMN = 'LABEL_COLUMN'"
      ],
      "execution_count": null,
      "outputs": []
    },
    {
      "cell_type": "code",
      "metadata": {
        "colab": {
          "base_uri": "https://localhost:8080/"
        },
        "id": "BspUCihRrW0y",
        "outputId": "b7a26a8c-8e6a-49d0-de3f-f9f1040efcd0"
      },
      "source": [
        "model = TFBertForSequenceClassification.from_pretrained(\"aubmindlab/bert-base-arabert\")\n",
        "tokenizer = BertTokenizer.from_pretrained(\"aubmindlab/bert-base-arabert\")"
      ],
      "execution_count": null,
      "outputs": [
        {
          "output_type": "stream",
          "text": [
            "All model checkpoint layers were used when initializing TFBertForSequenceClassification.\n",
            "\n",
            "Some layers of TFBertForSequenceClassification were not initialized from the model checkpoint at aubmindlab/bert-base-arabert and are newly initialized: ['classifier']\n",
            "You should probably TRAIN this model on a down-stream task to be able to use it for predictions and inference.\n"
          ],
          "name": "stderr"
        }
      ]
    },
    {
      "cell_type": "code",
      "metadata": {
        "id": "rvxZN8IypHhZ"
      },
      "source": [
        "# converting the Data into examples and split them intp patchs\n",
        "train_InputExamples, test_InputExamples, validation_InputExamples = convert_data_to_examples(train, test, val, DATA_COLUMN, LABEL_COLUMN)\n",
        "\n",
        "train_data = convert_examples_to_tf_dataset(list(train_InputExamples), tokenizer)\n",
        "train_data = train_data.batch(32)\n",
        "\n",
        "test_data = convert_examples_to_tf_dataset(list(test_InputExamples), tokenizer)\n",
        "test_data = test_data.batch(32)\n",
        "\n",
        "validation_data = convert_examples_to_tf_dataset(list(validation_InputExamples), tokenizer)\n",
        "validation_data = validation_data.batch(32)"
      ],
      "execution_count": null,
      "outputs": []
    },
    {
      "cell_type": "code",
      "metadata": {
        "colab": {
          "base_uri": "https://localhost:8080/"
        },
        "id": "M9x9UAVfgi6j",
        "outputId": "28a26550-2b6b-464c-fb6f-0b2890164120"
      },
      "source": [
        "# compiling and traning for the last layer (result layer) of the Arbert (transfering learning technique)\n",
        "model.compile(optimizer=tf.keras.optimizers.Adam(learning_rate=3e-5, epsilon=1e-08, clipnorm=1.0),\n",
        "              loss=tf.keras.losses.SparseCategoricalCrossentropy(from_logits=True),\n",
        "              metrics=[tf.keras.metrics.SparseCategoricalAccuracy('AUC')])\n",
        "\n",
        "history = model.fit(train_data, epochs=10, validation_data=validation_data, verbose=2)"
      ],
      "execution_count": null,
      "outputs": [
        {
          "output_type": "stream",
          "text": [
            "Epoch 1/10\n",
            "WARNING:tensorflow:The parameters `output_attentions`, `output_hidden_states` and `use_cache` cannot be updated when calling a model.They have to be set to True/False in the config object (i.e.: `config=XConfig.from_pretrained('name', output_attentions=True)`).\n",
            "WARNING:tensorflow:AutoGraph could not transform <bound method Socket.send of <zmq.sugar.socket.Socket object at 0x7f3473d52ec0>> and will run it as-is.\n",
            "Please report this to the TensorFlow team. When filing the bug, set the verbosity to 10 (on Linux, `export AUTOGRAPH_VERBOSITY=10`) and attach the full output.\n",
            "Cause: module, class, method, function, traceback, frame, or code object was expected, got cython_function_or_method\n",
            "To silence this warning, decorate the function with @tf.autograph.experimental.do_not_convert\n",
            "WARNING: AutoGraph could not transform <bound method Socket.send of <zmq.sugar.socket.Socket object at 0x7f3473d52ec0>> and will run it as-is.\n",
            "Please report this to the TensorFlow team. When filing the bug, set the verbosity to 10 (on Linux, `export AUTOGRAPH_VERBOSITY=10`) and attach the full output.\n",
            "Cause: module, class, method, function, traceback, frame, or code object was expected, got cython_function_or_method\n",
            "To silence this warning, decorate the function with @tf.autograph.experimental.do_not_convert\n",
            "WARNING:tensorflow:AutoGraph could not transform <function wrap at 0x7f348f604c20> and will run it as-is.\n",
            "Cause: while/else statement not yet supported\n",
            "To silence this warning, decorate the function with @tf.autograph.experimental.do_not_convert\n",
            "WARNING: AutoGraph could not transform <function wrap at 0x7f348f604c20> and will run it as-is.\n",
            "Cause: while/else statement not yet supported\n",
            "To silence this warning, decorate the function with @tf.autograph.experimental.do_not_convertWARNING:tensorflow:The parameter `return_dict` cannot be set in graph mode and will always be set to `True`.\n",
            "\n",
            "WARNING:tensorflow:The parameters `output_attentions`, `output_hidden_states` and `use_cache` cannot be updated when calling a model.They have to be set to True/False in the config object (i.e.: `config=XConfig.from_pretrained('name', output_attentions=True)`).\n",
            "WARNING:tensorflow:The parameter `return_dict` cannot be set in graph mode and will always be set to `True`.\n",
            "WARNING:tensorflow:The parameters `output_attentions`, `output_hidden_states` and `use_cache` cannot be updated when calling a model.They have to be set to True/False in the config object (i.e.: `config=XConfig.from_pretrained('name', output_attentions=True)`).\n",
            "WARNING:tensorflow:The parameter `return_dict` cannot be set in graph mode and will always be set to `True`.\n",
            "240/240 - 245s - loss: 0.2808 - AUC: 0.8853 - val_loss: 0.1674 - val_AUC: 0.9352\n",
            "Epoch 2/10\n",
            "240/240 - 201s - loss: 0.1315 - AUC: 0.9523 - val_loss: 0.1561 - val_AUC: 0.9452\n",
            "Epoch 3/10\n",
            "240/240 - 201s - loss: 0.0918 - AUC: 0.9661 - val_loss: 0.1836 - val_AUC: 0.9434\n",
            "Epoch 4/10\n",
            "240/240 - 200s - loss: 0.0601 - AUC: 0.9783 - val_loss: 0.1970 - val_AUC: 0.9397\n",
            "Epoch 5/10\n",
            "240/240 - 201s - loss: 0.0405 - AUC: 0.9855 - val_loss: 0.2185 - val_AUC: 0.9388\n",
            "Epoch 6/10\n",
            "240/240 - 200s - loss: 0.0259 - AUC: 0.9903 - val_loss: 0.2168 - val_AUC: 0.9479\n",
            "Epoch 7/10\n",
            "240/240 - 201s - loss: 0.0226 - AUC: 0.9914 - val_loss: 0.1955 - val_AUC: 0.9461\n",
            "Epoch 8/10\n",
            "240/240 - 201s - loss: 0.0162 - AUC: 0.9940 - val_loss: 0.2839 - val_AUC: 0.9443\n",
            "Epoch 9/10\n",
            "240/240 - 201s - loss: 0.0182 - AUC: 0.9937 - val_loss: 0.2609 - val_AUC: 0.9416\n",
            "Epoch 10/10\n",
            "240/240 - 200s - loss: 0.0126 - AUC: 0.9954 - val_loss: 0.2983 - val_AUC: 0.9352\n"
          ],
          "name": "stdout"
        }
      ]
    },
    {
      "cell_type": "code",
      "metadata": {
        "colab": {
          "background_save": true
        },
        "id": "j71NYexukwSE"
      },
      "source": [
        "# tf_batch = tokenizer(X_test.to_list()[:1000], max_length=128, padding=True, truncation=True, return_tensors='tf')\n",
        "# tf_outputs = model(tf_batch)\n",
        "# tf_predictions = tf.nn.softmax(tf_outputs[0], axis=-1)\n",
        "# label = tf.argmax(tf_predictions, axis=1)\n",
        "# label = label.numpy()\n",
        "# y_pred = []\n",
        "# for i in range(len(X_test[:1000])):\n",
        "#   y_pred.append(label[i])"
      ],
      "execution_count": null,
      "outputs": []
    },
    {
      "cell_type": "code",
      "metadata": {
        "colab": {
          "background_save": true
        },
        "id": "kOuLL99Al2kd"
      },
      "source": [
        "# tf_batch = tokenizer(X_test.to_list()[1000:], max_length=128, padding=True, truncation=True, return_tensors='tf')\n",
        "# tf_outputs = model(tf_batch)\n",
        "# tf_predictions = tf.nn.softmax(tf_outputs[0], axis=-1)\n",
        "# label = tf.argmax(tf_predictions, axis=1)\n",
        "# label = label.numpy()\n",
        "# for i in range(len(X_test[1000:])):\n",
        "#   y_pred.append(label[i])"
      ],
      "execution_count": null,
      "outputs": []
    },
    {
      "cell_type": "code",
      "metadata": {
        "id": "8Wyu3DU1FRGN"
      },
      "source": [
        "tf_predictions = tf.nn.softmax(y_pred[0], axis=-1)\n",
        "label = tf.argmax(tf_predictions, axis=1)"
      ],
      "execution_count": null,
      "outputs": []
    },
    {
      "cell_type": "code",
      "metadata": {
        "colab": {
          "base_uri": "https://localhost:8080/",
          "height": 295
        },
        "id": "GZKCaSA5J1ui",
        "outputId": "73d41956-2902-4eff-b1f7-07666145ab19"
      },
      "source": [
        "plt.plot(history.history['AUC'])\n",
        "plt.plot(history.history['val_AUC'])\n",
        "plt.title('Model AUC')\n",
        "plt.ylabel('AUC')\n",
        "plt.xlabel('Epoch')\n",
        "plt.legend(['train', 'val'], loc='lower right')\n",
        "plt.ylim([0.8, 1.01])\n",
        "plt.xticks([i for i in range(11)])\n",
        "plt.xlim([0, 10])\n",
        "plt.show()"
      ],
      "execution_count": null,
      "outputs": [
        {
          "output_type": "display_data",
          "data": {
            "image/png": "[encoded data removed]",
            "text/plain": [
              "<Figure size 432x288 with 1 Axes>"
            ]
          },
          "metadata": {
            "tags": [],
            "needs_background": "light"
          }
        }
      ]
    },
    {
      "cell_type": "code",
      "metadata": {
        "colab": {
          "base_uri": "https://localhost:8080/"
        },
        "id": "Qq4kAJKXHPa7",
        "outputId": "44181b2b-d680-4965-9d43-837989b7439d"
      },
      "source": [
        "# Metrics\n",
        "from sklearn.metrics import f1_score, precision_score, recall_score, confusion_matrix\n",
        "from sklearn.metrics import classification_report\n",
        "target_names = ['Not Racist', 'Racist']\n",
        "print(classification_report(y_test, label, target_names=target_names))\n",
        "\n",
        "print(f\"Test Accuracy: {model.evaluate(test_data, verbose=0)[1]*100:.2f}%\")\n",
        "print(f\"Test AUC: {metrics.roc_auc_score(y_test, label)*100:.2f}%\")"
      ],
      "execution_count": null,
      "outputs": [
        {
          "output_type": "stream",
          "text": [
            "              precision    recall  f1-score   support\n",
            "\n",
            "  Not Racist       0.99      0.94      0.96      1779\n",
            "      Racist       0.79      0.95      0.86       411\n",
            "\n",
            "    accuracy                           0.94      2190\n",
            "   macro avg       0.89      0.94      0.91      2190\n",
            "weighted avg       0.95      0.94      0.94      2190\n",
            "\n",
            "Test Accuracy: 94.20%\n",
            "Test AUC: 94.37%\n"
          ],
          "name": "stdout"
        }
      ]
    },
    {
      "cell_type": "code",
      "metadata": {
        "id": "PwO4rOD7l5Ju",
        "colab": {
          "base_uri": "https://localhost:8080/",
          "height": 350
        },
        "outputId": "13705409-1bc4-4420-a68e-3bc1fbfba94b"
      },
      "source": [
        "# Creates a confusion matrix\n",
        "cm = confusion_matrix(y_test, label)\n",
        "# Transform to df for easier plotting\n",
        "cm_df = pd.DataFrame(cm,\n",
        "                     index = target_names,\n",
        "                     columns = target_names)\n",
        "plt.figure(figsize=(8,5))\n",
        "sns.heatmap(cm_df, annot=True, fmt='g', cmap=plt.cm.Blues, cbar=False)\n",
        "plt.rcParams['font.size'] = 10\n",
        "plt.title('Predictions')\n",
        "plt.ylabel('True label')\n",
        "plt.xlabel('Predicted label')\n",
        "plt.show()"
      ],
      "execution_count": null,
      "outputs": [
        {
          "output_type": "display_data",
          "data": {
            "image/png": "[encoded data removed]",
            "text/plain": [
              "<Figure size 576x360 with 1 Axes>"
            ]
          },
          "metadata": {
            "tags": [],
            "needs_background": "light"
          }
        }
      ]
    }
  ]
}